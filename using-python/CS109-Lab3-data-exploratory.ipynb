{
 "metadata": {
  "name": "",
  "signature": "sha256:91887732b9f254f9c6f9c3d71333962cc56e1930187b930d61cc360c2814b0a5"
 },
 "nbformat": 3,
 "nbformat_minor": 0,
 "worksheets": [
  {
   "cells": [
    {
     "cell_type": "heading",
     "level": 1,
     "metadata": {},
     "source": [
      "Lab 3: Exploratory Data Analysis for Classification using Pandas and Matplotlib"
     ]
    },
    {
     "cell_type": "markdown",
     "metadata": {},
     "source": [
      "### Preliminary plotting stuff to get things going"
     ]
    },
    {
     "cell_type": "code",
     "collapsed": false,
     "input": [
      "%matplotlib inline\n",
      "import numpy as np\n",
      "import matplotlib.pyplot as plt\n",
      "import pandas as pd"
     ],
     "language": "python",
     "metadata": {},
     "outputs": [],
     "prompt_number": 3
    },
    {
     "cell_type": "code",
     "collapsed": false,
     "input": [
      "import brewer2mpl"
     ],
     "language": "python",
     "metadata": {},
     "outputs": [],
     "prompt_number": 5
    },
    {
     "cell_type": "code",
     "collapsed": false,
     "input": [
      "import brewer2mpl\n",
      "from matplotlib import rcParams\n",
      "\n",
      "#colorbrewer2 Dark2 qualitative color table\n",
      "dark2_cmap = brewer2mpl.get_map('Dark2', 'Qualitative', 7)\n",
      "dark2_colors = dark2_cmap.mpl_colors\n",
      "\n",
      "rcParams['figure.figsize'] = (10, 6)\n",
      "rcParams['figure.dpi'] = 150\n",
      "rcParams['axes.color_cycle'] = dark2_colors\n",
      "rcParams['lines.linewidth'] = 2\n",
      "rcParams['axes.facecolor'] = 'white'\n",
      "rcParams['font.size'] = 14\n",
      "rcParams['patch.edgecolor'] = 'white'\n",
      "rcParams['patch.facecolor'] = dark2_colors[0]\n",
      "rcParams['font.family'] = 'StixGeneral'\n",
      "\n",
      "\n",
      "def remove_border(axes=None, top=False, right=False, left=True, bottom=True):\n",
      "    \"\"\"\n",
      "    Minimize chartjunk by stripping out unnecesasry plot borders and axis ticks\n",
      "    \n",
      "    The top/right/left/bottom keywords toggle whether the corresponding plot border is drawn\n",
      "    \"\"\"\n",
      "    ax = axes or plt.gca()\n",
      "    ax.spines['top'].set_visible(top)\n",
      "    ax.spines['right'].set_visible(right)\n",
      "    ax.spines['left'].set_visible(left)\n",
      "    ax.spines['bottom'].set_visible(bottom)\n",
      "    \n",
      "    #turn off all ticks\n",
      "    ax.yaxis.set_ticks_position('none')\n",
      "    ax.xaxis.set_ticks_position('none')\n",
      "    \n",
      "    #now re-enable visibles\n",
      "    if top:\n",
      "        ax.xaxis.tick_top()\n",
      "    if bottom:\n",
      "        ax.xaxis.tick_bottom()\n",
      "    if left:\n",
      "        ax.yaxis.tick_left()\n",
      "    if right:\n",
      "        ax.yaxis.tick_right()"
     ],
     "language": "python",
     "metadata": {},
     "outputs": [],
     "prompt_number": 4
    },
    {
     "cell_type": "code",
     "collapsed": false,
     "input": [
      "pd.set_option('display.width', 500)\n",
      "pd.set_option('display.max_columns', 100)"
     ],
     "language": "python",
     "metadata": {},
     "outputs": [],
     "prompt_number": 5
    },
    {
     "cell_type": "markdown",
     "metadata": {},
     "source": [
      "##1. The Olive Oils dataset"
     ]
    },
    {
     "cell_type": "markdown",
     "metadata": {},
     "source": [
      "Some of the following text is taken from the rggobi book (http://www.ggobi.org/book/). It is an excellent book on visualization and EDA for classification, and is available freely as a pdf from Hollis for those with a Harvard Id. Even though the book uses ggobi, a lot of the same analysis can be done in Mondrian or directly in Matplotlib/Pandas (albeit not interactively)."
     ]
    },
    {
     "cell_type": "markdown",
     "metadata": {},
     "source": [
      "<hr/>\n",
      "\n",
      "\"The Olive Oils data has eight explanatory variables (levels of fatty acids in the oils) and nine classes (areas of Italy). The goal of the analysis is to develop rules that reliably distinguish oils from the nine different areas. It is a problem of practical interest, because oil from some areas is more highly valued and unscrupulous suppliers sometimes make false claims about the origin of their oil. The content of the oils is a subject of study in its own right: Olive oil has high nutritional value, and some of its constituent fatty acids are considered to be more beneficial than others.\"\n",
      "\n",
      "In addition, fatty acid contents vary with climate: this information is important in deciding which varieties to grow where.\n",
      "\n"
     ]
    },
    {
     "cell_type": "markdown",
     "metadata": {},
     "source": [
      "\"Source: Forina, M., Armanino, C., Lanteri, S. & Tiscornia, E. (1983), Classification of Olive Oils from their Fatty Acid Composition, in Martens, H. and\n",
      "Russwurm Jr., H., eds, Food Research and Data Analysis, Applied Science\n",
      "Publishers, London, pp. 189\u2013214. It was brought to our attention by Glover\n",
      "& Hopke (1992).\n",
      "\n",
      "Number of rows: 572\n",
      "\n",
      "Number of variables: 10\n",
      "\n",
      "Description: This data consists of the percentage composition of fatty acids\n",
      "found in the lipid fraction of Italian olive oils. The data arises from a study\n",
      "to determine the authenticity of an olive oil.\"\n",
      "<hr/>"
     ]
    },
    {
     "cell_type": "code",
     "collapsed": false,
     "input": [
      "from IPython.display import Image\n",
      "Image(filename='Italy.png')"
     ],
     "language": "python",
     "metadata": {},
     "outputs": [
      {
       "metadata": {},
       "output_type": "pyout",
       "png": "[encoded data removed]",
       "prompt_number": 8,
       "text": [
        "<IPython.core.display.Image at 0x107e35990>"
       ]
      }
     ],
     "prompt_number": 8
    },
    {
     "cell_type": "markdown",
     "metadata": {},
     "source": [
      "In working with python I always remember: a python is a duck.\n",
      "\n",
      "In working with pandas and matplotlib I dont always remember the syntax. A programmer is a good tool for converting Stack Overflow snippets into code. I almost always put what I am trying to do into google and go from there. \n",
      "\n",
      "That said, I found the following links very useful in understanding the Pandas mode, how things work.\n",
      "\n",
      "* http://blog.yhathq.com/posts/R-and-pandas-and-what-ive-learned-about-each.html\n",
      "* http://www.bearrelroll.com/2013/05/python-pandas-tutorial/\n",
      "* http://manishamde.github.io/blog/2013/03/07/pandas-and-python-top-10/"
     ]
    },
    {
     "cell_type": "markdown",
     "metadata": {},
     "source": [
      "##2. Loading and Cleaning"
     ]
    },
    {
     "cell_type": "markdown",
     "metadata": {},
     "source": [
      "Let's load the olive oil dataset into a pandas dataframe and have a look at the first 5 rows."
     ]
    },
    {
     "cell_type": "code",
     "collapsed": false,
     "input": [
      "df=pd.read_csv(\"data/olive.csv\")\n",
      "df.head(5)"
     ],
     "language": "python",
     "metadata": {},
     "outputs": [
      {
       "html": [
        "<div style=\"max-height:1000px;max-width:1500px;overflow:auto;\">\n",
        "<table border=\"1\" class=\"dataframe\">\n",
        "  <thead>\n",
        "    <tr style=\"text-align: right;\">\n",
        "      <th></th>\n",
        "      <th>Unnamed: 0</th>\n",
        "      <th>region</th>\n",
        "      <th>area</th>\n",
        "      <th>palmitic</th>\n",
        "      <th>palmitoleic</th>\n",
        "      <th>stearic</th>\n",
        "      <th>oleic</th>\n",
        "      <th>linoleic</th>\n",
        "      <th>linolenic</th>\n",
        "      <th>arachidic</th>\n",
        "      <th>eicosenoic</th>\n",
        "    </tr>\n",
        "  </thead>\n",
        "  <tbody>\n",
        "    <tr>\n",
        "      <th>0</th>\n",
        "      <td> 1.North-Apulia</td>\n",
        "      <td> 1</td>\n",
        "      <td> 1</td>\n",
        "      <td> 1075</td>\n",
        "      <td> 75</td>\n",
        "      <td> 226</td>\n",
        "      <td> 7823</td>\n",
        "      <td> 672</td>\n",
        "      <td> 36</td>\n",
        "      <td> 60</td>\n",
        "      <td> 29</td>\n",
        "    </tr>\n",
        "    <tr>\n",
        "      <th>1</th>\n",
        "      <td> 2.North-Apulia</td>\n",
        "      <td> 1</td>\n",
        "      <td> 1</td>\n",
        "      <td> 1088</td>\n",
        "      <td> 73</td>\n",
        "      <td> 224</td>\n",
        "      <td> 7709</td>\n",
        "      <td> 781</td>\n",
        "      <td> 31</td>\n",
        "      <td> 61</td>\n",
        "      <td> 29</td>\n",
        "    </tr>\n",
        "    <tr>\n",
        "      <th>2</th>\n",
        "      <td> 3.North-Apulia</td>\n",
        "      <td> 1</td>\n",
        "      <td> 1</td>\n",
        "      <td>  911</td>\n",
        "      <td> 54</td>\n",
        "      <td> 246</td>\n",
        "      <td> 8113</td>\n",
        "      <td> 549</td>\n",
        "      <td> 31</td>\n",
        "      <td> 63</td>\n",
        "      <td> 29</td>\n",
        "    </tr>\n",
        "    <tr>\n",
        "      <th>3</th>\n",
        "      <td> 4.North-Apulia</td>\n",
        "      <td> 1</td>\n",
        "      <td> 1</td>\n",
        "      <td>  966</td>\n",
        "      <td> 57</td>\n",
        "      <td> 240</td>\n",
        "      <td> 7952</td>\n",
        "      <td> 619</td>\n",
        "      <td> 50</td>\n",
        "      <td> 78</td>\n",
        "      <td> 35</td>\n",
        "    </tr>\n",
        "    <tr>\n",
        "      <th>4</th>\n",
        "      <td> 5.North-Apulia</td>\n",
        "      <td> 1</td>\n",
        "      <td> 1</td>\n",
        "      <td> 1051</td>\n",
        "      <td> 67</td>\n",
        "      <td> 259</td>\n",
        "      <td> 7771</td>\n",
        "      <td> 672</td>\n",
        "      <td> 50</td>\n",
        "      <td> 80</td>\n",
        "      <td> 46</td>\n",
        "    </tr>\n",
        "  </tbody>\n",
        "</table>\n",
        "</div>"
       ],
       "metadata": {},
       "output_type": "pyout",
       "prompt_number": 6,
       "text": [
        "       Unnamed: 0  region  area  palmitic  palmitoleic  stearic  oleic  linoleic  linolenic  arachidic  eicosenoic\n",
        "0  1.North-Apulia       1     1      1075           75      226   7823       672         36         60          29\n",
        "1  2.North-Apulia       1     1      1088           73      224   7709       781         31         61          29\n",
        "2  3.North-Apulia       1     1       911           54      246   8113       549         31         63          29\n",
        "3  4.North-Apulia       1     1       966           57      240   7952       619         50         78          35\n",
        "4  5.North-Apulia       1     1      1051           67      259   7771       672         50         80          46"
       ]
      }
     ],
     "prompt_number": 6
    },
    {
     "cell_type": "markdown",
     "metadata": {},
     "source": [
      "Let's rename that ugly first column. \n",
      "\n",
      "*Hint*: A Google search for 'python pandas dataframe rename' points you at this <a href=\"http://pandas.pydata.org/pandas-docs/dev/generated/pandas.DataFrame.rename.html\">documentation</a>."
     ]
    },
    {
     "cell_type": "code",
     "collapsed": false,
     "input": [
      "print df.columns\n",
      "print df.columns[0]\n",
      "df.rename(columns={df.columns[0]:'areastring'}, inplace = True)\n",
      "print df.columns"
     ],
     "language": "python",
     "metadata": {},
     "outputs": [
      {
       "output_type": "stream",
       "stream": "stdout",
       "text": [
        "Index([u'Unnamed: 0', u'region', u'area', u'palmitic', u'palmitoleic', u'stearic', u'oleic', u'linoleic', u'linolenic', u'arachidic', u'eicosenoic'], dtype='object')\n",
        "Unnamed: 0\n",
        "Index([u'areastring', u'region', u'area', u'palmitic', u'palmitoleic', u'stearic', u'oleic', u'linoleic', u'linolenic', u'arachidic', u'eicosenoic'], dtype='object')\n"
       ]
      }
     ],
     "prompt_number": 7
    },
    {
     "cell_type": "markdown",
     "metadata": {},
     "source": [
      "Let's explore. Which unique regions and areas are contained in the dataset?"
     ]
    },
    {
     "cell_type": "code",
     "collapsed": false,
     "input": [
      "print 'regions\\t', df.region.unique()\n",
      "print 'areas\\t', df.area.unique()"
     ],
     "language": "python",
     "metadata": {},
     "outputs": [
      {
       "output_type": "stream",
       "stream": "stdout",
       "text": [
        "regions\t[1 2 3]\n",
        "areas\t[1 2 3 4 5 6 9 7 8]\n"
       ]
      }
     ],
     "prompt_number": 17
    },
    {
     "cell_type": "markdown",
     "metadata": {},
     "source": [
      "Let's create a *crosstab*ulation or contingency table of the factors.\n",
      "\n",
      "*Hint*: A Google search for 'python pandas cross tabulation' points you at this <a href=\"http://pandas.pydata.org/pandas-docs/stable/reshaping.html#cross-tabulations\">documentation</a>.\n"
     ]
    },
    {
     "cell_type": "code",
     "collapsed": false,
     "input": [
      "pd.crosstab(df.area, df.region)"
     ],
     "language": "python",
     "metadata": {},
     "outputs": [
      {
       "html": [
        "<div style=\"max-height:1000px;max-width:1500px;overflow:auto;\">\n",
        "<table border=\"1\" class=\"dataframe\">\n",
        "  <thead>\n",
        "    <tr style=\"text-align: right;\">\n",
        "      <th>region</th>\n",
        "      <th>1</th>\n",
        "      <th>2</th>\n",
        "      <th>3</th>\n",
        "    </tr>\n",
        "    <tr>\n",
        "      <th>area</th>\n",
        "      <th></th>\n",
        "      <th></th>\n",
        "      <th></th>\n",
        "    </tr>\n",
        "  </thead>\n",
        "  <tbody>\n",
        "    <tr>\n",
        "      <th>1</th>\n",
        "      <td>  25</td>\n",
        "      <td>  0</td>\n",
        "      <td>  0</td>\n",
        "    </tr>\n",
        "    <tr>\n",
        "      <th>2</th>\n",
        "      <td>  56</td>\n",
        "      <td>  0</td>\n",
        "      <td>  0</td>\n",
        "    </tr>\n",
        "    <tr>\n",
        "      <th>3</th>\n",
        "      <td> 206</td>\n",
        "      <td>  0</td>\n",
        "      <td>  0</td>\n",
        "    </tr>\n",
        "    <tr>\n",
        "      <th>4</th>\n",
        "      <td>  36</td>\n",
        "      <td>  0</td>\n",
        "      <td>  0</td>\n",
        "    </tr>\n",
        "    <tr>\n",
        "      <th>5</th>\n",
        "      <td>   0</td>\n",
        "      <td> 65</td>\n",
        "      <td>  0</td>\n",
        "    </tr>\n",
        "    <tr>\n",
        "      <th>6</th>\n",
        "      <td>   0</td>\n",
        "      <td> 33</td>\n",
        "      <td>  0</td>\n",
        "    </tr>\n",
        "    <tr>\n",
        "      <th>7</th>\n",
        "      <td>   0</td>\n",
        "      <td>  0</td>\n",
        "      <td> 50</td>\n",
        "    </tr>\n",
        "    <tr>\n",
        "      <th>8</th>\n",
        "      <td>   0</td>\n",
        "      <td>  0</td>\n",
        "      <td> 50</td>\n",
        "    </tr>\n",
        "    <tr>\n",
        "      <th>9</th>\n",
        "      <td>   0</td>\n",
        "      <td>  0</td>\n",
        "      <td> 51</td>\n",
        "    </tr>\n",
        "  </tbody>\n",
        "</table>\n",
        "</div>"
       ],
       "metadata": {},
       "output_type": "pyout",
       "prompt_number": 8,
       "text": [
        "region    1   2   3\n",
        "area               \n",
        "1        25   0   0\n",
        "2        56   0   0\n",
        "3       206   0   0\n",
        "4        36   0   0\n",
        "5         0  65   0\n",
        "6         0  33   0\n",
        "7         0   0  50\n",
        "8         0   0  50\n",
        "9         0   0  51"
       ]
      }
     ],
     "prompt_number": 8
    },
    {
     "cell_type": "markdown",
     "metadata": {},
     "source": [
      "Do we need to clean the dataset before we can explore it a little more? Let's have a look."
     ]
    },
    {
     "cell_type": "code",
     "collapsed": false,
     "input": [
      "df.head()"
     ],
     "language": "python",
     "metadata": {},
     "outputs": [
      {
       "html": [
        "<div style=\"max-height:1000px;max-width:1500px;overflow:auto;\">\n",
        "<table border=\"1\" class=\"dataframe\">\n",
        "  <thead>\n",
        "    <tr style=\"text-align: right;\">\n",
        "      <th></th>\n",
        "      <th>areastring</th>\n",
        "      <th>region</th>\n",
        "      <th>area</th>\n",
        "      <th>palmitic</th>\n",
        "      <th>palmitoleic</th>\n",
        "      <th>stearic</th>\n",
        "      <th>oleic</th>\n",
        "      <th>linoleic</th>\n",
        "      <th>linolenic</th>\n",
        "      <th>arachidic</th>\n",
        "      <th>eicosenoic</th>\n",
        "    </tr>\n",
        "  </thead>\n",
        "  <tbody>\n",
        "    <tr>\n",
        "      <th>0</th>\n",
        "      <td> 1.North-Apulia</td>\n",
        "      <td> 1</td>\n",
        "      <td> 1</td>\n",
        "      <td> 1075</td>\n",
        "      <td> 75</td>\n",
        "      <td> 226</td>\n",
        "      <td> 7823</td>\n",
        "      <td> 672</td>\n",
        "      <td> 36</td>\n",
        "      <td> 60</td>\n",
        "      <td> 29</td>\n",
        "    </tr>\n",
        "    <tr>\n",
        "      <th>1</th>\n",
        "      <td> 2.North-Apulia</td>\n",
        "      <td> 1</td>\n",
        "      <td> 1</td>\n",
        "      <td> 1088</td>\n",
        "      <td> 73</td>\n",
        "      <td> 224</td>\n",
        "      <td> 7709</td>\n",
        "      <td> 781</td>\n",
        "      <td> 31</td>\n",
        "      <td> 61</td>\n",
        "      <td> 29</td>\n",
        "    </tr>\n",
        "    <tr>\n",
        "      <th>2</th>\n",
        "      <td> 3.North-Apulia</td>\n",
        "      <td> 1</td>\n",
        "      <td> 1</td>\n",
        "      <td>  911</td>\n",
        "      <td> 54</td>\n",
        "      <td> 246</td>\n",
        "      <td> 8113</td>\n",
        "      <td> 549</td>\n",
        "      <td> 31</td>\n",
        "      <td> 63</td>\n",
        "      <td> 29</td>\n",
        "    </tr>\n",
        "    <tr>\n",
        "      <th>3</th>\n",
        "      <td> 4.North-Apulia</td>\n",
        "      <td> 1</td>\n",
        "      <td> 1</td>\n",
        "      <td>  966</td>\n",
        "      <td> 57</td>\n",
        "      <td> 240</td>\n",
        "      <td> 7952</td>\n",
        "      <td> 619</td>\n",
        "      <td> 50</td>\n",
        "      <td> 78</td>\n",
        "      <td> 35</td>\n",
        "    </tr>\n",
        "    <tr>\n",
        "      <th>4</th>\n",
        "      <td> 5.North-Apulia</td>\n",
        "      <td> 1</td>\n",
        "      <td> 1</td>\n",
        "      <td> 1051</td>\n",
        "      <td> 67</td>\n",
        "      <td> 259</td>\n",
        "      <td> 7771</td>\n",
        "      <td> 672</td>\n",
        "      <td> 50</td>\n",
        "      <td> 80</td>\n",
        "      <td> 46</td>\n",
        "    </tr>\n",
        "  </tbody>\n",
        "</table>\n",
        "</div>"
       ],
       "metadata": {},
       "output_type": "pyout",
       "prompt_number": 9,
       "text": [
        "       areastring  region  area  palmitic  palmitoleic  stearic  oleic  linoleic  linolenic  arachidic  eicosenoic\n",
        "0  1.North-Apulia       1     1      1075           75      226   7823       672         36         60          29\n",
        "1  2.North-Apulia       1     1      1088           73      224   7709       781         31         61          29\n",
        "2  3.North-Apulia       1     1       911           54      246   8113       549         31         63          29\n",
        "3  4.North-Apulia       1     1       966           57      240   7952       619         50         78          35\n",
        "4  5.North-Apulia       1     1      1051           67      259   7771       672         50         80          46"
       ]
      }
     ],
     "prompt_number": 9
    },
    {
     "cell_type": "markdown",
     "metadata": {},
     "source": [
      "Let's get rid of the junk numbering in `df.areastring`. For single column Pandas Series we use `map`. Here's the <a href=\"http://pandas.pydata.org/pandas-docs/dev/generated/pandas.Series.map.html\">documentation</a>."
     ]
    },
    {
     "cell_type": "code",
     "collapsed": false,
     "input": [
      "df.areastring = df.areastring.map(lambda x: x.split('.')[-1])\n",
      "df.head()"
     ],
     "language": "python",
     "metadata": {},
     "outputs": [
      {
       "html": [
        "<div style=\"max-height:1000px;max-width:1500px;overflow:auto;\">\n",
        "<table border=\"1\" class=\"dataframe\">\n",
        "  <thead>\n",
        "    <tr style=\"text-align: right;\">\n",
        "      <th></th>\n",
        "      <th>areastring</th>\n",
        "      <th>region</th>\n",
        "      <th>area</th>\n",
        "      <th>palmitic</th>\n",
        "      <th>palmitoleic</th>\n",
        "      <th>stearic</th>\n",
        "      <th>oleic</th>\n",
        "      <th>linoleic</th>\n",
        "      <th>linolenic</th>\n",
        "      <th>arachidic</th>\n",
        "      <th>eicosenoic</th>\n",
        "    </tr>\n",
        "  </thead>\n",
        "  <tbody>\n",
        "    <tr>\n",
        "      <th>0</th>\n",
        "      <td> North-Apulia</td>\n",
        "      <td> 1</td>\n",
        "      <td> 1</td>\n",
        "      <td> 1075</td>\n",
        "      <td> 75</td>\n",
        "      <td> 226</td>\n",
        "      <td> 7823</td>\n",
        "      <td> 672</td>\n",
        "      <td> 36</td>\n",
        "      <td> 60</td>\n",
        "      <td> 29</td>\n",
        "    </tr>\n",
        "    <tr>\n",
        "      <th>1</th>\n",
        "      <td> North-Apulia</td>\n",
        "      <td> 1</td>\n",
        "      <td> 1</td>\n",
        "      <td> 1088</td>\n",
        "      <td> 73</td>\n",
        "      <td> 224</td>\n",
        "      <td> 7709</td>\n",
        "      <td> 781</td>\n",
        "      <td> 31</td>\n",
        "      <td> 61</td>\n",
        "      <td> 29</td>\n",
        "    </tr>\n",
        "    <tr>\n",
        "      <th>2</th>\n",
        "      <td> North-Apulia</td>\n",
        "      <td> 1</td>\n",
        "      <td> 1</td>\n",
        "      <td>  911</td>\n",
        "      <td> 54</td>\n",
        "      <td> 246</td>\n",
        "      <td> 8113</td>\n",
        "      <td> 549</td>\n",
        "      <td> 31</td>\n",
        "      <td> 63</td>\n",
        "      <td> 29</td>\n",
        "    </tr>\n",
        "    <tr>\n",
        "      <th>3</th>\n",
        "      <td> North-Apulia</td>\n",
        "      <td> 1</td>\n",
        "      <td> 1</td>\n",
        "      <td>  966</td>\n",
        "      <td> 57</td>\n",
        "      <td> 240</td>\n",
        "      <td> 7952</td>\n",
        "      <td> 619</td>\n",
        "      <td> 50</td>\n",
        "      <td> 78</td>\n",
        "      <td> 35</td>\n",
        "    </tr>\n",
        "    <tr>\n",
        "      <th>4</th>\n",
        "      <td> North-Apulia</td>\n",
        "      <td> 1</td>\n",
        "      <td> 1</td>\n",
        "      <td> 1051</td>\n",
        "      <td> 67</td>\n",
        "      <td> 259</td>\n",
        "      <td> 7771</td>\n",
        "      <td> 672</td>\n",
        "      <td> 50</td>\n",
        "      <td> 80</td>\n",
        "      <td> 46</td>\n",
        "    </tr>\n",
        "  </tbody>\n",
        "</table>\n",
        "</div>"
       ],
       "metadata": {},
       "output_type": "pyout",
       "prompt_number": 13,
       "text": [
        "     areastring  region  area  palmitic  palmitoleic  stearic  oleic  linoleic  linolenic  arachidic  eicosenoic\n",
        "0  North-Apulia       1     1      1075           75      226   7823       672         36         60          29\n",
        "1  North-Apulia       1     1      1088           73      224   7709       781         31         61          29\n",
        "2  North-Apulia       1     1       911           54      246   8113       549         31         63          29\n",
        "3  North-Apulia       1     1       966           57      240   7952       619         50         78          35\n",
        "4  North-Apulia       1     1      1051           67      259   7771       672         50         80          46"
       ]
      }
     ],
     "prompt_number": 13
    },
    {
     "cell_type": "code",
     "collapsed": false,
     "input": [
      "str = \"1.north-america\"\n",
      "strsplit = str.split('.')\n",
      "strsplit[0]\n",
      "strsplit[-1]"
     ],
     "language": "python",
     "metadata": {},
     "outputs": [
      {
       "metadata": {},
       "output_type": "pyout",
       "prompt_number": 17,
       "text": [
        "'north-america'"
       ]
      }
     ],
     "prompt_number": 17
    },
    {
     "cell_type": "markdown",
     "metadata": {},
     "source": [
      "To access a specific subset of columns of a dataframe, we can use list indexing."
     ]
    },
    {
     "cell_type": "code",
     "collapsed": false,
     "input": [
      "df[['palmitic','oleic']].head()"
     ],
     "language": "python",
     "metadata": {},
     "outputs": [
      {
       "html": [
        "<div style=\"max-height:1000px;max-width:1500px;overflow:auto;\">\n",
        "<table border=\"1\" class=\"dataframe\">\n",
        "  <thead>\n",
        "    <tr style=\"text-align: right;\">\n",
        "      <th></th>\n",
        "      <th>palmitic</th>\n",
        "      <th>oleic</th>\n",
        "    </tr>\n",
        "  </thead>\n",
        "  <tbody>\n",
        "    <tr>\n",
        "      <th>0</th>\n",
        "      <td> 1075</td>\n",
        "      <td> 7823</td>\n",
        "    </tr>\n",
        "    <tr>\n",
        "      <th>1</th>\n",
        "      <td> 1088</td>\n",
        "      <td> 7709</td>\n",
        "    </tr>\n",
        "    <tr>\n",
        "      <th>2</th>\n",
        "      <td>  911</td>\n",
        "      <td> 8113</td>\n",
        "    </tr>\n",
        "    <tr>\n",
        "      <th>3</th>\n",
        "      <td>  966</td>\n",
        "      <td> 7952</td>\n",
        "    </tr>\n",
        "    <tr>\n",
        "      <th>4</th>\n",
        "      <td> 1051</td>\n",
        "      <td> 7771</td>\n",
        "    </tr>\n",
        "  </tbody>\n",
        "</table>\n",
        "</div>"
       ],
       "metadata": {},
       "output_type": "pyout",
       "prompt_number": 18,
       "text": [
        "   palmitic  oleic\n",
        "0      1075   7823\n",
        "1      1088   7709\n",
        "2       911   8113\n",
        "3       966   7952\n",
        "4      1051   7771"
       ]
      }
     ],
     "prompt_number": 18
    },
    {
     "cell_type": "markdown",
     "metadata": {},
     "source": [
      "Notice that this returns a new object of type DataFrame."
     ]
    },
    {
     "cell_type": "markdown",
     "metadata": {},
     "source": [
      "To access the series of entries of a single column, we could do the following."
     ]
    },
    {
     "cell_type": "code",
     "collapsed": false,
     "input": [
      "print df['palmitic']"
     ],
     "language": "python",
     "metadata": {},
     "outputs": [
      {
       "output_type": "stream",
       "stream": "stdout",
       "text": [
        "0     1075\n",
        "1     1088\n",
        "2      911\n",
        "3      966\n",
        "4     1051\n",
        "5      911\n",
        "6      922\n",
        "7     1100\n",
        "8     1082\n",
        "9     1037\n",
        "10    1051\n",
        "11    1036\n",
        "12    1074\n",
        "13     875\n",
        "14     952\n",
        "...\n",
        "557    1010\n",
        "558    1020\n",
        "559    1120\n",
        "560    1090\n",
        "561    1100\n",
        "562    1090\n",
        "563    1150\n",
        "564    1110\n",
        "565    1010\n",
        "566    1070\n",
        "567    1280\n",
        "568    1060\n",
        "569    1010\n",
        "570     990\n",
        "571     960\n",
        "Name: palmitic, Length: 572, dtype: int64\n"
       ]
      }
     ],
     "prompt_number": 19
    },
    {
     "cell_type": "markdown",
     "metadata": {},
     "source": [
      "Notice the difference in the syntax. In the first example where we used list indexing we got a new DataFrame. In the second example we got a series corresponding to the column. "
     ]
    },
    {
     "cell_type": "code",
     "collapsed": false,
     "input": [
      "print \"type of df[['palmitic']]:\\t\", type(df[['palmitic']]) \n",
      "print \"type of df['palmitic']:\\t\\t\", type(df['palmitic'])"
     ],
     "language": "python",
     "metadata": {},
     "outputs": [
      {
       "output_type": "stream",
       "stream": "stdout",
       "text": [
        "type of df[['palmitic']]:\t<class 'pandas.core.frame.DataFrame'>\n",
        "type of df['palmitic']:\t\t<class 'pandas.core.series.Series'>\n"
       ]
      }
     ],
     "prompt_number": 20
    },
    {
     "cell_type": "markdown",
     "metadata": {},
     "source": [
      "To access the series of values of a single column more conveniently, we can do this:"
     ]
    },
    {
     "cell_type": "code",
     "collapsed": false,
     "input": [
      "df.palmitic"
     ],
     "language": "python",
     "metadata": {},
     "outputs": [
      {
       "metadata": {},
       "output_type": "pyout",
       "prompt_number": 21,
       "text": [
        "0     1075\n",
        "1     1088\n",
        "2      911\n",
        "3      966\n",
        "4     1051\n",
        "5      911\n",
        "6      922\n",
        "7     1100\n",
        "8     1082\n",
        "9     1037\n",
        "10    1051\n",
        "11    1036\n",
        "12    1074\n",
        "13     875\n",
        "14     952\n",
        "...\n",
        "557    1010\n",
        "558    1020\n",
        "559    1120\n",
        "560    1090\n",
        "561    1100\n",
        "562    1090\n",
        "563    1150\n",
        "564    1110\n",
        "565    1010\n",
        "566    1070\n",
        "567    1280\n",
        "568    1060\n",
        "569    1010\n",
        "570     990\n",
        "571     960\n",
        "Name: palmitic, Length: 572, dtype: int64"
       ]
      }
     ],
     "prompt_number": 21
    },
    {
     "cell_type": "markdown",
     "metadata": {},
     "source": [
      "### YOUR TURN NOW (10 minutes)"
     ]
    },
    {
     "cell_type": "markdown",
     "metadata": {},
     "source": [
      "Get the unique areastrings of the dataframe `df`."
     ]
    },
    {
     "cell_type": "code",
     "collapsed": false,
     "input": [
      "#your code here\n",
      "df.areastring.unique()"
     ],
     "language": "python",
     "metadata": {},
     "outputs": [
      {
       "metadata": {},
       "output_type": "pyout",
       "prompt_number": 22,
       "text": [
        "array(['North-Apulia', 'Calabria', 'South-Apulia', 'Sicily',\n",
        "       'Inland-Sardinia', 'Coast-Sardinia', 'Umbria', 'East-Liguria',\n",
        "       'West-Liguria'], dtype=object)"
       ]
      }
     ],
     "prompt_number": 22
    },
    {
     "cell_type": "markdown",
     "metadata": {},
     "source": [
      "Create a new dataframe `dfsub` by taking the list of acids and using pandas' `apply` function to divide all values by 100.\n",
      "\n",
      "If you're not familiar with pandas' `apply` function, a Google search for 'python pandas dataframe apply' points you to the <a href=\"http://pandas.pydata.org/pandas-docs/dev/generated/pandas.DataFrame.apply.html\">documentation</a>"
     ]
    },
    {
     "cell_type": "code",
     "collapsed": false,
     "input": [
      "acidlist=['palmitic', 'palmitoleic', 'stearic', 'oleic', 'linoleic', 'linolenic', 'arachidic', 'eicosenoic']\n",
      "\n",
      "#your code here\n",
      "dfsub = df[acidlist].apply(lambda x: x / 100.)\n",
      "dfsub.head()"
     ],
     "language": "python",
     "metadata": {},
     "outputs": [
      {
       "html": [
        "<div style=\"max-height:1000px;max-width:1500px;overflow:auto;\">\n",
        "<table border=\"1\" class=\"dataframe\">\n",
        "  <thead>\n",
        "    <tr style=\"text-align: right;\">\n",
        "      <th></th>\n",
        "      <th>palmitic</th>\n",
        "      <th>palmitoleic</th>\n",
        "      <th>stearic</th>\n",
        "      <th>oleic</th>\n",
        "      <th>linoleic</th>\n",
        "      <th>linolenic</th>\n",
        "      <th>arachidic</th>\n",
        "      <th>eicosenoic</th>\n",
        "    </tr>\n",
        "  </thead>\n",
        "  <tbody>\n",
        "    <tr>\n",
        "      <th>0</th>\n",
        "      <td> 10.75</td>\n",
        "      <td> 0.75</td>\n",
        "      <td> 2.26</td>\n",
        "      <td> 78.23</td>\n",
        "      <td> 6.72</td>\n",
        "      <td> 0.36</td>\n",
        "      <td> 0.60</td>\n",
        "      <td> 0.29</td>\n",
        "    </tr>\n",
        "    <tr>\n",
        "      <th>1</th>\n",
        "      <td> 10.88</td>\n",
        "      <td> 0.73</td>\n",
        "      <td> 2.24</td>\n",
        "      <td> 77.09</td>\n",
        "      <td> 7.81</td>\n",
        "      <td> 0.31</td>\n",
        "      <td> 0.61</td>\n",
        "      <td> 0.29</td>\n",
        "    </tr>\n",
        "    <tr>\n",
        "      <th>2</th>\n",
        "      <td>  9.11</td>\n",
        "      <td> 0.54</td>\n",
        "      <td> 2.46</td>\n",
        "      <td> 81.13</td>\n",
        "      <td> 5.49</td>\n",
        "      <td> 0.31</td>\n",
        "      <td> 0.63</td>\n",
        "      <td> 0.29</td>\n",
        "    </tr>\n",
        "    <tr>\n",
        "      <th>3</th>\n",
        "      <td>  9.66</td>\n",
        "      <td> 0.57</td>\n",
        "      <td> 2.40</td>\n",
        "      <td> 79.52</td>\n",
        "      <td> 6.19</td>\n",
        "      <td> 0.50</td>\n",
        "      <td> 0.78</td>\n",
        "      <td> 0.35</td>\n",
        "    </tr>\n",
        "    <tr>\n",
        "      <th>4</th>\n",
        "      <td> 10.51</td>\n",
        "      <td> 0.67</td>\n",
        "      <td> 2.59</td>\n",
        "      <td> 77.71</td>\n",
        "      <td> 6.72</td>\n",
        "      <td> 0.50</td>\n",
        "      <td> 0.80</td>\n",
        "      <td> 0.46</td>\n",
        "    </tr>\n",
        "  </tbody>\n",
        "</table>\n",
        "</div>"
       ],
       "metadata": {},
       "output_type": "pyout",
       "prompt_number": 24,
       "text": [
        "   palmitic  palmitoleic  stearic  oleic  linoleic  linolenic  arachidic  eicosenoic\n",
        "0     10.75         0.75     2.26  78.23      6.72       0.36       0.60        0.29\n",
        "1     10.88         0.73     2.24  77.09      7.81       0.31       0.61        0.29\n",
        "2      9.11         0.54     2.46  81.13      5.49       0.31       0.63        0.29\n",
        "3      9.66         0.57     2.40  79.52      6.19       0.50       0.78        0.35\n",
        "4     10.51         0.67     2.59  77.71      6.72       0.50       0.80        0.46"
       ]
      }
     ],
     "prompt_number": 24
    },
    {
     "cell_type": "markdown",
     "metadata": {},
     "source": [
      "Notice that we can replace part of the dataframe by this new frame. Since we need the percentages, let's do this. The `Oleic` percentages should be in the 70s and 80s if you did this right."
     ]
    },
    {
     "cell_type": "code",
     "collapsed": false,
     "input": [
      "df[acidlist]=dfsub\n",
      "df.head()"
     ],
     "language": "python",
     "metadata": {},
     "outputs": [
      {
       "html": [
        "<div style=\"max-height:1000px;max-width:1500px;overflow:auto;\">\n",
        "<table border=\"1\" class=\"dataframe\">\n",
        "  <thead>\n",
        "    <tr style=\"text-align: right;\">\n",
        "      <th></th>\n",
        "      <th>areastring</th>\n",
        "      <th>region</th>\n",
        "      <th>area</th>\n",
        "      <th>palmitic</th>\n",
        "      <th>palmitoleic</th>\n",
        "      <th>stearic</th>\n",
        "      <th>oleic</th>\n",
        "      <th>linoleic</th>\n",
        "      <th>linolenic</th>\n",
        "      <th>arachidic</th>\n",
        "      <th>eicosenoic</th>\n",
        "    </tr>\n",
        "  </thead>\n",
        "  <tbody>\n",
        "    <tr>\n",
        "      <th>0</th>\n",
        "      <td> North-Apulia</td>\n",
        "      <td> 1</td>\n",
        "      <td> 1</td>\n",
        "      <td> 10.75</td>\n",
        "      <td> 0.75</td>\n",
        "      <td> 2.26</td>\n",
        "      <td> 78.23</td>\n",
        "      <td> 6.72</td>\n",
        "      <td> 0.36</td>\n",
        "      <td> 0.60</td>\n",
        "      <td> 0.29</td>\n",
        "    </tr>\n",
        "    <tr>\n",
        "      <th>1</th>\n",
        "      <td> North-Apulia</td>\n",
        "      <td> 1</td>\n",
        "      <td> 1</td>\n",
        "      <td> 10.88</td>\n",
        "      <td> 0.73</td>\n",
        "      <td> 2.24</td>\n",
        "      <td> 77.09</td>\n",
        "      <td> 7.81</td>\n",
        "      <td> 0.31</td>\n",
        "      <td> 0.61</td>\n",
        "      <td> 0.29</td>\n",
        "    </tr>\n",
        "    <tr>\n",
        "      <th>2</th>\n",
        "      <td> North-Apulia</td>\n",
        "      <td> 1</td>\n",
        "      <td> 1</td>\n",
        "      <td>  9.11</td>\n",
        "      <td> 0.54</td>\n",
        "      <td> 2.46</td>\n",
        "      <td> 81.13</td>\n",
        "      <td> 5.49</td>\n",
        "      <td> 0.31</td>\n",
        "      <td> 0.63</td>\n",
        "      <td> 0.29</td>\n",
        "    </tr>\n",
        "    <tr>\n",
        "      <th>3</th>\n",
        "      <td> North-Apulia</td>\n",
        "      <td> 1</td>\n",
        "      <td> 1</td>\n",
        "      <td>  9.66</td>\n",
        "      <td> 0.57</td>\n",
        "      <td> 2.40</td>\n",
        "      <td> 79.52</td>\n",
        "      <td> 6.19</td>\n",
        "      <td> 0.50</td>\n",
        "      <td> 0.78</td>\n",
        "      <td> 0.35</td>\n",
        "    </tr>\n",
        "    <tr>\n",
        "      <th>4</th>\n",
        "      <td> North-Apulia</td>\n",
        "      <td> 1</td>\n",
        "      <td> 1</td>\n",
        "      <td> 10.51</td>\n",
        "      <td> 0.67</td>\n",
        "      <td> 2.59</td>\n",
        "      <td> 77.71</td>\n",
        "      <td> 6.72</td>\n",
        "      <td> 0.50</td>\n",
        "      <td> 0.80</td>\n",
        "      <td> 0.46</td>\n",
        "    </tr>\n",
        "  </tbody>\n",
        "</table>\n",
        "</div>"
       ],
       "metadata": {},
       "output_type": "pyout",
       "prompt_number": 25,
       "text": [
        "     areastring  region  area  palmitic  palmitoleic  stearic  oleic  linoleic  linolenic  arachidic  eicosenoic\n",
        "0  North-Apulia       1     1     10.75         0.75     2.26  78.23      6.72       0.36       0.60        0.29\n",
        "1  North-Apulia       1     1     10.88         0.73     2.24  77.09      7.81       0.31       0.61        0.29\n",
        "2  North-Apulia       1     1      9.11         0.54     2.46  81.13      5.49       0.31       0.63        0.29\n",
        "3  North-Apulia       1     1      9.66         0.57     2.40  79.52      6.19       0.50       0.78        0.35\n",
        "4  North-Apulia       1     1     10.51         0.67     2.59  77.71      6.72       0.50       0.80        0.46"
       ]
      }
     ],
     "prompt_number": 25
    },
    {
     "cell_type": "markdown",
     "metadata": {},
     "source": [
      "##2. Quick Intro to Matplotlib"
     ]
    },
    {
     "cell_type": "markdown",
     "metadata": {},
     "source": [
      "This is just a quick and dirty intro. Please read the excellent tutorial <a href=\"http://nbviewer.ipython.org/urls/raw.github.com/jrjohansson/scientific-python-lectures/master/Lecture-4-Matplotlib.ipynb\">here</a>."
     ]
    },
    {
     "cell_type": "code",
     "collapsed": false,
     "input": [
      "fig=plt.figure()\n",
      "plt.scatter(df.palmitic, df.linolenic)\n",
      "axis = fig.gca() #get current axis\n",
      "axis.set_title('linolenic vs palmitic')\n",
      "axis.set_xlabel('palmitic')\n",
      "axis.set_ylabel('linolenic')\n",
      "#fig can be got with fig.gcf()"
     ],
     "language": "python",
     "metadata": {},
     "outputs": [
      {
       "metadata": {},
       "output_type": "pyout",
       "prompt_number": 26,
       "text": [
        "<matplotlib.text.Text at 0x1092e65d0>"
       ]
      },
      {
       "metadata": {},
       "output_type": "display_data",
       "png": "[encoded data removed]",
       "text": [
        "<matplotlib.figure.Figure at 0x1092e4790>"
       ]
      }
     ],
     "prompt_number": 26
    },
    {
     "cell_type": "code",
     "collapsed": false,
     "input": [
      "plt.hist(df.palmitic)"
     ],
     "language": "python",
     "metadata": {},
     "outputs": [
      {
       "metadata": {},
       "output_type": "pyout",
       "prompt_number": 27,
       "text": [
        "(array([   1.,    0.,   11.,   71.,  188.,   79.,  131.,   73.,    9.,    9.]),\n",
        " array([  6.1  ,   7.243,   8.386,   9.529,  10.672,  11.815,  12.958,\n",
        "         14.101,  15.244,  16.387,  17.53 ]),\n",
        " <a list of 10 Patch objects>)"
       ]
      },
      {
       "metadata": {},
       "output_type": "display_data",
       "png": "[encoded data removed]",
       "text": [
        "<matplotlib.figure.Figure at 0x1092b6690>"
       ]
      }
     ],
     "prompt_number": 27
    },
    {
     "cell_type": "markdown",
     "metadata": {},
     "source": [
      "There are many many more kinds of plots."
     ]
    },
    {
     "cell_type": "markdown",
     "metadata": {},
     "source": [
      "A more object oriented approach sees us using the `subplots` function to set both figure and axis."
     ]
    },
    {
     "cell_type": "code",
     "collapsed": false,
     "input": [
      "fig, axes=plt.subplots(figsize=(10,10), nrows=2, ncols=2)\n",
      "axes[0][0].plot(df.palmitic, df.linolenic)\n",
      "axes[0][1].plot(df.palmitic, df.linolenic, '.')\n",
      "axes[1][0].scatter(df.palmitic, df.linolenic)\n",
      "axes[1][1].hist(df.palmitic)\n",
      "fig.tight_layout()"
     ],
     "language": "python",
     "metadata": {},
     "outputs": [
      {
       "metadata": {},
       "output_type": "display_data",
       "png": "[encoded data removed]",
       "text": [
        "<matplotlib.figure.Figure at 0x109309350>"
       ]
      }
     ],
     "prompt_number": 28
    },
    {
     "cell_type": "markdown",
     "metadata": {},
     "source": [
      "###YOUR TURN NOW (10 minutes)\n",
      "\n",
      "Make scatterplots of the acids in the list `yacids` against the acids in the list `xacids`. As the names suggest, plot the acids in `yacids` along the y axis and the acids in `xacids` along the x axis. Label the axes with the respective acid name. Set it up as a grid with 3 rows and 2 columns."
     ]
    },
    {
     "cell_type": "code",
     "collapsed": false,
     "input": [
      "xacids=['oleic','linolenic','eicosenoic']\n",
      "yacids=['stearic','arachidic']\n",
      "\n",
      "#your code here\n"
     ],
     "language": "python",
     "metadata": {},
     "outputs": [],
     "prompt_number": 22
    },
    {
     "cell_type": "markdown",
     "metadata": {},
     "source": [
      "##3. Pandas Data Munging"
     ]
    },
    {
     "cell_type": "markdown",
     "metadata": {},
     "source": [
      "The first concept we deal with here is pandas `groupby`. The idea is to group a dataframe by the values of a particular factor variable. The documentation can be found <a href=\"http://pandas.pydata.org/pandas-docs/dev/groupby.html\">here</a>."
     ]
    },
    {
     "cell_type": "code",
     "collapsed": false,
     "input": [
      "region_groupby = df.groupby('region')\n",
      "print type(region_groupby)\n",
      "region_groupby.head()"
     ],
     "language": "python",
     "metadata": {},
     "outputs": [
      {
       "output_type": "stream",
       "stream": "stdout",
       "text": [
        "<class 'pandas.core.groupby.DataFrameGroupBy'>\n"
       ]
      },
      {
       "html": [
        "<div style=\"max-height:1000px;max-width:1500px;overflow:auto;\">\n",
        "<table border=\"1\" class=\"dataframe\">\n",
        "  <thead>\n",
        "    <tr style=\"text-align: right;\">\n",
        "      <th></th>\n",
        "      <th>areastring</th>\n",
        "      <th>region</th>\n",
        "      <th>area</th>\n",
        "      <th>palmitic</th>\n",
        "      <th>palmitoleic</th>\n",
        "      <th>stearic</th>\n",
        "      <th>oleic</th>\n",
        "      <th>linoleic</th>\n",
        "      <th>linolenic</th>\n",
        "      <th>arachidic</th>\n",
        "      <th>eicosenoic</th>\n",
        "    </tr>\n",
        "  </thead>\n",
        "  <tbody>\n",
        "    <tr>\n",
        "      <th>0  </th>\n",
        "      <td>      1.North-Apulia</td>\n",
        "      <td> 1</td>\n",
        "      <td> 1</td>\n",
        "      <td> 1075</td>\n",
        "      <td>  75</td>\n",
        "      <td> 226</td>\n",
        "      <td> 7823</td>\n",
        "      <td>  672</td>\n",
        "      <td> 36</td>\n",
        "      <td> 60</td>\n",
        "      <td> 29</td>\n",
        "    </tr>\n",
        "    <tr>\n",
        "      <th>1  </th>\n",
        "      <td>      2.North-Apulia</td>\n",
        "      <td> 1</td>\n",
        "      <td> 1</td>\n",
        "      <td> 1088</td>\n",
        "      <td>  73</td>\n",
        "      <td> 224</td>\n",
        "      <td> 7709</td>\n",
        "      <td>  781</td>\n",
        "      <td> 31</td>\n",
        "      <td> 61</td>\n",
        "      <td> 29</td>\n",
        "    </tr>\n",
        "    <tr>\n",
        "      <th>2  </th>\n",
        "      <td>      3.North-Apulia</td>\n",
        "      <td> 1</td>\n",
        "      <td> 1</td>\n",
        "      <td>  911</td>\n",
        "      <td>  54</td>\n",
        "      <td> 246</td>\n",
        "      <td> 8113</td>\n",
        "      <td>  549</td>\n",
        "      <td> 31</td>\n",
        "      <td> 63</td>\n",
        "      <td> 29</td>\n",
        "    </tr>\n",
        "    <tr>\n",
        "      <th>3  </th>\n",
        "      <td>      4.North-Apulia</td>\n",
        "      <td> 1</td>\n",
        "      <td> 1</td>\n",
        "      <td>  966</td>\n",
        "      <td>  57</td>\n",
        "      <td> 240</td>\n",
        "      <td> 7952</td>\n",
        "      <td>  619</td>\n",
        "      <td> 50</td>\n",
        "      <td> 78</td>\n",
        "      <td> 35</td>\n",
        "    </tr>\n",
        "    <tr>\n",
        "      <th>4  </th>\n",
        "      <td>      5.North-Apulia</td>\n",
        "      <td> 1</td>\n",
        "      <td> 1</td>\n",
        "      <td> 1051</td>\n",
        "      <td>  67</td>\n",
        "      <td> 259</td>\n",
        "      <td> 7771</td>\n",
        "      <td>  672</td>\n",
        "      <td> 50</td>\n",
        "      <td> 80</td>\n",
        "      <td> 46</td>\n",
        "    </tr>\n",
        "    <tr>\n",
        "      <th>323</th>\n",
        "      <td> 324.Inland-Sardinia</td>\n",
        "      <td> 2</td>\n",
        "      <td> 5</td>\n",
        "      <td> 1129</td>\n",
        "      <td> 120</td>\n",
        "      <td> 222</td>\n",
        "      <td> 7272</td>\n",
        "      <td> 1112</td>\n",
        "      <td> 43</td>\n",
        "      <td> 98</td>\n",
        "      <td>  2</td>\n",
        "    </tr>\n",
        "    <tr>\n",
        "      <th>324</th>\n",
        "      <td> 325.Inland-Sardinia</td>\n",
        "      <td> 2</td>\n",
        "      <td> 5</td>\n",
        "      <td> 1042</td>\n",
        "      <td> 135</td>\n",
        "      <td> 210</td>\n",
        "      <td> 7376</td>\n",
        "      <td> 1116</td>\n",
        "      <td> 35</td>\n",
        "      <td> 90</td>\n",
        "      <td>  3</td>\n",
        "    </tr>\n",
        "    <tr>\n",
        "      <th>325</th>\n",
        "      <td> 326.Inland-Sardinia</td>\n",
        "      <td> 2</td>\n",
        "      <td> 5</td>\n",
        "      <td> 1103</td>\n",
        "      <td>  96</td>\n",
        "      <td> 210</td>\n",
        "      <td> 7380</td>\n",
        "      <td> 1085</td>\n",
        "      <td> 32</td>\n",
        "      <td> 94</td>\n",
        "      <td>  3</td>\n",
        "    </tr>\n",
        "    <tr>\n",
        "      <th>326</th>\n",
        "      <td> 327.Inland-Sardinia</td>\n",
        "      <td> 2</td>\n",
        "      <td> 5</td>\n",
        "      <td> 1118</td>\n",
        "      <td>  97</td>\n",
        "      <td> 221</td>\n",
        "      <td> 7279</td>\n",
        "      <td> 1154</td>\n",
        "      <td> 35</td>\n",
        "      <td> 94</td>\n",
        "      <td>  2</td>\n",
        "    </tr>\n",
        "    <tr>\n",
        "      <th>327</th>\n",
        "      <td> 328.Inland-Sardinia</td>\n",
        "      <td> 2</td>\n",
        "      <td> 5</td>\n",
        "      <td> 1052</td>\n",
        "      <td>  95</td>\n",
        "      <td> 215</td>\n",
        "      <td> 7388</td>\n",
        "      <td> 1126</td>\n",
        "      <td> 31</td>\n",
        "      <td> 92</td>\n",
        "      <td>  1</td>\n",
        "    </tr>\n",
        "    <tr>\n",
        "      <th>421</th>\n",
        "      <td>          422.Umbria</td>\n",
        "      <td> 3</td>\n",
        "      <td> 9</td>\n",
        "      <td> 1085</td>\n",
        "      <td>  70</td>\n",
        "      <td> 180</td>\n",
        "      <td> 7955</td>\n",
        "      <td>  605</td>\n",
        "      <td> 20</td>\n",
        "      <td> 50</td>\n",
        "      <td>  1</td>\n",
        "    </tr>\n",
        "    <tr>\n",
        "      <th>422</th>\n",
        "      <td>          423.Umbria</td>\n",
        "      <td> 3</td>\n",
        "      <td> 9</td>\n",
        "      <td> 1085</td>\n",
        "      <td>  70</td>\n",
        "      <td> 185</td>\n",
        "      <td> 7955</td>\n",
        "      <td>  600</td>\n",
        "      <td> 25</td>\n",
        "      <td> 55</td>\n",
        "      <td>  1</td>\n",
        "    </tr>\n",
        "    <tr>\n",
        "      <th>423</th>\n",
        "      <td>          424.Umbria</td>\n",
        "      <td> 3</td>\n",
        "      <td> 9</td>\n",
        "      <td> 1090</td>\n",
        "      <td>  60</td>\n",
        "      <td> 190</td>\n",
        "      <td> 7950</td>\n",
        "      <td>  600</td>\n",
        "      <td> 28</td>\n",
        "      <td> 47</td>\n",
        "      <td>  2</td>\n",
        "    </tr>\n",
        "    <tr>\n",
        "      <th>424</th>\n",
        "      <td>          425.Umbria</td>\n",
        "      <td> 3</td>\n",
        "      <td> 9</td>\n",
        "      <td> 1080</td>\n",
        "      <td>  65</td>\n",
        "      <td> 189</td>\n",
        "      <td> 7960</td>\n",
        "      <td>  602</td>\n",
        "      <td> 35</td>\n",
        "      <td> 20</td>\n",
        "      <td>  1</td>\n",
        "    </tr>\n",
        "    <tr>\n",
        "      <th>425</th>\n",
        "      <td>          426.Umbria</td>\n",
        "      <td> 3</td>\n",
        "      <td> 9</td>\n",
        "      <td> 1090</td>\n",
        "      <td>  60</td>\n",
        "      <td> 195</td>\n",
        "      <td> 7955</td>\n",
        "      <td>  600</td>\n",
        "      <td> 28</td>\n",
        "      <td> 42</td>\n",
        "      <td>  2</td>\n",
        "    </tr>\n",
        "  </tbody>\n",
        "</table>\n",
        "</div>"
       ],
       "metadata": {},
       "output_type": "pyout",
       "prompt_number": 18,
       "text": [
        "              areastring  region  area  palmitic  palmitoleic  stearic  oleic  linoleic  linolenic  arachidic  eicosenoic\n",
        "0         1.North-Apulia       1     1      1075           75      226   7823       672         36         60          29\n",
        "1         2.North-Apulia       1     1      1088           73      224   7709       781         31         61          29\n",
        "2         3.North-Apulia       1     1       911           54      246   8113       549         31         63          29\n",
        "3         4.North-Apulia       1     1       966           57      240   7952       619         50         78          35\n",
        "4         5.North-Apulia       1     1      1051           67      259   7771       672         50         80          46\n",
        "323  324.Inland-Sardinia       2     5      1129          120      222   7272      1112         43         98           2\n",
        "324  325.Inland-Sardinia       2     5      1042          135      210   7376      1116         35         90           3\n",
        "325  326.Inland-Sardinia       2     5      1103           96      210   7380      1085         32         94           3\n",
        "326  327.Inland-Sardinia       2     5      1118           97      221   7279      1154         35         94           2\n",
        "327  328.Inland-Sardinia       2     5      1052           95      215   7388      1126         31         92           1\n",
        "421           422.Umbria       3     9      1085           70      180   7955       605         20         50           1\n",
        "422           423.Umbria       3     9      1085           70      185   7955       600         25         55           1\n",
        "423           424.Umbria       3     9      1090           60      190   7950       600         28         47           2\n",
        "424           425.Umbria       3     9      1080           65      189   7960       602         35         20           1\n",
        "425           426.Umbria       3     9      1090           60      195   7955       600         28         42           2"
       ]
      }
     ],
     "prompt_number": 18
    },
    {
     "cell_type": "markdown",
     "metadata": {},
     "source": [
      "The function `groupby` gives you a dictionary-like object, with the keys being the values of the factor, and the values being the corresponding subsets of the dataframe."
     ]
    },
    {
     "cell_type": "code",
     "collapsed": false,
     "input": [
      "for key, value in region_groupby:\n",
      "    print \"( key, type(value) ) = (\", key, \",\", type(value), \")\"\n",
      "    v=value\n",
      "\n",
      "v.head()"
     ],
     "language": "python",
     "metadata": {},
     "outputs": [
      {
       "output_type": "stream",
       "stream": "stdout",
       "text": [
        "( key, type(value) ) = ( 1 , <class 'pandas.core.frame.DataFrame'> )\n",
        "( key, type(value) ) = ( 2 , <class 'pandas.core.frame.DataFrame'> )\n",
        "( key, type(value) ) = ( 3 , <class 'pandas.core.frame.DataFrame'> )\n"
       ]
      },
      {
       "html": [
        "<div style=\"max-height:1000px;max-width:1500px;overflow:auto;\">\n",
        "<table border=\"1\" class=\"dataframe\">\n",
        "  <thead>\n",
        "    <tr style=\"text-align: right;\">\n",
        "      <th></th>\n",
        "      <th>areastring</th>\n",
        "      <th>region</th>\n",
        "      <th>area</th>\n",
        "      <th>palmitic</th>\n",
        "      <th>palmitoleic</th>\n",
        "      <th>stearic</th>\n",
        "      <th>oleic</th>\n",
        "      <th>linoleic</th>\n",
        "      <th>linolenic</th>\n",
        "      <th>arachidic</th>\n",
        "      <th>eicosenoic</th>\n",
        "    </tr>\n",
        "  </thead>\n",
        "  <tbody>\n",
        "    <tr>\n",
        "      <th>421</th>\n",
        "      <td> 422.Umbria</td>\n",
        "      <td> 3</td>\n",
        "      <td> 9</td>\n",
        "      <td> 1085</td>\n",
        "      <td> 70</td>\n",
        "      <td> 180</td>\n",
        "      <td> 7955</td>\n",
        "      <td> 605</td>\n",
        "      <td> 20</td>\n",
        "      <td> 50</td>\n",
        "      <td> 1</td>\n",
        "    </tr>\n",
        "    <tr>\n",
        "      <th>422</th>\n",
        "      <td> 423.Umbria</td>\n",
        "      <td> 3</td>\n",
        "      <td> 9</td>\n",
        "      <td> 1085</td>\n",
        "      <td> 70</td>\n",
        "      <td> 185</td>\n",
        "      <td> 7955</td>\n",
        "      <td> 600</td>\n",
        "      <td> 25</td>\n",
        "      <td> 55</td>\n",
        "      <td> 1</td>\n",
        "    </tr>\n",
        "    <tr>\n",
        "      <th>423</th>\n",
        "      <td> 424.Umbria</td>\n",
        "      <td> 3</td>\n",
        "      <td> 9</td>\n",
        "      <td> 1090</td>\n",
        "      <td> 60</td>\n",
        "      <td> 190</td>\n",
        "      <td> 7950</td>\n",
        "      <td> 600</td>\n",
        "      <td> 28</td>\n",
        "      <td> 47</td>\n",
        "      <td> 2</td>\n",
        "    </tr>\n",
        "    <tr>\n",
        "      <th>424</th>\n",
        "      <td> 425.Umbria</td>\n",
        "      <td> 3</td>\n",
        "      <td> 9</td>\n",
        "      <td> 1080</td>\n",
        "      <td> 65</td>\n",
        "      <td> 189</td>\n",
        "      <td> 7960</td>\n",
        "      <td> 602</td>\n",
        "      <td> 35</td>\n",
        "      <td> 20</td>\n",
        "      <td> 1</td>\n",
        "    </tr>\n",
        "    <tr>\n",
        "      <th>425</th>\n",
        "      <td> 426.Umbria</td>\n",
        "      <td> 3</td>\n",
        "      <td> 9</td>\n",
        "      <td> 1090</td>\n",
        "      <td> 60</td>\n",
        "      <td> 195</td>\n",
        "      <td> 7955</td>\n",
        "      <td> 600</td>\n",
        "      <td> 28</td>\n",
        "      <td> 42</td>\n",
        "      <td> 2</td>\n",
        "    </tr>\n",
        "  </tbody>\n",
        "</table>\n",
        "</div>"
       ],
       "metadata": {},
       "output_type": "pyout",
       "prompt_number": 19,
       "text": [
        "     areastring  region  area  palmitic  palmitoleic  stearic  oleic  linoleic  linolenic  arachidic  eicosenoic\n",
        "421  422.Umbria       3     9      1085           70      180   7955       605         20         50           1\n",
        "422  423.Umbria       3     9      1085           70      185   7955       600         25         55           1\n",
        "423  424.Umbria       3     9      1090           60      190   7950       600         28         47           2\n",
        "424  425.Umbria       3     9      1080           65      189   7960       602         35         20           1\n",
        "425  426.Umbria       3     9      1090           60      195   7955       600         28         42           2"
       ]
      }
     ],
     "prompt_number": 19
    },
    {
     "cell_type": "markdown",
     "metadata": {},
     "source": [
      "The `groupby` function also acts like an object that can be **mapped**. After the mapping is complete, the rows are put together (**reduced**) into a larger dataframe. For example, using the `describe` function. The documentation of the `describe` function can be found <a href=\"http://pandas.pydata.org/pandas-docs/dev/generated/pandas.DataFrame.describe.html\">here</a>."
     ]
    },
    {
     "cell_type": "code",
     "collapsed": false,
     "input": [
      "dfrd=region_groupby.describe()\n",
      "print type(dfrd)\n",
      "dfrd.head(20)"
     ],
     "language": "python",
     "metadata": {},
     "outputs": [
      {
       "output_type": "stream",
       "stream": "stdout",
       "text": [
        "<class 'pandas.core.frame.DataFrame'>\n"
       ]
      },
      {
       "html": [
        "<div style=\"max-height:1000px;max-width:1500px;overflow:auto;\">\n",
        "<table border=\"1\" class=\"dataframe\">\n",
        "  <thead>\n",
        "    <tr style=\"text-align: right;\">\n",
        "      <th></th>\n",
        "      <th></th>\n",
        "      <th>region</th>\n",
        "      <th>area</th>\n",
        "      <th>palmitic</th>\n",
        "      <th>palmitoleic</th>\n",
        "      <th>stearic</th>\n",
        "      <th>oleic</th>\n",
        "      <th>linoleic</th>\n",
        "      <th>linolenic</th>\n",
        "      <th>arachidic</th>\n",
        "      <th>eicosenoic</th>\n",
        "    </tr>\n",
        "    <tr>\n",
        "      <th>region</th>\n",
        "      <th></th>\n",
        "      <th></th>\n",
        "      <th></th>\n",
        "      <th></th>\n",
        "      <th></th>\n",
        "      <th></th>\n",
        "      <th></th>\n",
        "      <th></th>\n",
        "      <th></th>\n",
        "      <th></th>\n",
        "      <th></th>\n",
        "    </tr>\n",
        "  </thead>\n",
        "  <tbody>\n",
        "    <tr>\n",
        "      <th rowspan=\"8\" valign=\"top\">1</th>\n",
        "      <th>count</th>\n",
        "      <td> 323</td>\n",
        "      <td> 323.000000</td>\n",
        "      <td>  323.000000</td>\n",
        "      <td> 323.000000</td>\n",
        "      <td> 323.000000</td>\n",
        "      <td>  323.000000</td>\n",
        "      <td>  323.000000</td>\n",
        "      <td> 323.000000</td>\n",
        "      <td> 323.000000</td>\n",
        "      <td> 323.000000</td>\n",
        "    </tr>\n",
        "    <tr>\n",
        "      <th>mean</th>\n",
        "      <td>   1</td>\n",
        "      <td>   2.783282</td>\n",
        "      <td> 1332.287926</td>\n",
        "      <td> 154.801858</td>\n",
        "      <td> 228.773994</td>\n",
        "      <td> 7100.009288</td>\n",
        "      <td> 1033.498452</td>\n",
        "      <td>  38.065015</td>\n",
        "      <td>  63.117647</td>\n",
        "      <td>  27.321981</td>\n",
        "    </tr>\n",
        "    <tr>\n",
        "      <th>std</th>\n",
        "      <td>   0</td>\n",
        "      <td>   0.741054</td>\n",
        "      <td>  152.934872</td>\n",
        "      <td>  50.723686</td>\n",
        "      <td>  39.870851</td>\n",
        "      <td>  345.143066</td>\n",
        "      <td>  210.673018</td>\n",
        "      <td>   7.972709</td>\n",
        "      <td>  11.164430</td>\n",
        "      <td>   8.391528</td>\n",
        "    </tr>\n",
        "    <tr>\n",
        "      <th>min</th>\n",
        "      <td>   1</td>\n",
        "      <td>   1.000000</td>\n",
        "      <td>  875.000000</td>\n",
        "      <td>  35.000000</td>\n",
        "      <td> 152.000000</td>\n",
        "      <td> 6300.000000</td>\n",
        "      <td>  448.000000</td>\n",
        "      <td>  20.000000</td>\n",
        "      <td>  32.000000</td>\n",
        "      <td>  10.000000</td>\n",
        "    </tr>\n",
        "    <tr>\n",
        "      <th>25%</th>\n",
        "      <td>   1</td>\n",
        "      <td>   2.500000</td>\n",
        "      <td> 1268.000000</td>\n",
        "      <td> 121.500000</td>\n",
        "      <td> 201.500000</td>\n",
        "      <td> 6883.000000</td>\n",
        "      <td>  855.500000</td>\n",
        "      <td>  32.000000</td>\n",
        "      <td>  56.000000</td>\n",
        "      <td>  22.000000</td>\n",
        "    </tr>\n",
        "    <tr>\n",
        "      <th>50%</th>\n",
        "      <td>   1</td>\n",
        "      <td>   3.000000</td>\n",
        "      <td> 1346.000000</td>\n",
        "      <td> 163.000000</td>\n",
        "      <td> 223.000000</td>\n",
        "      <td> 7030.000000</td>\n",
        "      <td> 1090.000000</td>\n",
        "      <td>  37.000000</td>\n",
        "      <td>  62.000000</td>\n",
        "      <td>  27.000000</td>\n",
        "    </tr>\n",
        "    <tr>\n",
        "      <th>75%</th>\n",
        "      <td>   1</td>\n",
        "      <td>   3.000000</td>\n",
        "      <td> 1419.000000</td>\n",
        "      <td> 185.000000</td>\n",
        "      <td> 249.500000</td>\n",
        "      <td> 7283.500000</td>\n",
        "      <td> 1202.500000</td>\n",
        "      <td>  44.000000</td>\n",
        "      <td>  69.000000</td>\n",
        "      <td>  32.000000</td>\n",
        "    </tr>\n",
        "    <tr>\n",
        "      <th>max</th>\n",
        "      <td>   1</td>\n",
        "      <td>   4.000000</td>\n",
        "      <td> 1753.000000</td>\n",
        "      <td> 280.000000</td>\n",
        "      <td> 375.000000</td>\n",
        "      <td> 8113.000000</td>\n",
        "      <td> 1462.000000</td>\n",
        "      <td>  74.000000</td>\n",
        "      <td> 102.000000</td>\n",
        "      <td>  58.000000</td>\n",
        "    </tr>\n",
        "    <tr>\n",
        "      <th rowspan=\"8\" valign=\"top\">2</th>\n",
        "      <th>count</th>\n",
        "      <td>  98</td>\n",
        "      <td>  98.000000</td>\n",
        "      <td>   98.000000</td>\n",
        "      <td>  98.000000</td>\n",
        "      <td>  98.000000</td>\n",
        "      <td>   98.000000</td>\n",
        "      <td>   98.000000</td>\n",
        "      <td>  98.000000</td>\n",
        "      <td>  98.000000</td>\n",
        "      <td>  98.000000</td>\n",
        "    </tr>\n",
        "    <tr>\n",
        "      <th>mean</th>\n",
        "      <td>   2</td>\n",
        "      <td>   5.336735</td>\n",
        "      <td> 1111.346939</td>\n",
        "      <td>  96.744898</td>\n",
        "      <td> 226.183673</td>\n",
        "      <td> 7268.020408</td>\n",
        "      <td> 1196.530612</td>\n",
        "      <td>  27.091837</td>\n",
        "      <td>  73.173469</td>\n",
        "      <td>   1.938776</td>\n",
        "    </tr>\n",
        "    <tr>\n",
        "      <th>std</th>\n",
        "      <td>   0</td>\n",
        "      <td>   0.475023</td>\n",
        "      <td>   40.411059</td>\n",
        "      <td>  13.851429</td>\n",
        "      <td>  17.636272</td>\n",
        "      <td>  141.878268</td>\n",
        "      <td>  107.233554</td>\n",
        "      <td>   5.384374</td>\n",
        "      <td>  11.882609</td>\n",
        "      <td>   0.743582</td>\n",
        "    </tr>\n",
        "    <tr>\n",
        "      <th>min</th>\n",
        "      <td>   2</td>\n",
        "      <td>   5.000000</td>\n",
        "      <td> 1030.000000</td>\n",
        "      <td>  35.000000</td>\n",
        "      <td> 199.000000</td>\n",
        "      <td> 6882.000000</td>\n",
        "      <td> 1057.000000</td>\n",
        "      <td>  15.000000</td>\n",
        "      <td>  45.000000</td>\n",
        "      <td>   1.000000</td>\n",
        "    </tr>\n",
        "    <tr>\n",
        "      <th>25%</th>\n",
        "      <td>   2</td>\n",
        "      <td>   5.000000</td>\n",
        "      <td> 1085.250000</td>\n",
        "      <td>  88.250000</td>\n",
        "      <td> 212.000000</td>\n",
        "      <td> 7137.250000</td>\n",
        "      <td> 1112.250000</td>\n",
        "      <td>  23.000000</td>\n",
        "      <td>  66.000000</td>\n",
        "      <td>   1.000000</td>\n",
        "    </tr>\n",
        "    <tr>\n",
        "      <th>50%</th>\n",
        "      <td>   2</td>\n",
        "      <td>   5.000000</td>\n",
        "      <td> 1107.500000</td>\n",
        "      <td>  96.000000</td>\n",
        "      <td> 222.000000</td>\n",
        "      <td> 7325.500000</td>\n",
        "      <td> 1146.500000</td>\n",
        "      <td>  27.000000</td>\n",
        "      <td>  72.000000</td>\n",
        "      <td>   2.000000</td>\n",
        "    </tr>\n",
        "    <tr>\n",
        "      <th>75%</th>\n",
        "      <td>   2</td>\n",
        "      <td>   6.000000</td>\n",
        "      <td> 1137.250000</td>\n",
        "      <td> 104.000000</td>\n",
        "      <td> 239.500000</td>\n",
        "      <td> 7381.000000</td>\n",
        "      <td> 1306.500000</td>\n",
        "      <td>  30.000000</td>\n",
        "      <td>  81.000000</td>\n",
        "      <td>   2.000000</td>\n",
        "    </tr>\n",
        "    <tr>\n",
        "      <th>max</th>\n",
        "      <td>   2</td>\n",
        "      <td>   6.000000</td>\n",
        "      <td> 1213.000000</td>\n",
        "      <td> 135.000000</td>\n",
        "      <td> 272.000000</td>\n",
        "      <td> 7439.000000</td>\n",
        "      <td> 1470.000000</td>\n",
        "      <td>  43.000000</td>\n",
        "      <td> 105.000000</td>\n",
        "      <td>   3.000000</td>\n",
        "    </tr>\n",
        "    <tr>\n",
        "      <th rowspan=\"4\" valign=\"top\">3</th>\n",
        "      <th>count</th>\n",
        "      <td> 151</td>\n",
        "      <td> 151.000000</td>\n",
        "      <td>  151.000000</td>\n",
        "      <td> 151.000000</td>\n",
        "      <td> 151.000000</td>\n",
        "      <td>  151.000000</td>\n",
        "      <td>  151.000000</td>\n",
        "      <td> 151.000000</td>\n",
        "      <td> 151.000000</td>\n",
        "      <td> 151.000000</td>\n",
        "    </tr>\n",
        "    <tr>\n",
        "      <th>mean</th>\n",
        "      <td>   3</td>\n",
        "      <td>   8.006623</td>\n",
        "      <td> 1094.801325</td>\n",
        "      <td>  83.735099</td>\n",
        "      <td> 230.801325</td>\n",
        "      <td> 7793.052980</td>\n",
        "      <td>  727.033113</td>\n",
        "      <td>  21.788079</td>\n",
        "      <td>  37.576159</td>\n",
        "      <td>   1.973510</td>\n",
        "    </tr>\n",
        "    <tr>\n",
        "      <th>std</th>\n",
        "      <td>   0</td>\n",
        "      <td>   0.820542</td>\n",
        "      <td>   82.563513</td>\n",
        "      <td>  26.438785</td>\n",
        "      <td>  38.956047</td>\n",
        "      <td>  164.815525</td>\n",
        "      <td>  143.122578</td>\n",
        "      <td>  16.886527</td>\n",
        "      <td>  29.358573</td>\n",
        "      <td>   0.729813</td>\n",
        "    </tr>\n",
        "    <tr>\n",
        "      <th>min</th>\n",
        "      <td>   3</td>\n",
        "      <td>   7.000000</td>\n",
        "      <td>  610.000000</td>\n",
        "      <td>  15.000000</td>\n",
        "      <td> 170.000000</td>\n",
        "      <td> 7340.000000</td>\n",
        "      <td>  510.000000</td>\n",
        "      <td>   0.000000</td>\n",
        "      <td>   0.000000</td>\n",
        "      <td>   1.000000</td>\n",
        "    </tr>\n",
        "  </tbody>\n",
        "</table>\n",
        "</div>"
       ],
       "metadata": {},
       "output_type": "pyout",
       "prompt_number": 20,
       "text": [
        "              region        area     palmitic  palmitoleic     stearic        oleic     linoleic   linolenic   arachidic  eicosenoic\n",
        "region                                                                                                                              \n",
        "1      count     323  323.000000   323.000000   323.000000  323.000000   323.000000   323.000000  323.000000  323.000000  323.000000\n",
        "       mean        1    2.783282  1332.287926   154.801858  228.773994  7100.009288  1033.498452   38.065015   63.117647   27.321981\n",
        "       std         0    0.741054   152.934872    50.723686   39.870851   345.143066   210.673018    7.972709   11.164430    8.391528\n",
        "       min         1    1.000000   875.000000    35.000000  152.000000  6300.000000   448.000000   20.000000   32.000000   10.000000\n",
        "       25%         1    2.500000  1268.000000   121.500000  201.500000  6883.000000   855.500000   32.000000   56.000000   22.000000\n",
        "       50%         1    3.000000  1346.000000   163.000000  223.000000  7030.000000  1090.000000   37.000000   62.000000   27.000000\n",
        "       75%         1    3.000000  1419.000000   185.000000  249.500000  7283.500000  1202.500000   44.000000   69.000000   32.000000\n",
        "       max         1    4.000000  1753.000000   280.000000  375.000000  8113.000000  1462.000000   74.000000  102.000000   58.000000\n",
        "2      count      98   98.000000    98.000000    98.000000   98.000000    98.000000    98.000000   98.000000   98.000000   98.000000\n",
        "       mean        2    5.336735  1111.346939    96.744898  226.183673  7268.020408  1196.530612   27.091837   73.173469    1.938776\n",
        "       std         0    0.475023    40.411059    13.851429   17.636272   141.878268   107.233554    5.384374   11.882609    0.743582\n",
        "       min         2    5.000000  1030.000000    35.000000  199.000000  6882.000000  1057.000000   15.000000   45.000000    1.000000\n",
        "       25%         2    5.000000  1085.250000    88.250000  212.000000  7137.250000  1112.250000   23.000000   66.000000    1.000000\n",
        "       50%         2    5.000000  1107.500000    96.000000  222.000000  7325.500000  1146.500000   27.000000   72.000000    2.000000\n",
        "       75%         2    6.000000  1137.250000   104.000000  239.500000  7381.000000  1306.500000   30.000000   81.000000    2.000000\n",
        "       max         2    6.000000  1213.000000   135.000000  272.000000  7439.000000  1470.000000   43.000000  105.000000    3.000000\n",
        "3      count     151  151.000000   151.000000   151.000000  151.000000   151.000000   151.000000  151.000000  151.000000  151.000000\n",
        "       mean        3    8.006623  1094.801325    83.735099  230.801325  7793.052980   727.033113   21.788079   37.576159    1.973510\n",
        "       std         0    0.820542    82.563513    26.438785   38.956047   164.815525   143.122578   16.886527   29.358573    0.729813\n",
        "       min         3    7.000000   610.000000    15.000000  170.000000  7340.000000   510.000000    0.000000    0.000000    1.000000"
       ]
      }
     ],
     "prompt_number": 20
    },
    {
     "cell_type": "markdown",
     "metadata": {},
     "source": [
      "So, one may iterate through the groupby 'dictionary', get the pandas series from each sub-dataframe, and compute the standard deviation using the `std` function (find documentation of `std` <a href=\"http://pandas.pydata.org/pandas-docs/dev/generated/pandas.DataFrame.std.html\">here</a>):"
     ]
    },
    {
     "cell_type": "code",
     "collapsed": false,
     "input": [
      "vecs=[]\n",
      "keys=[]\n",
      "for key, value in region_groupby:\n",
      "    k=key\n",
      "    v=value.std()\n",
      "print k, type(v), v"
     ],
     "language": "python",
     "metadata": {},
     "outputs": [
      {
       "output_type": "stream",
       "stream": "stdout",
       "text": [
        "3 <class 'pandas.core.series.Series'> region           0.000000\n",
        "area             0.820542\n",
        "palmitic        82.563513\n",
        "palmitoleic     26.438785\n",
        "stearic         38.956047\n",
        "oleic          164.815525\n",
        "linoleic       143.122578\n",
        "linolenic       16.886527\n",
        "arachidic       29.358573\n",
        "eicosenoic       0.729813\n",
        "dtype: float64\n"
       ]
      }
     ],
     "prompt_number": 23
    },
    {
     "cell_type": "markdown",
     "metadata": {},
     "source": [
      "Or one might let pandas take care of concatenating the series obtained by running `std` on each dataframe back into a dataframe for us. Notice that the output dataframe is automatically indexed by region for us!"
     ]
    },
    {
     "cell_type": "code",
     "collapsed": false,
     "input": [
      "dfbystd=df.groupby('region').std()\n",
      "dfbystd.head()"
     ],
     "language": "python",
     "metadata": {},
     "outputs": [
      {
       "html": [
        "<div style=\"max-height:1000px;max-width:1500px;overflow:auto;\">\n",
        "<table border=\"1\" class=\"dataframe\">\n",
        "  <thead>\n",
        "    <tr style=\"text-align: right;\">\n",
        "      <th></th>\n",
        "      <th>area</th>\n",
        "      <th>palmitic</th>\n",
        "      <th>palmitoleic</th>\n",
        "      <th>stearic</th>\n",
        "      <th>oleic</th>\n",
        "      <th>linoleic</th>\n",
        "      <th>linolenic</th>\n",
        "      <th>arachidic</th>\n",
        "      <th>eicosenoic</th>\n",
        "    </tr>\n",
        "    <tr>\n",
        "      <th>region</th>\n",
        "      <th></th>\n",
        "      <th></th>\n",
        "      <th></th>\n",
        "      <th></th>\n",
        "      <th></th>\n",
        "      <th></th>\n",
        "      <th></th>\n",
        "      <th></th>\n",
        "      <th></th>\n",
        "    </tr>\n",
        "  </thead>\n",
        "  <tbody>\n",
        "    <tr>\n",
        "      <th>1</th>\n",
        "      <td> 0.741054</td>\n",
        "      <td> 152.934872</td>\n",
        "      <td> 50.723686</td>\n",
        "      <td> 39.870851</td>\n",
        "      <td> 345.143066</td>\n",
        "      <td> 210.673018</td>\n",
        "      <td>  7.972709</td>\n",
        "      <td> 11.164430</td>\n",
        "      <td> 8.391528</td>\n",
        "    </tr>\n",
        "    <tr>\n",
        "      <th>2</th>\n",
        "      <td> 0.475023</td>\n",
        "      <td>  40.411059</td>\n",
        "      <td> 13.851429</td>\n",
        "      <td> 17.636272</td>\n",
        "      <td> 141.878268</td>\n",
        "      <td> 107.233554</td>\n",
        "      <td>  5.384374</td>\n",
        "      <td> 11.882609</td>\n",
        "      <td> 0.743582</td>\n",
        "    </tr>\n",
        "    <tr>\n",
        "      <th>3</th>\n",
        "      <td> 0.820542</td>\n",
        "      <td>  82.563513</td>\n",
        "      <td> 26.438785</td>\n",
        "      <td> 38.956047</td>\n",
        "      <td> 164.815525</td>\n",
        "      <td> 143.122578</td>\n",
        "      <td> 16.886527</td>\n",
        "      <td> 29.358573</td>\n",
        "      <td> 0.729813</td>\n",
        "    </tr>\n",
        "  </tbody>\n",
        "</table>\n",
        "</div>"
       ],
       "metadata": {},
       "output_type": "pyout",
       "prompt_number": 24,
       "text": [
        "            area    palmitic  palmitoleic    stearic       oleic    linoleic  linolenic  arachidic  eicosenoic\n",
        "region                                                                                                        \n",
        "1       0.741054  152.934872    50.723686  39.870851  345.143066  210.673018   7.972709  11.164430    8.391528\n",
        "2       0.475023   40.411059    13.851429  17.636272  141.878268  107.233554   5.384374  11.882609    0.743582\n",
        "3       0.820542   82.563513    26.438785  38.956047  164.815525  143.122578  16.886527  29.358573    0.729813"
       ]
      }
     ],
     "prompt_number": 24
    },
    {
     "cell_type": "markdown",
     "metadata": {},
     "source": [
      "Or one can use `aggregate` to pass an arbitrary function of to the sub-dataframe. The function is applied columnwise."
     ]
    },
    {
     "cell_type": "code",
     "collapsed": false,
     "input": [
      "dfbymean=region_groupby.aggregate(np.mean)\n",
      "dfbymean.head()"
     ],
     "language": "python",
     "metadata": {},
     "outputs": [
      {
       "html": [
        "<div style=\"max-height:1000px;max-width:1500px;overflow:auto;\">\n",
        "<table border=\"1\" class=\"dataframe\">\n",
        "  <thead>\n",
        "    <tr style=\"text-align: right;\">\n",
        "      <th></th>\n",
        "      <th>area</th>\n",
        "      <th>palmitic</th>\n",
        "      <th>palmitoleic</th>\n",
        "      <th>stearic</th>\n",
        "      <th>oleic</th>\n",
        "      <th>linoleic</th>\n",
        "      <th>linolenic</th>\n",
        "      <th>arachidic</th>\n",
        "      <th>eicosenoic</th>\n",
        "    </tr>\n",
        "    <tr>\n",
        "      <th>region</th>\n",
        "      <th></th>\n",
        "      <th></th>\n",
        "      <th></th>\n",
        "      <th></th>\n",
        "      <th></th>\n",
        "      <th></th>\n",
        "      <th></th>\n",
        "      <th></th>\n",
        "      <th></th>\n",
        "    </tr>\n",
        "  </thead>\n",
        "  <tbody>\n",
        "    <tr>\n",
        "      <th>1</th>\n",
        "      <td> 2.783282</td>\n",
        "      <td> 1332.287926</td>\n",
        "      <td> 154.801858</td>\n",
        "      <td> 228.773994</td>\n",
        "      <td> 7100.009288</td>\n",
        "      <td> 1033.498452</td>\n",
        "      <td> 38.065015</td>\n",
        "      <td> 63.117647</td>\n",
        "      <td> 27.321981</td>\n",
        "    </tr>\n",
        "    <tr>\n",
        "      <th>2</th>\n",
        "      <td> 5.336735</td>\n",
        "      <td> 1111.346939</td>\n",
        "      <td>  96.744898</td>\n",
        "      <td> 226.183673</td>\n",
        "      <td> 7268.020408</td>\n",
        "      <td> 1196.530612</td>\n",
        "      <td> 27.091837</td>\n",
        "      <td> 73.173469</td>\n",
        "      <td>  1.938776</td>\n",
        "    </tr>\n",
        "    <tr>\n",
        "      <th>3</th>\n",
        "      <td> 8.006623</td>\n",
        "      <td> 1094.801325</td>\n",
        "      <td>  83.735099</td>\n",
        "      <td> 230.801325</td>\n",
        "      <td> 7793.052980</td>\n",
        "      <td>  727.033113</td>\n",
        "      <td> 21.788079</td>\n",
        "      <td> 37.576159</td>\n",
        "      <td>  1.973510</td>\n",
        "    </tr>\n",
        "  </tbody>\n",
        "</table>\n",
        "</div>"
       ],
       "metadata": {},
       "output_type": "pyout",
       "prompt_number": 25,
       "text": [
        "            area     palmitic  palmitoleic     stearic        oleic     linoleic  linolenic  arachidic  eicosenoic\n",
        "region                                                                                                            \n",
        "1       2.783282  1332.287926   154.801858  228.773994  7100.009288  1033.498452  38.065015  63.117647   27.321981\n",
        "2       5.336735  1111.346939    96.744898  226.183673  7268.020408  1196.530612  27.091837  73.173469    1.938776\n",
        "3       8.006623  1094.801325    83.735099  230.801325  7793.052980   727.033113  21.788079  37.576159    1.973510"
       ]
      }
     ],
     "prompt_number": 25
    },
    {
     "cell_type": "code",
     "collapsed": false,
     "input": [
      "region_groupby.aggregate(lambda x: x.palmitic.sum()) #probably not what u had in mind :-)"
     ],
     "language": "python",
     "metadata": {},
     "outputs": [
      {
       "html": [
        "<div style=\"max-height:1000px;max-width:1500px;overflow:auto;\">\n",
        "<table border=\"1\" class=\"dataframe\">\n",
        "  <thead>\n",
        "    <tr style=\"text-align: right;\">\n",
        "      <th></th>\n",
        "      <th>areastring</th>\n",
        "      <th>area</th>\n",
        "      <th>palmitic</th>\n",
        "      <th>palmitoleic</th>\n",
        "      <th>stearic</th>\n",
        "      <th>oleic</th>\n",
        "      <th>linoleic</th>\n",
        "      <th>linolenic</th>\n",
        "      <th>arachidic</th>\n",
        "      <th>eicosenoic</th>\n",
        "    </tr>\n",
        "    <tr>\n",
        "      <th>region</th>\n",
        "      <th></th>\n",
        "      <th></th>\n",
        "      <th></th>\n",
        "      <th></th>\n",
        "      <th></th>\n",
        "      <th></th>\n",
        "      <th></th>\n",
        "      <th></th>\n",
        "      <th></th>\n",
        "      <th></th>\n",
        "    </tr>\n",
        "  </thead>\n",
        "  <tbody>\n",
        "    <tr>\n",
        "      <th>1</th>\n",
        "      <td> 430329</td>\n",
        "      <td> 430329</td>\n",
        "      <td> 430329</td>\n",
        "      <td> 430329</td>\n",
        "      <td> 430329</td>\n",
        "      <td> 430329</td>\n",
        "      <td> 430329</td>\n",
        "      <td> 430329</td>\n",
        "      <td> 430329</td>\n",
        "      <td> 430329</td>\n",
        "    </tr>\n",
        "    <tr>\n",
        "      <th>2</th>\n",
        "      <td> 108912</td>\n",
        "      <td> 108912</td>\n",
        "      <td> 108912</td>\n",
        "      <td> 108912</td>\n",
        "      <td> 108912</td>\n",
        "      <td> 108912</td>\n",
        "      <td> 108912</td>\n",
        "      <td> 108912</td>\n",
        "      <td> 108912</td>\n",
        "      <td> 108912</td>\n",
        "    </tr>\n",
        "    <tr>\n",
        "      <th>3</th>\n",
        "      <td> 165315</td>\n",
        "      <td> 165315</td>\n",
        "      <td> 165315</td>\n",
        "      <td> 165315</td>\n",
        "      <td> 165315</td>\n",
        "      <td> 165315</td>\n",
        "      <td> 165315</td>\n",
        "      <td> 165315</td>\n",
        "      <td> 165315</td>\n",
        "      <td> 165315</td>\n",
        "    </tr>\n",
        "  </tbody>\n",
        "</table>\n",
        "</div>"
       ],
       "metadata": {},
       "output_type": "pyout",
       "prompt_number": 26,
       "text": [
        "        areastring    area  palmitic  palmitoleic  stearic   oleic  linoleic  linolenic  arachidic  eicosenoic\n",
        "region                                                                                                        \n",
        "1           430329  430329    430329       430329   430329  430329    430329     430329     430329      430329\n",
        "2           108912  108912    108912       108912   108912  108912    108912     108912     108912      108912\n",
        "3           165315  165315    165315       165315   165315  165315    165315     165315     165315      165315"
       ]
      }
     ],
     "prompt_number": 26
    },
    {
     "cell_type": "markdown",
     "metadata": {},
     "source": [
      "Or one can use `apply` to pass an arbitrary function to the sub-dataframe. This one takes the dataframe as argument."
     ]
    },
    {
     "cell_type": "code",
     "collapsed": false,
     "input": [
      "region_groupby.apply(lambda f: f.mean())"
     ],
     "language": "python",
     "metadata": {},
     "outputs": [
      {
       "html": [
        "<div style=\"max-height:1000px;max-width:1500px;overflow:auto;\">\n",
        "<table border=\"1\" class=\"dataframe\">\n",
        "  <thead>\n",
        "    <tr style=\"text-align: right;\">\n",
        "      <th></th>\n",
        "      <th>region</th>\n",
        "      <th>area</th>\n",
        "      <th>palmitic</th>\n",
        "      <th>palmitoleic</th>\n",
        "      <th>stearic</th>\n",
        "      <th>oleic</th>\n",
        "      <th>linoleic</th>\n",
        "      <th>linolenic</th>\n",
        "      <th>arachidic</th>\n",
        "      <th>eicosenoic</th>\n",
        "    </tr>\n",
        "    <tr>\n",
        "      <th>region</th>\n",
        "      <th></th>\n",
        "      <th></th>\n",
        "      <th></th>\n",
        "      <th></th>\n",
        "      <th></th>\n",
        "      <th></th>\n",
        "      <th></th>\n",
        "      <th></th>\n",
        "      <th></th>\n",
        "      <th></th>\n",
        "    </tr>\n",
        "  </thead>\n",
        "  <tbody>\n",
        "    <tr>\n",
        "      <th>1</th>\n",
        "      <td> 1</td>\n",
        "      <td> 2.783282</td>\n",
        "      <td> 1332.287926</td>\n",
        "      <td> 154.801858</td>\n",
        "      <td> 228.773994</td>\n",
        "      <td> 7100.009288</td>\n",
        "      <td> 1033.498452</td>\n",
        "      <td> 38.065015</td>\n",
        "      <td> 63.117647</td>\n",
        "      <td> 27.321981</td>\n",
        "    </tr>\n",
        "    <tr>\n",
        "      <th>2</th>\n",
        "      <td> 2</td>\n",
        "      <td> 5.336735</td>\n",
        "      <td> 1111.346939</td>\n",
        "      <td>  96.744898</td>\n",
        "      <td> 226.183673</td>\n",
        "      <td> 7268.020408</td>\n",
        "      <td> 1196.530612</td>\n",
        "      <td> 27.091837</td>\n",
        "      <td> 73.173469</td>\n",
        "      <td>  1.938776</td>\n",
        "    </tr>\n",
        "    <tr>\n",
        "      <th>3</th>\n",
        "      <td> 3</td>\n",
        "      <td> 8.006623</td>\n",
        "      <td> 1094.801325</td>\n",
        "      <td>  83.735099</td>\n",
        "      <td> 230.801325</td>\n",
        "      <td> 7793.052980</td>\n",
        "      <td>  727.033113</td>\n",
        "      <td> 21.788079</td>\n",
        "      <td> 37.576159</td>\n",
        "      <td>  1.973510</td>\n",
        "    </tr>\n",
        "  </tbody>\n",
        "</table>\n",
        "</div>"
       ],
       "metadata": {},
       "output_type": "pyout",
       "prompt_number": 27,
       "text": [
        "        region      area     palmitic  palmitoleic     stearic        oleic     linoleic  linolenic  arachidic  eicosenoic\n",
        "region                                                                                                                    \n",
        "1            1  2.783282  1332.287926   154.801858  228.773994  7100.009288  1033.498452  38.065015  63.117647   27.321981\n",
        "2            2  5.336735  1111.346939    96.744898  226.183673  7268.020408  1196.530612  27.091837  73.173469    1.938776\n",
        "3            3  8.006623  1094.801325    83.735099  230.801325  7793.052980   727.033113  21.788079  37.576159    1.973510"
       ]
      }
     ],
     "prompt_number": 27
    },
    {
     "cell_type": "code",
     "collapsed": false,
     "input": [
      "region_groupby.apply(lambda f: f.palmitic.mean())"
     ],
     "language": "python",
     "metadata": {},
     "outputs": [
      {
       "metadata": {},
       "output_type": "pyout",
       "prompt_number": 28,
       "text": [
        "region\n",
        "1         1332.287926\n",
        "2         1111.346939\n",
        "3         1094.801325\n",
        "dtype: float64"
       ]
      }
     ],
     "prompt_number": 28
    },
    {
     "cell_type": "markdown",
     "metadata": {},
     "source": [
      "Let's rename the columns in `dfbymean` and `dfbystd`."
     ]
    },
    {
     "cell_type": "code",
     "collapsed": false,
     "input": [
      "renamedict_std={k:k+\"_std\" for k in acidlist}\n",
      "renamedict_mean={k:k+\"_mean\" for k in acidlist}\n",
      "dfbystd.rename(inplace=True, columns=renamedict_std)\n",
      "dfbymean.rename(inplace=True, columns=renamedict_mean) \n",
      "dfbystd.head()"
     ],
     "language": "python",
     "metadata": {},
     "outputs": [
      {
       "html": [
        "<div style=\"max-height:1000px;max-width:1500px;overflow:auto;\">\n",
        "<table border=\"1\" class=\"dataframe\">\n",
        "  <thead>\n",
        "    <tr style=\"text-align: right;\">\n",
        "      <th></th>\n",
        "      <th>area</th>\n",
        "      <th>palmitic_std</th>\n",
        "      <th>palmitoleic_std</th>\n",
        "      <th>stearic_std</th>\n",
        "      <th>oleic_std</th>\n",
        "      <th>linoleic_std</th>\n",
        "      <th>linolenic_std</th>\n",
        "      <th>arachidic_std</th>\n",
        "      <th>eicosenoic_std</th>\n",
        "    </tr>\n",
        "    <tr>\n",
        "      <th>region</th>\n",
        "      <th></th>\n",
        "      <th></th>\n",
        "      <th></th>\n",
        "      <th></th>\n",
        "      <th></th>\n",
        "      <th></th>\n",
        "      <th></th>\n",
        "      <th></th>\n",
        "      <th></th>\n",
        "    </tr>\n",
        "  </thead>\n",
        "  <tbody>\n",
        "    <tr>\n",
        "      <th>1</th>\n",
        "      <td> 0.741054</td>\n",
        "      <td> 152.934872</td>\n",
        "      <td> 50.723686</td>\n",
        "      <td> 39.870851</td>\n",
        "      <td> 345.143066</td>\n",
        "      <td> 210.673018</td>\n",
        "      <td>  7.972709</td>\n",
        "      <td> 11.164430</td>\n",
        "      <td> 8.391528</td>\n",
        "    </tr>\n",
        "    <tr>\n",
        "      <th>2</th>\n",
        "      <td> 0.475023</td>\n",
        "      <td>  40.411059</td>\n",
        "      <td> 13.851429</td>\n",
        "      <td> 17.636272</td>\n",
        "      <td> 141.878268</td>\n",
        "      <td> 107.233554</td>\n",
        "      <td>  5.384374</td>\n",
        "      <td> 11.882609</td>\n",
        "      <td> 0.743582</td>\n",
        "    </tr>\n",
        "    <tr>\n",
        "      <th>3</th>\n",
        "      <td> 0.820542</td>\n",
        "      <td>  82.563513</td>\n",
        "      <td> 26.438785</td>\n",
        "      <td> 38.956047</td>\n",
        "      <td> 164.815525</td>\n",
        "      <td> 143.122578</td>\n",
        "      <td> 16.886527</td>\n",
        "      <td> 29.358573</td>\n",
        "      <td> 0.729813</td>\n",
        "    </tr>\n",
        "  </tbody>\n",
        "</table>\n",
        "</div>"
       ],
       "metadata": {},
       "output_type": "pyout",
       "prompt_number": 31,
       "text": [
        "            area  palmitic_std  palmitoleic_std  stearic_std   oleic_std  linoleic_std  linolenic_std  arachidic_std  eicosenoic_std\n",
        "region                                                                                                                              \n",
        "1       0.741054    152.934872        50.723686    39.870851  345.143066    210.673018       7.972709      11.164430        8.391528\n",
        "2       0.475023     40.411059        13.851429    17.636272  141.878268    107.233554       5.384374      11.882609        0.743582\n",
        "3       0.820542     82.563513        26.438785    38.956047  164.815525    143.122578      16.886527      29.358573        0.729813"
       ]
      }
     ],
     "prompt_number": 31
    },
    {
     "cell_type": "markdown",
     "metadata": {},
     "source": [
      "Pandas can do general merges. When we do that along an index, it's called a `join` (<a href=\"http://pandas.pydata.org/pandas-docs/dev/generated/pandas.DataFrame.join.html\">documentation</a>). Here we make two sub-dataframes and join them on the common region index."
     ]
    },
    {
     "cell_type": "code",
     "collapsed": false,
     "input": [
      "dfpalmiticmean = dfbymean[['palmitic_mean']] \n",
      "dfpalmiticstd = dfbystd[['palmitic_std']] \n",
      "\n",
      "newdfbyregion=dfpalmiticmean.join(dfpalmiticstd)\n",
      "newdfbyregion.head()"
     ],
     "language": "python",
     "metadata": {},
     "outputs": [
      {
       "html": [
        "<div style=\"max-height:1000px;max-width:1500px;overflow:auto;\">\n",
        "<table border=\"1\" class=\"dataframe\">\n",
        "  <thead>\n",
        "    <tr style=\"text-align: right;\">\n",
        "      <th></th>\n",
        "      <th>palmitic_mean</th>\n",
        "      <th>palmitic_std</th>\n",
        "    </tr>\n",
        "    <tr>\n",
        "      <th>region</th>\n",
        "      <th></th>\n",
        "      <th></th>\n",
        "    </tr>\n",
        "  </thead>\n",
        "  <tbody>\n",
        "    <tr>\n",
        "      <th>1</th>\n",
        "      <td> 1332.287926</td>\n",
        "      <td> 152.934872</td>\n",
        "    </tr>\n",
        "    <tr>\n",
        "      <th>2</th>\n",
        "      <td> 1111.346939</td>\n",
        "      <td>  40.411059</td>\n",
        "    </tr>\n",
        "    <tr>\n",
        "      <th>3</th>\n",
        "      <td> 1094.801325</td>\n",
        "      <td>  82.563513</td>\n",
        "    </tr>\n",
        "  </tbody>\n",
        "</table>\n",
        "</div>"
       ],
       "metadata": {},
       "output_type": "pyout",
       "prompt_number": 32,
       "text": [
        "        palmitic_mean  palmitic_std\n",
        "region                             \n",
        "1         1332.287926    152.934872\n",
        "2         1111.346939     40.411059\n",
        "3         1094.801325     82.563513"
       ]
      }
     ],
     "prompt_number": 32
    },
    {
     "cell_type": "markdown",
     "metadata": {},
     "source": [
      "###YOUR TURN NOW (10 minutes)\n",
      "\n",
      "Let's weight the palmitic acids content by a random weight. We'll first extract a subset of columns from `df` and then you will write a function to weigh the palmitic content by this random weight, delivering a weighted palmitic mean in the final dataframe."
     ]
    },
    {
     "cell_type": "code",
     "collapsed": false,
     "input": [
      "df.shape"
     ],
     "language": "python",
     "metadata": {},
     "outputs": [],
     "prompt_number": 34
    },
    {
     "cell_type": "code",
     "collapsed": false,
     "input": [
      "weights=np.random.uniform(size=df.shape[0])\n",
      "smallerdf=df[['palmitic']]\n",
      "otherdf=df[['region']]\n",
      "otherdf['weight'] = weights\n",
      "otherdf.head()"
     ],
     "language": "python",
     "metadata": {},
     "outputs": [],
     "prompt_number": 35
    },
    {
     "cell_type": "markdown",
     "metadata": {},
     "source": [
      "Join `smallerdf` and `otherdf` on the index, into smallerdf"
     ]
    },
    {
     "cell_type": "code",
     "collapsed": false,
     "input": [
      "#your code here\n"
     ],
     "language": "python",
     "metadata": {},
     "outputs": [],
     "prompt_number": 36
    },
    {
     "cell_type": "markdown",
     "metadata": {},
     "source": [
      "Now lets use these weights to compute a weighted average over the palmitic column."
     ]
    },
    {
     "cell_type": "code",
     "collapsed": false,
     "input": [
      "#your code here\n"
     ],
     "language": "python",
     "metadata": {},
     "outputs": [],
     "prompt_number": 37
    },
    {
     "cell_type": "markdown",
     "metadata": {},
     "source": [
      "Finally aggregate the column percentages by summing them up over the regions."
     ]
    },
    {
     "cell_type": "code",
     "collapsed": false,
     "input": [
      "#your code here\n"
     ],
     "language": "python",
     "metadata": {},
     "outputs": [],
     "prompt_number": 38
    },
    {
     "cell_type": "markdown",
     "metadata": {},
     "source": [
      "## One Dimensional Exploratory Data Analysis (EDA) with Pandas"
     ]
    },
    {
     "cell_type": "code",
     "collapsed": false,
     "input": [
      "rkeys=[1,2,3]\n",
      "rvals=['South','Sardinia','North']\n",
      "rmap={e[0]:e[1] for e in zip(rkeys,rvals)}\n",
      "rmap"
     ],
     "language": "python",
     "metadata": {},
     "outputs": [],
     "prompt_number": 39
    },
    {
     "cell_type": "markdown",
     "metadata": {},
     "source": [
      "Let's get a dataframe with just the acids."
     ]
    },
    {
     "cell_type": "code",
     "collapsed": false,
     "input": [
      "mdf2=df.groupby('region').aggregate(np.mean)\n",
      "mdf2=mdf2[acidlist]\n",
      "mdf2.head()"
     ],
     "language": "python",
     "metadata": {},
     "outputs": [],
     "prompt_number": 40
    },
    {
     "cell_type": "markdown",
     "metadata": {},
     "source": [
      "Let's make a bar plot of the relative mean percentages of the acids. In pandas this is as simple as:"
     ]
    },
    {
     "cell_type": "code",
     "collapsed": false,
     "input": [
      "ax=mdf2.plot(kind='barh', stacked=True)\n",
      "ax.set_yticklabels(rvals)\n",
      "ax.set_xlim([0,100])"
     ],
     "language": "python",
     "metadata": {},
     "outputs": [],
     "prompt_number": 41
    },
    {
     "cell_type": "markdown",
     "metadata": {},
     "source": [
      "Well, that's kind of ugly. In the appendix we have some code showing how you can clean this plot up."
     ]
    },
    {
     "cell_type": "markdown",
     "metadata": {},
     "source": [
      "The above graph get's proportions of all the acids in each region. We can ask the opposite question: for each acid, what's the distribution of regions?"
     ]
    },
    {
     "cell_type": "code",
     "collapsed": false,
     "input": [
      "fig, axes=plt.subplots(figsize=(10,20), nrows=len(acidlist), ncols=1)\n",
      "i=0\n",
      "colors=[dark2_cmap.mpl_colormap(col) for col in [1.0,0.5,0.0]]\n",
      "for ax in axes.flatten():\n",
      "    acid=acidlist[i]\n",
      "    seriesacid=df[acid]#get the Pandas series\n",
      "    minmax=[seriesacid.min(), seriesacid.max()]\n",
      "    counts=[]\n",
      "    nbins=30\n",
      "    histbinslist = np.linspace(minmax[0],  minmax[1], nbins)\n",
      "    counts=-np.diff([seriesacid[seriesacid>x].count() for x in histbinslist]).min()\n",
      "    for k,g in df.groupby('region'):\n",
      "        style = {'histtype':'step', 'color':colors[k-1], 'alpha':1.0, 'bins':histbinslist, 'label':rmap[k]}\n",
      "        ax.hist(g[acid],**style)\n",
      "        ax.set_xlim(minmax)\n",
      "        ax.set_title(acid)\n",
      "        ax.grid(False)\n",
      "    #construct legend\n",
      "    ax.set_ylim([0, counts])\n",
      "    ax.legend()\n",
      "    i=i+1\n",
      "fig.tight_layout()\n"
     ],
     "language": "python",
     "metadata": {},
     "outputs": [],
     "prompt_number": 42
    },
    {
     "cell_type": "markdown",
     "metadata": {},
     "source": [
      "You can make a mask!"
     ]
    },
    {
     "cell_type": "code",
     "collapsed": false,
     "input": [
      "mask=(df.eicosenoic < 0.05)\n",
      "mask"
     ],
     "language": "python",
     "metadata": {},
     "outputs": [],
     "prompt_number": 43
    },
    {
     "cell_type": "markdown",
     "metadata": {},
     "source": [
      "The first gives a count, the second is a shortcut to get a probability!"
     ]
    },
    {
     "cell_type": "code",
     "collapsed": false,
     "input": [
      "np.sum(mask), np.mean(mask)"
     ],
     "language": "python",
     "metadata": {},
     "outputs": [],
     "prompt_number": 44
    },
    {
     "cell_type": "markdown",
     "metadata": {},
     "source": [
      "Pandas supports conditional indexing: <a href=\"http://pandas.pydata.org/pandas-docs/dev/indexing.html#boolean-indexing\">documentation</a>"
     ]
    },
    {
     "cell_type": "code",
     "collapsed": false,
     "input": [
      "loweico=df[df.eicosenoic < 0.02]\n",
      "pd.crosstab(loweico.area, loweico.region)"
     ],
     "language": "python",
     "metadata": {},
     "outputs": [],
     "prompt_number": 45
    },
    {
     "cell_type": "markdown",
     "metadata": {},
     "source": [
      "### YOUR TURN NOW (10 minutes)\n",
      "\n",
      "You can see that oleic dominates, and doesn't let us see much about the other acids. Remove it and let's draw bar plots again."
     ]
    },
    {
     "cell_type": "code",
     "collapsed": false,
     "input": [
      "acidlistminusoleic=['palmitic', 'palmitoleic', 'stearic', 'linoleic', 'linolenic', 'arachidic', 'eicosenoic']\n",
      "#your code here\n"
     ],
     "language": "python",
     "metadata": {},
     "outputs": [],
     "prompt_number": 46
    },
    {
     "cell_type": "markdown",
     "metadata": {},
     "source": [
      "**Note that there are no eicosenoic acids in regions 2 and 3, which are Sardinia and the North respectively**"
     ]
    },
    {
     "cell_type": "markdown",
     "metadata": {},
     "source": [
      "## Two-dimensional EDA with Pandas"
     ]
    },
    {
     "cell_type": "markdown",
     "metadata": {},
     "source": [
      "Let's write code to scatterplot acid against acid color coded by region. A more polished version is in the appendix"
     ]
    },
    {
     "cell_type": "code",
     "collapsed": false,
     "input": [
      "# just do the boxplot without the marginals to split the north out\n",
      "def make2d(df, scatterx, scattery, by=\"region\", labeler={}):\n",
      "    figure=plt.figure(figsize=(8,8))\n",
      "    ax=plt.gca()\n",
      "    cs=list(np.linspace(0,1,len(df.groupby(by))))\n",
      "    xlimsd={}\n",
      "    ylimsd={}\n",
      "    xs={}\n",
      "    ys={}\n",
      "    cold={}\n",
      "    for k,g in df.groupby(by):\n",
      "        col=cs.pop()\n",
      "        x=g[scatterx]\n",
      "        y=g[scattery]\n",
      "        xs[k]=x\n",
      "        ys[k]=y\n",
      "        c=dark2_cmap.mpl_colormap(col)\n",
      "        cold[k]=c\n",
      "        ax.scatter(x, y, c=c, label=labeler.get(k,k), s=40, alpha=0.4);\n",
      "        xlimsd[k]=ax.get_xlim()\n",
      "        ylimsd[k]=ax.get_ylim()\n",
      "    xlims=[min([xlimsd[k][0] for k in xlimsd.keys()]), max([xlimsd[k][1] for k in xlimsd.keys()])]\n",
      "    ylims=[min([ylimsd[k][0] for k in ylimsd.keys()]), max([ylimsd[k][1] for k in ylimsd.keys()])]\n",
      "    ax.set_xlim(xlims)\n",
      "    ax.set_ylim(ylims)\n",
      "    ax.set_xlabel(scatterx)\n",
      "    ax.set_ylabel(scattery)\n",
      "    ax.grid(False)\n",
      "    return ax\n",
      "a=make2d(df, \"linoleic\",\"arachidic\", labeler=rmap)\n",
      "a.legend(loc='upper right');"
     ],
     "language": "python",
     "metadata": {},
     "outputs": [],
     "prompt_number": 47
    },
    {
     "cell_type": "markdown",
     "metadata": {},
     "source": [
      "**A nonlinear classifier could separate the north from Sardinia!**"
     ]
    },
    {
     "cell_type": "markdown",
     "metadata": {},
     "source": [
      "We use the really ugly trellis rplot interface in Pandas to do some hierarchical digging. We plot oleic against linoleic. **We can split Sardinia. We might be able to split East Liguria out but there could be significant misclassification.**"
     ]
    },
    {
     "cell_type": "code",
     "collapsed": false,
     "input": [
      "import pandas.tools.rplot as rplot\n",
      "dfcopy=df.copy()\n",
      "dfcopy['region']=dfcopy['region'].map(rmap)\n",
      "imap={e[0]:e[1] for e in zip (df.area.unique(), df.areastring.unique())}\n",
      "#dfcopy['area']=dfcopy['area'].map(imap)\n",
      "plot = rplot.RPlot(dfcopy, x='linoleic', y='oleic');\n",
      "plot.add(rplot.TrellisGrid(['region', '.']))\n",
      "plot.add(rplot.GeomPoint(size=40.0, alpha=0.3, colour=rplot.ScaleRandomColour('area')));\n",
      "\n",
      "fig=plot.render()\n",
      "print df.areastring.unique()\n"
     ],
     "language": "python",
     "metadata": {},
     "outputs": [],
     "prompt_number": 48
    },
    {
     "cell_type": "markdown",
     "metadata": {},
     "source": [
      "### YOUR TURN NOW (10 minutes)"
     ]
    },
    {
     "cell_type": "markdown",
     "metadata": {},
     "source": [
      "Plot palmitoleic against palimitic. **What can you separate?** Use the `dfcopy` dataframe."
     ]
    },
    {
     "cell_type": "code",
     "collapsed": false,
     "input": [
      "#your code here\n"
     ],
     "language": "python",
     "metadata": {},
     "outputs": [],
     "prompt_number": 49
    },
    {
     "cell_type": "markdown",
     "metadata": {},
     "source": [
      "## Appendix: For you to try at home"
     ]
    },
    {
     "cell_type": "markdown",
     "metadata": {},
     "source": [
      "### Marginal data: Rug plots and histograms "
     ]
    },
    {
     "cell_type": "markdown",
     "metadata": {},
     "source": [
      "This code allows you to plot marginals using rug plots and histograms"
     ]
    },
    {
     "cell_type": "code",
     "collapsed": false,
     "input": [
      "#adapted from https://github.com/roban/quarum/blob/master/margplot.py\n",
      "from mpl_toolkits.axes_grid1 import make_axes_locatable\n",
      "def setup_mhist(axes, figure):\n",
      "    ax1=axes\n",
      "    divider = make_axes_locatable(ax1)\n",
      "    ax2 = divider.append_axes(\"top\", 1.5, pad=0.0, sharex=ax1)\n",
      "    ax3 = divider.append_axes(\"right\", 1.5, pad=0.0, sharey=ax1)\n",
      "    #xscale=yscale='log'\n",
      "    #ax2.set_yscale(yscale)\n",
      "    #ax3.set_xscale(xscale)\n",
      "    #ax2.set_ylim([0,1])\n",
      "    #ax3.set_xlim([0,5])\n",
      "    ax2.grid(False)\n",
      "    ax3.grid(False)\n",
      "    ax2.grid(axis=\"y\", color=\"white\", linestyle='-', lw=1)\n",
      "    ax3.grid(axis=\"x\", color=\"white\", linestyle='-', lw=1)\n",
      "    remove_border(ax2, right=True, left=False)\n",
      "    remove_border(ax3, right=False, left=True, bottom=False, top=True)\n",
      "    figure.subplots_adjust(left=0.15, right=0.95)\n",
      "    return [ax1,ax2,ax3]\n",
      "\n",
      "#BUG: need to get appropriate min and max amongst the multiple marginal hists\n",
      "#BUG: need to get highest frequency marked as label when we do this.\n",
      "def make_mhist(axeslist, x, y, color='b', mms=8):\n",
      "    ax1 = axeslist[0]\n",
      "    ax2 = axeslist[1]\n",
      "    ax3 = axeslist[2]\n",
      "    #print list(ax2.get_yticklabels())\n",
      "    for tl in (ax2.get_xticklabels() + ax2.get_yticklabels() +\n",
      "               ax3.get_xticklabels() + ax3.get_yticklabels()):\n",
      "        tl.set_visible(False)\n",
      "    #for tl in ( ax2.get_xticklabels() + ax3.get_yticklabels()):\n",
      "    #    tl.set_visible(False)\n",
      "    histbinslist = [np.ceil(len(x)/20.), np.ceil(len(y)/20.)]\n",
      "    histbinslist = copy.copy(histbinslist)\n",
      "    #style = {'histtype':'stepfilled', 'color':color, 'alpha':0.6, 'normed':True, 'stacked':True}\n",
      "    style = {'histtype':'stepfilled', 'color':color, 'alpha':0.4}\n",
      "    nbins = histbinslist[0]\n",
      "    x_range = [np.min(x), np.max(x)]\n",
      "    histbinslist[0] = np.linspace(x_range[0],  x_range[1], nbins)\n",
      "\n",
      "    ax2.hist(x, histbinslist[0], **style)\n",
      "\n",
      "    nbins = histbinslist[1]\n",
      "    y_range = [np.min(y), np.max(y)]\n",
      "    histbinslist[1] = np.linspace(y_range[0], y_range[1], nbins)\n",
      "    ax3.hist(y, histbinslist[1], orientation='horizontal', **style)"
     ],
     "language": "python",
     "metadata": {},
     "outputs": [],
     "prompt_number": 50
    },
    {
     "cell_type": "code",
     "collapsed": false,
     "input": [
      "import random\n",
      "import copy\n",
      "def scatter_by(df, scatterx, scattery, by=None, figure=None, axes=None, colorscale=dark2_cmap, labeler={}, mfunc=None, setupfunc=None, mms=8):\n",
      "    cs=copy.deepcopy(colorscale.mpl_colors)\n",
      "    if not figure:\n",
      "        figure=plt.figure(figsize=(8,8))\n",
      "    if not axes:\n",
      "        axes=figure.gca()\n",
      "    x=df[scatterx]\n",
      "    y=df[scattery]\n",
      "    if not by:\n",
      "        col=random.choice(cs)\n",
      "        axes.scatter(x, y, cmap=colorscale, c=col)\n",
      "        if setupfunc:\n",
      "            axeslist=setupfunc(axes, figure)\n",
      "        else:\n",
      "            axeslist=[axes]\n",
      "        if mfunc:\n",
      "            mfunc(axeslist,x,y,color=col, mms=mms)\n",
      "    else:\n",
      "        cs=list(np.linspace(0,1,len(df.groupby(by))))\n",
      "        xlimsd={}\n",
      "        ylimsd={}\n",
      "        xs={}\n",
      "        ys={}\n",
      "        cold={}\n",
      "        for k,g in df.groupby(by):\n",
      "            col=cs.pop()\n",
      "            x=g[scatterx]\n",
      "            y=g[scattery]\n",
      "            xs[k]=x\n",
      "            ys[k]=y\n",
      "            c=colorscale.mpl_colormap(col)\n",
      "            cold[k]=c\n",
      "            axes.scatter(x, y, c=c, label=labeler.get(k,k), s=40, alpha=0.3);\n",
      "            xlimsd[k]=axes.get_xlim()\n",
      "            ylimsd[k]=axes.get_ylim()\n",
      "        xlims=[min([xlimsd[k][0] for k in xlimsd.keys()]), max([xlimsd[k][1] for k in xlimsd.keys()])]\n",
      "        ylims=[min([ylimsd[k][0] for k in ylimsd.keys()]), max([ylimsd[k][1] for k in ylimsd.keys()])]\n",
      "        axes.set_xlim(xlims)\n",
      "        axes.set_ylim(ylims)\n",
      "        if setupfunc:\n",
      "            axeslist=setupfunc(axes, figure)\n",
      "        else:\n",
      "            axeslist=[axes]\n",
      "        if mfunc:\n",
      "            for k in xs.keys():\n",
      "                mfunc(axeslist,xs[k],ys[k],color=cold[k], mms=mms);\n",
      "    axes.set_xlabel(scatterx);\n",
      "    axes.set_ylabel(scattery);\n",
      "    \n",
      "    return axes\n",
      "\n",
      "def make_rug(axeslist, x, y, color='b', mms=8):\n",
      "    axes=axeslist[0]\n",
      "    zerosx1=np.zeros(len(x))\n",
      "    zerosx2=np.zeros(len(x))\n",
      "    xlims=axes.get_xlim()\n",
      "    ylims=axes.get_ylim()\n",
      "    zerosx1.fill(ylims[1])\n",
      "    zerosx2.fill(xlims[1])\n",
      "    axes.plot(x, zerosx1, marker='|', color=color, ms=mms)\n",
      "    axes.plot(zerosx2, y, marker='_', color=color, ms=mms)\n",
      "    axes.set_xlim(xlims)\n",
      "    axes.set_ylim(ylims)\n",
      "    return axes\n",
      "    \n",
      "#BUG: remove ticks and maybe even border on top and right"
     ],
     "language": "python",
     "metadata": {},
     "outputs": [],
     "prompt_number": 51
    },
    {
     "cell_type": "code",
     "collapsed": false,
     "input": [
      "ax=scatter_by(df, 'linoleic', 'eicosenoic', by='region', labeler=rmap, mfunc=make_rug, mms=20)\n",
      "ax.grid(False)\n",
      "ax.legend(loc='upper right');"
     ],
     "language": "python",
     "metadata": {},
     "outputs": [],
     "prompt_number": 52
    },
    {
     "cell_type": "code",
     "collapsed": false,
     "input": [
      "ax=scatter_by(df, 'linoleic', 'arachidic', by='region', labeler=rmap, setupfunc=setup_mhist, mfunc=make_mhist, mms=20)\n",
      "ax.grid(False)\n",
      "ax.legend(loc='upper right');"
     ],
     "language": "python",
     "metadata": {},
     "outputs": [],
     "prompt_number": 53
    },
    {
     "cell_type": "code",
     "collapsed": false,
     "input": [
      "ax=scatter_by(df, 'linoleic', 'eicosenoic', by='region', labeler=rmap, setupfunc=setup_mhist, mfunc=make_mhist, mms=20)\n",
      "ax.grid(False)\n",
      "ax.legend(loc='upper right');"
     ],
     "language": "python",
     "metadata": {},
     "outputs": [],
     "prompt_number": 54
    },
    {
     "cell_type": "markdown",
     "metadata": {},
     "source": [
      "### Probability distributions"
     ]
    },
    {
     "cell_type": "code",
     "collapsed": false,
     "input": [
      "import scipy.stats as stats\n",
      "mu=0.\n",
      "sigma=1.\n",
      "samples=np.random.normal(mu, sigma, 10000)\n",
      "plt.hist(samples,bins=25, normed=True)\n",
      "nd=stats.norm()\n",
      "plt.hist(nd.rvs(size=10000), bins=25, alpha=0.5,normed=True)\n",
      "x=np.linspace(-4.0,4.0,100)\n",
      "plt.plot(x,nd.pdf(x))\n",
      "plt.plot(x,nd.cdf(x))"
     ],
     "language": "python",
     "metadata": {},
     "outputs": [],
     "prompt_number": 55
    },
    {
     "cell_type": "code",
     "collapsed": false,
     "input": [
      "mean = [0,0]\n",
      "cov = [[1,0],[0,5]] # diagonal covariance, points lie on x or y-axis\n",
      "m=300\n",
      "nrvs = np.random.multivariate_normal(mean,cov,(m,m))\n",
      "duets=nrvs.reshape(m*m,2)\n",
      "print duets[:,1]\n",
      "normaldf=pd.DataFrame(dict(x=duets[:,0], y=duets[:,1]))\n",
      "normaldf.head()\n",
      "ax=scatter_by(normaldf, 'x', 'y',  figure=plt.figure(figsize=(8,10)),setupfunc=setup_mhist, mfunc=make_mhist, mms=20)\n",
      "#ax.grid(False)"
     ],
     "language": "python",
     "metadata": {},
     "outputs": [],
     "prompt_number": 56
    },
    {
     "cell_type": "code",
     "collapsed": false,
     "input": [
      "H, xedges, yedges = np.histogram2d(normaldf.x, normaldf.y, bins=(50, 50), normed=True)\n",
      "extent = [xedges[0], xedges[-1], yedges[-1], yedges[0]]\n",
      "plt.imshow(H, extent=extent, interpolation='nearest')\n",
      "plt.colorbar()"
     ],
     "language": "python",
     "metadata": {},
     "outputs": [],
     "prompt_number": 57
    },
    {
     "cell_type": "markdown",
     "metadata": {},
     "source": [
      "### Miscellaneous Pandas Plotting tools: scatters, boxplots, and parallel co-ordinates"
     ]
    },
    {
     "cell_type": "code",
     "collapsed": false,
     "input": [
      "from pandas.tools.plotting import scatter_matrix\n",
      "scatter_matrix(df[['linoleic','arachidic','eicosenoic']], alpha=0.3, figsize=(10, 10), diagonal='kde');"
     ],
     "language": "python",
     "metadata": {},
     "outputs": [],
     "prompt_number": 58
    },
    {
     "cell_type": "code",
     "collapsed": false,
     "input": [
      "plt.figure(figsize=(24,5))\n",
      "for key, group in df.groupby('region'):\n",
      "    plt.subplot(int('13'+str(key)))\n",
      "    group[acidlistminusoleic].boxplot(grid=False)\n",
      "    ax=plt.gca()\n",
      "    ax.set_title(rvals[key-1])\n",
      "    remove_border(ax, left=False, bottom=False)\n",
      "    ax.grid(axis=\"y\", color=\"gray\", linestyle=':', lw=1)\n"
     ],
     "language": "python",
     "metadata": {},
     "outputs": [],
     "prompt_number": 59
    },
    {
     "cell_type": "code",
     "collapsed": false,
     "input": [
      "from pandas.tools.plotting import parallel_coordinates\n",
      "dfna=df[['region', 'palmitic', 'palmitoleic', 'stearic', 'oleic', 'linolenic', 'linoleic', 'arachidic', 'eicosenoic']]\n",
      "dfna_norm = (dfna - dfna.mean()) / (dfna.max() - dfna.min())\n",
      "dfna_norm['region']=df['region'].map(lambda x: rmap[x])\n",
      "parallel_coordinates(dfna_norm, 'region', colors=[dark2_cmap.mpl_colormap(col) for col in [1.0,0.5,0.0]], alpha=0.05)"
     ],
     "language": "python",
     "metadata": {},
     "outputs": [],
     "prompt_number": 60
    },
    {
     "cell_type": "markdown",
     "metadata": {},
     "source": [
      "### Improving the pandas histograms"
     ]
    },
    {
     "cell_type": "code",
     "collapsed": false,
     "input": [
      "ax2=mdf2.plot(kind='barh', stacked=True, color=dark2_colors, grid=False, legend=False)\n",
      "remove_border(ax2, left=False, bottom=False)\n",
      "ax2.grid(axis=\"x\", color=\"white\", linestyle='-', lw=1)\n",
      "ax2.legend(loc='right', bbox_to_anchor=(1.3,0.5))\n",
      "labels2=['South','Sardinia','North']\n",
      "ax2.set_yticklabels(labels2)\n",
      "ax2.set_ylabel('');\n",
      "ax2.set_xlim(right=100.0);"
     ],
     "language": "python",
     "metadata": {},
     "outputs": [],
     "prompt_number": 61
    },
    {
     "cell_type": "code",
     "collapsed": false,
     "input": [
      "#your code here\n"
     ],
     "language": "python",
     "metadata": {},
     "outputs": [],
     "prompt_number": 62
    },
    {
     "cell_type": "markdown",
     "metadata": {},
     "source": [
      "### More details are only good at times"
     ]
    },
    {
     "cell_type": "markdown",
     "metadata": {},
     "source": [
      "It's hard to understand the graph below. A hierarchical approach as we have used is better."
     ]
    },
    {
     "cell_type": "code",
     "collapsed": false,
     "input": [
      "fig=plt.figure(figsize=(10,10))\n",
      "ax=scatter_by(df, 'linoleic', 'arachidic', by='area', figure=fig, labeler=imap, setupfunc=setup_mhist, mfunc=make_mhist, mms=20)\n",
      "ax.grid(False)\n",
      "ax.legend(loc='right', bbox_to_anchor=(1.7,0.5));"
     ],
     "language": "python",
     "metadata": {},
     "outputs": [],
     "prompt_number": 63
    },
    {
     "cell_type": "markdown",
     "metadata": {},
     "source": [
      "On the other hand, inspecting loads of scatter plots is not a bad idea!"
     ]
    },
    {
     "cell_type": "code",
     "collapsed": false,
     "input": [
      "indices=np.tril_indices(8)\n",
      "plts=[]\n",
      "for i,j in zip(indices[0], indices[1]):\n",
      "    if i!=j:\n",
      "        plts.append((i,j))\n",
      "print plts"
     ],
     "language": "python",
     "metadata": {},
     "outputs": [],
     "prompt_number": 64
    },
    {
     "cell_type": "code",
     "collapsed": false,
     "input": [
      "fig, axes = plt.subplots(nrows=14, ncols=2, figsize=(14,40));\n",
      "k=0\n",
      "af=axes.flatten()\n",
      "for a in af:\n",
      "    i,j=plts[k]\n",
      "    a=scatter_by(df, acidlist[i], acidlist[j], by='region', axes=a, labeler=rmap, mfunc=make_rug, mms=20);\n",
      "    a.grid(False);\n",
      "    k=k+1\n",
      "af[0].legend(loc='best');\n",
      "fig.tight_layout();"
     ],
     "language": "python",
     "metadata": {},
     "outputs": [],
     "prompt_number": 65
    }
   ],
   "metadata": {}
  }
 ]
}