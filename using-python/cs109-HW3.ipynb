{
 "metadata": {
  "name": "",
  "signature": "sha256:f4e2890af5b1bd5720d2c1656f25db57a94086634b29b8a14331e8c0847e26db"
 },
 "nbformat": 3,
 "nbformat_minor": 0,
 "worksheets": [
  {
   "cells": [
    {
     "cell_type": "markdown",
     "metadata": {},
     "source": [
      "# Homework 3. Bayesian Tomatoes"
     ]
    },
    {
     "cell_type": "markdown",
     "metadata": {},
     "source": [
      "<div class=\"banner-container\">\n",
      "<img src=\"http://content7.flixster.com/movie/11/16/81/11168101_det.jpg\" width=180>\n",
      "</div>\n",
      "\n",
      "<div class=\"banner-container\">\n",
      "<img src=\"http://content6.flixster.com/movie/11/15/15/11151508_det.jpg\" width=180>\n",
      "</div>\n",
      "\n",
      "<div class=\"banner-container\">\n",
      "<img src=\"http://content9.flixster.com/movie/11/16/61/11166199_det.jpg\" width=180>\n",
      "</div>\n",
      "\n",
      "<div class=\"clear\"> </div>\n",
      "\n",
      "<style type=\"text/css\">\n",
      ".banner-container {\n",
      "height:350px;\n",
      "margin-left: 30px;\n",
      "float:left;\n",
      "}\n",
      ".clear {\n",
      "clear:both;\n",
      "}\n",
      "</style>"
     ]
    },
    {
     "cell_type": "markdown",
     "metadata": {},
     "source": [
      "In this assignment, you'll be analyzing movie reviews from [Rotten Tomatoes](http://www.rottentomatoes.com). This assignment will cover:\n",
      "\n",
      " * Working with web APIs\n",
      " * Making and interpreting predictions from a Bayesian perspective\n",
      " * Using the Naive Bayes algorithm to predict whether a movie review is positive or negative\n",
      " * Using cross validation to optimize models\n",
      "\n",
      "Useful libraries for this assignment\n",
      "\n",
      "* [numpy](http://docs.scipy.org/doc/numpy-dev/user/index.html), for arrays\n",
      "* [scikit-learn](http://scikit-learn.org/stable/), for machine learning\n",
      "* [json](http://docs.python.org/2/library/json.html) for parsing JSON data from the web.\n",
      "* [pandas](http://pandas.pydata.org/), for data frames\n",
      "* [matplotlib](http://matplotlib.org/), for plotting\n",
      "* [requests](http://docs.python-requests.org/en/latest/), for downloading web content"
     ]
    },
    {
     "cell_type": "code",
     "collapsed": false,
     "input": [
      "%matplotlib inline\n",
      "\n",
      "import json\n",
      "\n",
      "import requests\n",
      "import pandas as pd\n",
      "import numpy as np\n",
      "import matplotlib.pyplot as plt\n",
      "\n",
      "pd.set_option('display.width', 500)\n",
      "pd.set_option('display.max_columns', 30)\n",
      "\n",
      "# set some nicer defaults for matplotlib\n",
      "from matplotlib import rcParams\n",
      "\n",
      "#these colors come from colorbrewer2.org. Each is an RGB triplet\n",
      "dark2_colors = [(0.10588235294117647, 0.6196078431372549, 0.4666666666666667),\n",
      "                (0.8509803921568627, 0.37254901960784315, 0.00784313725490196),\n",
      "                (0.4588235294117647, 0.4392156862745098, 0.7019607843137254),\n",
      "                (0.9058823529411765, 0.1607843137254902, 0.5411764705882353),\n",
      "                (0.4, 0.6509803921568628, 0.11764705882352941),\n",
      "                (0.9019607843137255, 0.6705882352941176, 0.00784313725490196),\n",
      "                (0.6509803921568628, 0.4627450980392157, 0.11372549019607843),\n",
      "                (0.4, 0.4, 0.4)]\n",
      "\n",
      "rcParams['figure.figsize'] = (10, 6)\n",
      "rcParams['figure.dpi'] = 150\n",
      "rcParams['axes.color_cycle'] = dark2_colors\n",
      "rcParams['lines.linewidth'] = 2\n",
      "rcParams['axes.grid'] = False\n",
      "rcParams['axes.facecolor'] = 'white'\n",
      "rcParams['font.size'] = 14\n",
      "rcParams['patch.edgecolor'] = 'none'\n",
      "\n",
      "\n",
      "def remove_border(axes=None, top=False, right=False, left=True, bottom=True):\n",
      "    \"\"\"\n",
      "    Minimize chartjunk by stripping out unnecessary plot borders and axis ticks\n",
      "    \n",
      "    The top/right/left/bottom keywords toggle whether the corresponding plot border is drawn\n",
      "    \"\"\"\n",
      "    ax = axes or plt.gca()\n",
      "    ax.spines['top'].set_visible(top)\n",
      "    ax.spines['right'].set_visible(right)\n",
      "    ax.spines['left'].set_visible(left)\n",
      "    ax.spines['bottom'].set_visible(bottom)\n",
      "    \n",
      "    #turn off all ticks\n",
      "    ax.yaxis.set_ticks_position('none')\n",
      "    ax.xaxis.set_ticks_position('none')\n",
      "    \n",
      "    #now re-enable visibles\n",
      "    if top:\n",
      "        ax.xaxis.tick_top()\n",
      "    if bottom:\n",
      "        ax.xaxis.tick_bottom()\n",
      "    if left:\n",
      "        ax.yaxis.tick_left()\n",
      "    if right:\n",
      "        ax.yaxis.tick_right()"
     ],
     "language": "python",
     "metadata": {},
     "outputs": [],
     "prompt_number": 1
    },
    {
     "cell_type": "markdown",
     "metadata": {},
     "source": [
      "## Introduction\n",
      "\n",
      "Rotten Tomatoes gathers movie reviews from critics. An [entry on the website](http://www.rottentomatoes.com/m/primer/reviews/?type=top_critics) typically consists of a short quote, a link to the full review, and a Fresh/Rotten classification which summarizes whether the critic liked/disliked the movie.\n",
      "\n",
      "\n",
      "When critics give quantitative ratings (say 3/4 stars, Thumbs up, etc.), determining the Fresh/Rotten classification is easy. However, publications like the New York Times don't assign numerical ratings to movies, and thus the Fresh/Rotten classification must be inferred from the text of the review itself.\n",
      "\n",
      "This basic task of categorizing text has many applications. All of the following questions boil down to text classification:\n",
      "\n",
      " * Is a movie review positive or negative?\n",
      " * Is an email spam, or not?\n",
      " * Is a comment on a blog discussion board appropriate, or not?\n",
      " * Is a tweet about your company positive, or not?\n",
      " \n",
      "\n",
      "Language is incredibly nuanced, and there is an entire field of computer science dedicated to the topic (Natural Language Processing). Nevertheless, we can construct basic language models using fairly straightforward techniques. \n",
      "\n",
      "## The Data\n",
      "\n",
      "You will be starting with a database of Movies, derived from the MovieLens dataset. This dataset includes information for about 10,000 movies, including the IMDB id for each movie. \n",
      "\n",
      "Your first task is to download Rotten Tomatoes reviews from 3000 of these movies, using the Rotten Tomatoes API (Application Programming Interface)."
     ]
    },
    {
     "cell_type": "markdown",
     "metadata": {},
     "source": [
      "### Working with Web APIs\n",
      "Web APIs are a more convenient way for programs to interact with websites. Rotten Tomatoes has a nice API that gives access to its data in JSON format.\n",
      "\n",
      "To use this, you will first need to [register for an API key](http://developer.rottentomatoes.com/member/register). For \"application URL\", you can use anything -- it doesn't matter.\n",
      "\n",
      "After you have a key, the [documentation page](http://developer.rottentomatoes.com/iodocs) shows the various data you can fetch from Rotten Tomatoes -- each type of data lives at a different web address. The basic pattern for fetching this data with Python is as follows (compare this to the `Movie Reviews` tab on the documentation page):"
     ]
    },
    {
     "cell_type": "code",
     "collapsed": false,
     "input": [
      "api_key = 'qrv3pykesmyjh9fm6p24684k'\n",
      "movie_id = '770672122'  # toy story 3\n",
      "url = 'http://api.rottentomatoes.com/api/public/v1.0/movies/%s/reviews.json' % movie_id\n",
      "\n",
      "#these are \"get parameters\"\n",
      "options = {'review_type': 'top_critic', 'page_limit': 20, 'page': 1, 'apikey': api_key}\n",
      "data = requests.get(url, params=options).text\n",
      "data = json.loads(data)  # load a json string into a collection of lists and dicts\n",
      "\n",
      "print json.dumps(data['reviews'][3], indent=2)  # dump an object into a json string"
     ],
     "language": "python",
     "metadata": {},
     "outputs": [
      {
       "output_type": "stream",
       "stream": "stdout",
       "text": [
        "{\n",
        "  \"publication\": \"TheWrap\", \n",
        "  \"links\": {\n",
        "    \"review\": \"http://www.thewrap.com/column-post/oh-peter-pan-would-hate-toy-story-3-18493\"\n",
        "  }, \n",
        "  \"quote\": \"It's still more inventive, clever and laugh-out-loud funny than any other movie out there now.\", \n",
        "  \"freshness\": \"fresh\", \n",
        "  \"critic\": \"Leah Rozen\", \n",
        "  \"date\": \"2011-10-07\"\n",
        "}\n"
       ]
      }
     ],
     "prompt_number": 2
    },
    {
     "cell_type": "markdown",
     "metadata": {},
     "source": [
      "## Part 1: Get the data\n",
      "Here's a chunk of the MovieLens Dataset:"
     ]
    },
    {
     "cell_type": "code",
     "collapsed": false,
     "input": [
      "from io import StringIO  \n",
      "movie_txt = requests.get('https://raw.github.com/cs109/cs109_data/master/movies.dat').text\n",
      "movie_file = StringIO(movie_txt) # treat a string like a file\n",
      "movies = pd.read_csv(movie_file, delimiter='\\t')\n",
      "\n",
      "#print the first row\n",
      "movies[['id', 'title', 'imdbID', 'year']].irow(0)"
     ],
     "language": "python",
     "metadata": {},
     "outputs": [
      {
       "metadata": {},
       "output_type": "pyout",
       "prompt_number": 3,
       "text": [
        "id                1\n",
        "title     Toy story\n",
        "imdbID       114709\n",
        "year           1995\n",
        "Name: 0, dtype: object"
       ]
      }
     ],
     "prompt_number": 3
    },
    {
     "cell_type": "code",
     "collapsed": false,
     "input": [
      "movies.head()"
     ],
     "language": "python",
     "metadata": {},
     "outputs": [
      {
       "html": [
        "<div style=\"max-height:1000px;max-width:1500px;overflow:auto;\">\n",
        "<table border=\"1\" class=\"dataframe\">\n",
        "  <thead>\n",
        "    <tr style=\"text-align: right;\">\n",
        "      <th></th>\n",
        "      <th>id</th>\n",
        "      <th>title</th>\n",
        "      <th>imdbID</th>\n",
        "      <th>spanishTitle</th>\n",
        "      <th>imdbPictureURL</th>\n",
        "      <th>year</th>\n",
        "      <th>rtID</th>\n",
        "      <th>rtAllCriticsRating</th>\n",
        "      <th>rtAllCriticsNumReviews</th>\n",
        "      <th>rtAllCriticsNumFresh</th>\n",
        "      <th>rtAllCriticsNumRotten</th>\n",
        "      <th>rtAllCriticsScore</th>\n",
        "      <th>rtTopCriticsRating</th>\n",
        "      <th>rtTopCriticsNumReviews</th>\n",
        "      <th>rtTopCriticsNumFresh</th>\n",
        "      <th>rtTopCriticsNumRotten</th>\n",
        "      <th>rtTopCriticsScore</th>\n",
        "      <th>rtAudienceRating</th>\n",
        "      <th>rtAudienceNumRatings</th>\n",
        "      <th>rtAudienceScore</th>\n",
        "      <th>rtPictureURL</th>\n",
        "    </tr>\n",
        "  </thead>\n",
        "  <tbody>\n",
        "    <tr>\n",
        "      <th>0</th>\n",
        "      <td> 1</td>\n",
        "      <td>                   Toy story</td>\n",
        "      <td> 114709</td>\n",
        "      <td>                              Toy story (juguetes)</td>\n",
        "      <td> http://ia.media-imdb.com/images/M/MV5BMTMwNDU0...</td>\n",
        "      <td> 1995</td>\n",
        "      <td>                   toy_story</td>\n",
        "      <td>   9</td>\n",
        "      <td> 73</td>\n",
        "      <td> 73</td>\n",
        "      <td>  0</td>\n",
        "      <td> 100</td>\n",
        "      <td> 8.5</td>\n",
        "      <td> 17</td>\n",
        "      <td> 17</td>\n",
        "      <td> 0</td>\n",
        "      <td> 100</td>\n",
        "      <td> 3.7</td>\n",
        "      <td> 102338</td>\n",
        "      <td> 81</td>\n",
        "      <td> http://content7.flixster.com/movie/10/93/63/10...</td>\n",
        "    </tr>\n",
        "    <tr>\n",
        "      <th>1</th>\n",
        "      <td> 2</td>\n",
        "      <td>                     Jumanji</td>\n",
        "      <td> 113497</td>\n",
        "      <td>                                           Jumanji</td>\n",
        "      <td> http://ia.media-imdb.com/images/M/MV5BMzM5NjE1...</td>\n",
        "      <td> 1995</td>\n",
        "      <td>             1068044-jumanji</td>\n",
        "      <td> 5.6</td>\n",
        "      <td> 28</td>\n",
        "      <td> 13</td>\n",
        "      <td> 15</td>\n",
        "      <td>  46</td>\n",
        "      <td> 5.8</td>\n",
        "      <td>  5</td>\n",
        "      <td>  2</td>\n",
        "      <td> 3</td>\n",
        "      <td>  40</td>\n",
        "      <td> 3.2</td>\n",
        "      <td>  44587</td>\n",
        "      <td> 61</td>\n",
        "      <td> http://content8.flixster.com/movie/56/79/73/56...</td>\n",
        "    </tr>\n",
        "    <tr>\n",
        "      <th>2</th>\n",
        "      <td> 3</td>\n",
        "      <td>              Grumpy Old Men</td>\n",
        "      <td> 107050</td>\n",
        "      <td>                               Dos viejos gru\u00f1ones</td>\n",
        "      <td> http://ia.media-imdb.com/images/M/MV5BMTI5MTgy...</td>\n",
        "      <td> 1993</td>\n",
        "      <td>              grumpy_old_men</td>\n",
        "      <td> 5.9</td>\n",
        "      <td> 36</td>\n",
        "      <td> 24</td>\n",
        "      <td> 12</td>\n",
        "      <td>  66</td>\n",
        "      <td>   7</td>\n",
        "      <td>  6</td>\n",
        "      <td>  5</td>\n",
        "      <td> 1</td>\n",
        "      <td>  83</td>\n",
        "      <td> 3.2</td>\n",
        "      <td>  10489</td>\n",
        "      <td> 66</td>\n",
        "      <td> http://content6.flixster.com/movie/25/60/25602...</td>\n",
        "    </tr>\n",
        "    <tr>\n",
        "      <th>3</th>\n",
        "      <td> 4</td>\n",
        "      <td>           Waiting to Exhale</td>\n",
        "      <td> 114885</td>\n",
        "      <td>                              Esperando un respiro</td>\n",
        "      <td> http://ia.media-imdb.com/images/M/MV5BMTczMTMy...</td>\n",
        "      <td> 1995</td>\n",
        "      <td>           waiting_to_exhale</td>\n",
        "      <td> 5.6</td>\n",
        "      <td> 25</td>\n",
        "      <td> 14</td>\n",
        "      <td> 11</td>\n",
        "      <td>  56</td>\n",
        "      <td> 5.5</td>\n",
        "      <td> 11</td>\n",
        "      <td>  5</td>\n",
        "      <td> 6</td>\n",
        "      <td>  45</td>\n",
        "      <td> 3.3</td>\n",
        "      <td>   5666</td>\n",
        "      <td> 79</td>\n",
        "      <td> http://content9.flixster.com/movie/10/94/17/10...</td>\n",
        "    </tr>\n",
        "    <tr>\n",
        "      <th>4</th>\n",
        "      <td> 5</td>\n",
        "      <td> Father of the Bride Part II</td>\n",
        "      <td> 113041</td>\n",
        "      <td> Vuelve el padre de la novia (Ahora tambi\u00e9n abu...</td>\n",
        "      <td> http://ia.media-imdb.com/images/M/MV5BMTg1NDc2...</td>\n",
        "      <td> 1995</td>\n",
        "      <td> father_of_the_bride_part_ii</td>\n",
        "      <td> 5.3</td>\n",
        "      <td> 19</td>\n",
        "      <td>  9</td>\n",
        "      <td> 10</td>\n",
        "      <td>  47</td>\n",
        "      <td> 5.4</td>\n",
        "      <td>  5</td>\n",
        "      <td>  1</td>\n",
        "      <td> 4</td>\n",
        "      <td>  20</td>\n",
        "      <td>   3</td>\n",
        "      <td>  13761</td>\n",
        "      <td> 64</td>\n",
        "      <td> http://content8.flixster.com/movie/25/54/25542...</td>\n",
        "    </tr>\n",
        "  </tbody>\n",
        "</table>\n",
        "</div>"
       ],
       "metadata": {},
       "output_type": "pyout",
       "prompt_number": 4,
       "text": [
        "   id                        title  imdbID                                       spanishTitle                                     imdbPictureURL  year                         rtID rtAllCriticsRating rtAllCriticsNumReviews rtAllCriticsNumFresh rtAllCriticsNumRotten rtAllCriticsScore rtTopCriticsRating rtTopCriticsNumReviews rtTopCriticsNumFresh rtTopCriticsNumRotten rtTopCriticsScore rtAudienceRating rtAudienceNumRatings rtAudienceScore                                       rtPictureURL\n",
        "0   1                    Toy story  114709                               Toy story (juguetes)  http://ia.media-imdb.com/images/M/MV5BMTMwNDU0...  1995                    toy_story                  9                     73                   73                     0               100                8.5                     17                   17                     0               100              3.7               102338              81  http://content7.flixster.com/movie/10/93/63/10...\n",
        "1   2                      Jumanji  113497                                            Jumanji  http://ia.media-imdb.com/images/M/MV5BMzM5NjE1...  1995              1068044-jumanji                5.6                     28                   13                    15                46                5.8                      5                    2                     3                40              3.2                44587              61  http://content8.flixster.com/movie/56/79/73/56...\n",
        "2   3               Grumpy Old Men  107050                                Dos viejos gru\u00f1ones  http://ia.media-imdb.com/images/M/MV5BMTI5MTgy...  1993               grumpy_old_men                5.9                     36                   24                    12                66                  7                      6                    5                     1                83              3.2                10489              66  http://content6.flixster.com/movie/25/60/25602...\n",
        "3   4            Waiting to Exhale  114885                               Esperando un respiro  http://ia.media-imdb.com/images/M/MV5BMTczMTMy...  1995            waiting_to_exhale                5.6                     25                   14                    11                56                5.5                     11                    5                     6                45              3.3                 5666              79  http://content9.flixster.com/movie/10/94/17/10...\n",
        "4   5  Father of the Bride Part II  113041  Vuelve el padre de la novia (Ahora tambi\u00e9n abu...  http://ia.media-imdb.com/images/M/MV5BMTg1NDc2...  1995  father_of_the_bride_part_ii                5.3                     19                    9                    10                47                5.4                      5                    1                     4                20                3                13761              64  http://content8.flixster.com/movie/25/54/25542..."
       ]
      }
     ],
     "prompt_number": 4
    },
    {
     "cell_type": "code",
     "collapsed": false,
     "input": [
      "movies.loc[[2]]['imdbID']"
     ],
     "language": "python",
     "metadata": {},
     "outputs": [
      {
       "metadata": {},
       "output_type": "pyout",
       "prompt_number": 5,
       "text": [
        "2    107050\n",
        "Name: imdbID, dtype: int64"
       ]
      }
     ],
     "prompt_number": 5
    },
    {
     "cell_type": "code",
     "collapsed": false,
     "input": [
      "movies.shape"
     ],
     "language": "python",
     "metadata": {},
     "outputs": [
      {
       "metadata": {},
       "output_type": "pyout",
       "prompt_number": 6,
       "text": [
        "(9423, 21)"
       ]
      }
     ],
     "prompt_number": 6
    },
    {
     "cell_type": "code",
     "collapsed": false,
     "input": [
      "movies[movies['imdbID'] == 114709]['title']"
     ],
     "language": "python",
     "metadata": {},
     "outputs": [
      {
       "metadata": {},
       "output_type": "pyout",
       "prompt_number": 7,
       "text": [
        "0    Toy story\n",
        "Name: title, dtype: object"
       ]
      }
     ],
     "prompt_number": 7
    },
    {
     "cell_type": "code",
     "collapsed": false,
     "input": [
      "pd.isnull(movies['spanishTitle']).sum()"
     ],
     "language": "python",
     "metadata": {},
     "outputs": [
      {
       "metadata": {},
       "output_type": "pyout",
       "prompt_number": 8,
       "text": [
        "0"
       ]
      }
     ],
     "prompt_number": 8
    },
    {
     "cell_type": "code",
     "collapsed": false,
     "input": [
      "movies[['id', 'title', 'imdbID', 'year']][0:2]"
     ],
     "language": "python",
     "metadata": {},
     "outputs": [
      {
       "html": [
        "<div style=\"max-height:1000px;max-width:1500px;overflow:auto;\">\n",
        "<table border=\"1\" class=\"dataframe\">\n",
        "  <thead>\n",
        "    <tr style=\"text-align: right;\">\n",
        "      <th></th>\n",
        "      <th>id</th>\n",
        "      <th>title</th>\n",
        "      <th>imdbID</th>\n",
        "      <th>year</th>\n",
        "    </tr>\n",
        "  </thead>\n",
        "  <tbody>\n",
        "    <tr>\n",
        "      <th>0</th>\n",
        "      <td> 1</td>\n",
        "      <td> Toy story</td>\n",
        "      <td> 114709</td>\n",
        "      <td> 1995</td>\n",
        "    </tr>\n",
        "    <tr>\n",
        "      <th>1</th>\n",
        "      <td> 2</td>\n",
        "      <td>   Jumanji</td>\n",
        "      <td> 113497</td>\n",
        "      <td> 1995</td>\n",
        "    </tr>\n",
        "  </tbody>\n",
        "</table>\n",
        "</div>"
       ],
       "metadata": {},
       "output_type": "pyout",
       "prompt_number": 9,
       "text": [
        "   id      title  imdbID  year\n",
        "0   1  Toy story  114709  1995\n",
        "1   2    Jumanji  113497  1995"
       ]
      }
     ],
     "prompt_number": 9
    },
    {
     "cell_type": "code",
     "collapsed": false,
     "input": [
      "movies.columns"
     ],
     "language": "python",
     "metadata": {},
     "outputs": [
      {
       "metadata": {},
       "output_type": "pyout",
       "prompt_number": 10,
       "text": [
        "Index([u'id', u'title', u'imdbID', u'spanishTitle', u'imdbPictureURL', u'year', u'rtID', u'rtAllCriticsRating', u'rtAllCriticsNumReviews', u'rtAllCriticsNumFresh', u'rtAllCriticsNumRotten', u'rtAllCriticsScore', u'rtTopCriticsRating', u'rtTopCriticsNumReviews', u'rtTopCriticsNumFresh', u'rtTopCriticsNumRotten', u'rtTopCriticsScore', u'rtAudienceRating', u'rtAudienceNumRatings', u'rtAudienceScore', u'rtPictureURL'], dtype='object')"
       ]
      }
     ],
     "prompt_number": 10
    },
    {
     "cell_type": "code",
     "collapsed": false,
     "input": [
      "movies.index"
     ],
     "language": "python",
     "metadata": {},
     "outputs": [
      {
       "metadata": {},
       "output_type": "pyout",
       "prompt_number": 11,
       "text": [
        "Int64Index([0, 1, 2, 3, 4, 5, 6, 7, 8, 9, 10, 11, 12, 13, 14, 15, 16, 17, 18, 19, 20, 21, 22, 23, 24, 25, 26, 27, 28, 29, 30, 31, 32, 33, 34, 35, 36, 37, 38, 39, 40, 41, 42, 43, 44, 45, 46, 47, 48, 49, 50, 51, 52, 53, 54, 55, 56, 57, 58, 59, 60, 61, 62, 63, 64, 65, 66, 67, 68, 69, 70, 71, 72, 73, 74, 75, 76, 77, 78, 79, 80, 81, 82, 83, 84, 85, 86, 87, 88, 89, 90, 91, 92, 93, 94, 95, 96, 97, 98, 99, ...], dtype='int64')"
       ]
      }
     ],
     "prompt_number": 11
    },
    {
     "cell_type": "markdown",
     "metadata": {},
     "source": [
      "#### P1.1\n",
      "\n",
      "We'd like you to write a function that looks up the first 20 Top Critic Rotten Tomatoes reviews for a movie in the `movies` dataframe. This involves two steps:\n",
      "\n",
      "1. Use the `Movie Alias` API to look up the Rotten Tomatoes movie id from the IMDB id\n",
      "1. Use the `Movie Reviews` API to fetch the first 20 top-critic reviews for this movie\n",
      "\n",
      "Not all movies have Rotten Tomatoes IDs. In these cases, your function should return `None`. The detailed spec is below. We are giving you some freedom with how you implement this, but you'll probably want to break this task up into several small functions.\n",
      "\n",
      "**Hint**\n",
      "In some situations, the leading 0s in front of IMDB ids are important. IMDB ids have 7 digits"
     ]
    },
    {
     "cell_type": "code",
     "collapsed": true,
     "input": [
      "\"\"\"\n",
      "Function\n",
      "--------\n",
      "fetch_reviews(movies, row)\n",
      "\n",
      "Use the Rotten Tomatoes web API to fetch reviews for a particular movie\n",
      "\n",
      "Parameters\n",
      "----------\n",
      "movies : DataFrame \n",
      "  The movies data above\n",
      "row : int\n",
      "  The row of the movies DataFrame to use\n",
      "  \n",
      "Returns\n",
      "-------\n",
      "If you can match the IMDB id to a Rotten Tomatoes ID:\n",
      "  A DataFrame, containing the first 20 Top Critic reviews \n",
      "  for the movie. If a movie has less than 20 total reviews, return them all.\n",
      "  This should have the following columns:\n",
      "    critic : Name of the critic\n",
      "    fresh  : 'fresh' or 'rotten'\n",
      "    imdb   : IMDB id for the movie\n",
      "    publication: Publication that the critic writes for\n",
      "    quote  : string containing the movie review quote\n",
      "    review_data: Date of review\n",
      "    rtid   : Rotten Tomatoes ID for the movie\n",
      "    title  : Name of the movie\n",
      "    \n",
      "If you cannot match the IMDB id to a Rotten Tomatoes ID, return None\n",
      "\n",
      "Examples\n",
      "--------\n",
      ">>> reviews = fetch_reviews(movies, 0)\n",
      ">>> print len(reviews)\n",
      "20\n",
      ">>> print reviews.irow(1)\n",
      "critic                                               Derek Adams\n",
      "fresh                                                      fresh\n",
      "imdb                                                      114709\n",
      "publication                                             Time Out\n",
      "quote          So ingenious in concept, design and execution ...\n",
      "review_date                                           2009-10-04\n",
      "rtid                                                        9559\n",
      "title                                                  Toy story\n",
      "Name: 1, dtype: object\n",
      "\"\"\"\n",
      "#your code here\n",
      "\n",
      "def fetch_reviews(movies, row):\n",
      "    imdb_id = movies.iloc[row]['imdbID']\n",
      "    title = movies.iloc[row]['title']\n",
      "    \n",
      "    #print 'imdb_id', imdb_id\n",
      "    try:\n",
      "        movie_id = get_rtid(imdb_id)\n",
      "        url = 'http://api.rottentomatoes.com/api/public/v1.0/movies/%s/reviews.json' % movie_id\n",
      "\n",
      "        #these are \"get parameters\"\n",
      "        options = {'review_type': 'top_critic', 'page_limit': 20, 'page': 1, 'apikey': api_key}\n",
      "        data = requests.get(url, params=options).text\n",
      "        data = json.loads(data)  # load a json string into a collection of lists and dicts\n",
      "        data = data['reviews']\n",
      "        if(len(data) > 20):\n",
      "            data = data[0:19]\n",
      "        reviews_for_df = [{'fresh':r['freshness'], \n",
      "                         'quote':r['quote'], \n",
      "                         'critic':r['critic'], \n",
      "                         'publication':r['publication'], \n",
      "                         'review_date':r['date'],\n",
      "                         'imdb':imdb_id, 'rtid':movie_id\n",
      "                         } for r in data]\n",
      "\n",
      "        df = pd.DataFrame(reviews_for_df)\n",
      "        df['title'] = title\n",
      "    except KeyError:\n",
      "        return None\n",
      "    \n",
      "    return df\n",
      "\n",
      "def get_rtid(imdb_id):\n",
      "    #imdb_id = '114709'  # toy story 3\n",
      "    imdb = \"\".join(['0'* (7 - len(str(imdb_id))), str(imdb_id)])\n",
      "    #print 'imdb', imdb\n",
      "    #url = 'http://api.rottentomatoes.com/api/public/v1.0/movies/%s/alias.json' % movie_id\n",
      "\n",
      "    url = 'http://api.rottentomatoes.com/api/public/v1.0/movie_alias.json'\n",
      "\n",
      "    #these are \"get parameters\"\n",
      "    options = {'type': 'imdb', 'id': imdb, 'apikey': api_key}\n",
      "    data = requests.get(url, params=options).text\n",
      "    data = json.loads(data)  # load a json string into a collection of lists and dicts\n",
      "\n",
      "    movie_id = data['id']\n",
      "\n",
      "    return movie_id\n",
      "    "
     ],
     "language": "python",
     "metadata": {},
     "outputs": [],
     "prompt_number": 12
    },
    {
     "cell_type": "code",
     "collapsed": false,
     "input": [
      "fetch_reviews(movies, 90)"
     ],
     "language": "python",
     "metadata": {},
     "outputs": [
      {
       "html": [
        "<div style=\"max-height:1000px;max-width:1500px;overflow:auto;\">\n",
        "<table border=\"1\" class=\"dataframe\">\n",
        "  <thead>\n",
        "    <tr style=\"text-align: right;\">\n",
        "      <th></th>\n",
        "      <th>critic</th>\n",
        "      <th>fresh</th>\n",
        "      <th>imdb</th>\n",
        "      <th>publication</th>\n",
        "      <th>quote</th>\n",
        "      <th>review_date</th>\n",
        "      <th>rtid</th>\n",
        "      <th>title</th>\n",
        "    </tr>\n",
        "  </thead>\n",
        "  <tbody>\n",
        "    <tr>\n",
        "      <th>0 </th>\n",
        "      <td>    Owen Gleiberman</td>\n",
        "      <td> rotten</td>\n",
        "      <td> 114825</td>\n",
        "      <td>    Entertainment Weekly</td>\n",
        "      <td>                                                  </td>\n",
        "      <td> 2011-09-07</td>\n",
        "      <td> 14915</td>\n",
        "      <td> Vampire in Brooklyn</td>\n",
        "    </tr>\n",
        "    <tr>\n",
        "      <th>1 </th>\n",
        "      <td>        Brian Lowry</td>\n",
        "      <td>   none</td>\n",
        "      <td> 114825</td>\n",
        "      <td>                 Variety</td>\n",
        "      <td>                                                  </td>\n",
        "      <td> 2009-03-26</td>\n",
        "      <td> 14915</td>\n",
        "      <td> Vampire in Brooklyn</td>\n",
        "    </tr>\n",
        "    <tr>\n",
        "      <th>2 </th>\n",
        "      <td>                   </td>\n",
        "      <td>   none</td>\n",
        "      <td> 114825</td>\n",
        "      <td>                Time Out</td>\n",
        "      <td>                                                  </td>\n",
        "      <td> 2006-01-26</td>\n",
        "      <td> 14915</td>\n",
        "      <td> Vampire in Brooklyn</td>\n",
        "    </tr>\n",
        "    <tr>\n",
        "      <th>3 </th>\n",
        "      <td>        Caryn James</td>\n",
        "      <td>   none</td>\n",
        "      <td> 114825</td>\n",
        "      <td>          New York Times</td>\n",
        "      <td>                                                  </td>\n",
        "      <td> 2003-05-20</td>\n",
        "      <td> 14915</td>\n",
        "      <td> Vampire in Brooklyn</td>\n",
        "    </tr>\n",
        "    <tr>\n",
        "      <th>4 </th>\n",
        "      <td>       Jack Mathews</td>\n",
        "      <td>   none</td>\n",
        "      <td> 114825</td>\n",
        "      <td>       Los Angeles Times</td>\n",
        "      <td>                                                  </td>\n",
        "      <td> 2002-08-14</td>\n",
        "      <td> 14915</td>\n",
        "      <td> Vampire in Brooklyn</td>\n",
        "    </tr>\n",
        "    <tr>\n",
        "      <th>5 </th>\n",
        "      <td>        Peter Stack</td>\n",
        "      <td> rotten</td>\n",
        "      <td> 114825</td>\n",
        "      <td> San Francisco Chronicle</td>\n",
        "      <td> Vampire in Brooklyn is neither funny nor frigh...</td>\n",
        "      <td> 2002-06-18</td>\n",
        "      <td> 14915</td>\n",
        "      <td> Vampire in Brooklyn</td>\n",
        "    </tr>\n",
        "    <tr>\n",
        "      <th>6 </th>\n",
        "      <td>         Liam Lacey</td>\n",
        "      <td> rotten</td>\n",
        "      <td> 114825</td>\n",
        "      <td>          Globe and Mail</td>\n",
        "      <td> Neither as good as it might be nor as bad as y...</td>\n",
        "      <td> 2002-04-12</td>\n",
        "      <td> 14915</td>\n",
        "      <td> Vampire in Brooklyn</td>\n",
        "    </tr>\n",
        "    <tr>\n",
        "      <th>7 </th>\n",
        "      <td>        Roger Ebert</td>\n",
        "      <td> rotten</td>\n",
        "      <td> 114825</td>\n",
        "      <td>       Chicago Sun-Times</td>\n",
        "      <td> To call this a comedy is a sign of optimism; t...</td>\n",
        "      <td> 2000-01-01</td>\n",
        "      <td> 14915</td>\n",
        "      <td> Vampire in Brooklyn</td>\n",
        "    </tr>\n",
        "    <tr>\n",
        "      <th>8 </th>\n",
        "      <td>   Susan Wloszczyna</td>\n",
        "      <td> rotten</td>\n",
        "      <td> 114825</td>\n",
        "      <td>               USA Today</td>\n",
        "      <td> Murphy's pale efforts are enough to make one f...</td>\n",
        "      <td> 2000-01-01</td>\n",
        "      <td> 14915</td>\n",
        "      <td> Vampire in Brooklyn</td>\n",
        "    </tr>\n",
        "    <tr>\n",
        "      <th>9 </th>\n",
        "      <td>        Susan Stark</td>\n",
        "      <td> rotten</td>\n",
        "      <td> 114825</td>\n",
        "      <td>            Detroit News</td>\n",
        "      <td> They're no match, though, for the crushing dis...</td>\n",
        "      <td> 2000-01-01</td>\n",
        "      <td> 14915</td>\n",
        "      <td> Vampire in Brooklyn</td>\n",
        "    </tr>\n",
        "    <tr>\n",
        "      <th>10</th>\n",
        "      <td> James Berardinelli</td>\n",
        "      <td> rotten</td>\n",
        "      <td> 114825</td>\n",
        "      <td>               ReelViews</td>\n",
        "      <td>        Doesn't live up to its promise or premise.</td>\n",
        "      <td> 2000-01-01</td>\n",
        "      <td> 14915</td>\n",
        "      <td> Vampire in Brooklyn</td>\n",
        "    </tr>\n",
        "    <tr>\n",
        "      <th>11</th>\n",
        "      <td>     Desson Thomson</td>\n",
        "      <td> rotten</td>\n",
        "      <td> 114825</td>\n",
        "      <td>         Washington Post</td>\n",
        "      <td> This modern fable is little more than a Murphy...</td>\n",
        "      <td> 2000-01-01</td>\n",
        "      <td> 14915</td>\n",
        "      <td> Vampire in Brooklyn</td>\n",
        "    </tr>\n",
        "    <tr>\n",
        "      <th>12</th>\n",
        "      <td>         Hal Hinson</td>\n",
        "      <td> rotten</td>\n",
        "      <td> 114825</td>\n",
        "      <td>         Washington Post</td>\n",
        "      <td> Craven can't keep the comic elements in balanc...</td>\n",
        "      <td> 2000-01-01</td>\n",
        "      <td> 14915</td>\n",
        "      <td> Vampire in Brooklyn</td>\n",
        "    </tr>\n",
        "    <tr>\n",
        "      <th>13</th>\n",
        "      <td>                   </td>\n",
        "      <td> rotten</td>\n",
        "      <td> 114825</td>\n",
        "      <td>    Entertainment Weekly</td>\n",
        "      <td>                                                  </td>\n",
        "      <td> 1995-10-27</td>\n",
        "      <td> 14915</td>\n",
        "      <td> Vampire in Brooklyn</td>\n",
        "    </tr>\n",
        "  </tbody>\n",
        "</table>\n",
        "</div>"
       ],
       "metadata": {},
       "output_type": "pyout",
       "prompt_number": 13,
       "text": [
        "                critic   fresh    imdb              publication                                              quote review_date   rtid                title\n",
        "0      Owen Gleiberman  rotten  114825     Entertainment Weekly                                                     2011-09-07  14915  Vampire in Brooklyn\n",
        "1          Brian Lowry    none  114825                  Variety                                                     2009-03-26  14915  Vampire in Brooklyn\n",
        "2                         none  114825                 Time Out                                                     2006-01-26  14915  Vampire in Brooklyn\n",
        "3          Caryn James    none  114825           New York Times                                                     2003-05-20  14915  Vampire in Brooklyn\n",
        "4         Jack Mathews    none  114825        Los Angeles Times                                                     2002-08-14  14915  Vampire in Brooklyn\n",
        "5          Peter Stack  rotten  114825  San Francisco Chronicle  Vampire in Brooklyn is neither funny nor frigh...  2002-06-18  14915  Vampire in Brooklyn\n",
        "6           Liam Lacey  rotten  114825           Globe and Mail  Neither as good as it might be nor as bad as y...  2002-04-12  14915  Vampire in Brooklyn\n",
        "7          Roger Ebert  rotten  114825        Chicago Sun-Times  To call this a comedy is a sign of optimism; t...  2000-01-01  14915  Vampire in Brooklyn\n",
        "8     Susan Wloszczyna  rotten  114825                USA Today  Murphy's pale efforts are enough to make one f...  2000-01-01  14915  Vampire in Brooklyn\n",
        "9          Susan Stark  rotten  114825             Detroit News  They're no match, though, for the crushing dis...  2000-01-01  14915  Vampire in Brooklyn\n",
        "10  James Berardinelli  rotten  114825                ReelViews         Doesn't live up to its promise or premise.  2000-01-01  14915  Vampire in Brooklyn\n",
        "11      Desson Thomson  rotten  114825          Washington Post  This modern fable is little more than a Murphy...  2000-01-01  14915  Vampire in Brooklyn\n",
        "12          Hal Hinson  rotten  114825          Washington Post  Craven can't keep the comic elements in balanc...  2000-01-01  14915  Vampire in Brooklyn\n",
        "13                      rotten  114825     Entertainment Weekly                                                     1995-10-27  14915  Vampire in Brooklyn"
       ]
      }
     ],
     "prompt_number": 13
    },
    {
     "cell_type": "markdown",
     "metadata": {},
     "source": [
      "#### P1.2\n",
      "\n",
      "Use the function you wrote to retrieve reviews for the first 3,000 movies in the movies dataframe.\n",
      "\n",
      "##### Hints\n",
      "* Rotten Tomatoes limits you to **10,000 API requests a day**. Be careful about this limit! Test your code on smaller inputs before scaling. You are responsible if you hit the limit the day the assignment is due :)\n",
      "* This will take a while to download. If you don't want to re-run this function every time you restart the notebook, you can save and re-load this data as a CSV file. However, please don't submit this file"
     ]
    },
    {
     "cell_type": "code",
     "collapsed": false,
     "input": [
      "\"\"\"\n",
      "Function\n",
      "--------\n",
      "build_table\n",
      "\n",
      "Parameters\n",
      "----------\n",
      "movies : DataFrame\n",
      "  The movies data above\n",
      "rows : int\n",
      "  The number of rows to extract reviews for\n",
      "  \n",
      "Returns\n",
      "--------\n",
      "A dataframe\n",
      "  The data obtained by repeatedly calling `fetch_reviews` on the first `rows`\n",
      "  of `movies`, discarding the `None`s,\n",
      "  and concatenating the results into a single DataFrame\n",
      "\"\"\"\n",
      "#your code here\n",
      "def build_table(movies, rows):\n",
      "    df_all = []\n",
      "    for row in range(rows):\n",
      "        df = fetch_reviews(movies, row)\n",
      "        if(df is not None):\n",
      "            df_all.append(df)\n",
      "    \n",
      "    return pd.concat(df_all, ignore_index = True)\n",
      "\n",
      "all_reviews = build_table(movies, 3000)\n",
      "\n",
      "all_reviews.to_csv(\"all_reviews_3000.csv\")"
     ],
     "language": "python",
     "metadata": {},
     "outputs": [],
     "prompt_number": 19
    },
    {
     "cell_type": "code",
     "collapsed": false,
     "input": [
      "critics = pd.read_csv(\"all_reviews_3000.csv\")\n",
      "critics.head()"
     ],
     "language": "python",
     "metadata": {},
     "outputs": [
      {
       "html": [
        "<div style=\"max-height:1000px;max-width:1500px;overflow:auto;\">\n",
        "<table border=\"1\" class=\"dataframe\">\n",
        "  <thead>\n",
        "    <tr style=\"text-align: right;\">\n",
        "      <th></th>\n",
        "      <th>Unnamed: 0</th>\n",
        "      <th>critic</th>\n",
        "      <th>fresh</th>\n",
        "      <th>imdb</th>\n",
        "      <th>publication</th>\n",
        "      <th>quote</th>\n",
        "      <th>review_date</th>\n",
        "      <th>rtid</th>\n",
        "      <th>title</th>\n",
        "    </tr>\n",
        "  </thead>\n",
        "  <tbody>\n",
        "    <tr>\n",
        "      <th>0</th>\n",
        "      <td> 0</td>\n",
        "      <td> Owen Gleiberman</td>\n",
        "      <td> fresh</td>\n",
        "      <td> 114709</td>\n",
        "      <td> Entertainment Weekly</td>\n",
        "      <td>                                               NaN</td>\n",
        "      <td> 2011-09-07</td>\n",
        "      <td> 9559</td>\n",
        "      <td> Toy story</td>\n",
        "    </tr>\n",
        "    <tr>\n",
        "      <th>1</th>\n",
        "      <td> 1</td>\n",
        "      <td>     Derek Adams</td>\n",
        "      <td> fresh</td>\n",
        "      <td> 114709</td>\n",
        "      <td>             Time Out</td>\n",
        "      <td> So ingenious in concept, design and execution ...</td>\n",
        "      <td> 2009-10-04</td>\n",
        "      <td> 9559</td>\n",
        "      <td> Toy story</td>\n",
        "    </tr>\n",
        "    <tr>\n",
        "      <th>2</th>\n",
        "      <td> 2</td>\n",
        "      <td> Richard Corliss</td>\n",
        "      <td> fresh</td>\n",
        "      <td> 114709</td>\n",
        "      <td>        TIME Magazine</td>\n",
        "      <td>                 The year's most inventive comedy.</td>\n",
        "      <td> 2008-08-31</td>\n",
        "      <td> 9559</td>\n",
        "      <td> Toy story</td>\n",
        "    </tr>\n",
        "    <tr>\n",
        "      <th>3</th>\n",
        "      <td> 3</td>\n",
        "      <td>     David Ansen</td>\n",
        "      <td> fresh</td>\n",
        "      <td> 114709</td>\n",
        "      <td>             Newsweek</td>\n",
        "      <td> A winning animated feature that has something ...</td>\n",
        "      <td> 2008-08-18</td>\n",
        "      <td> 9559</td>\n",
        "      <td> Toy story</td>\n",
        "    </tr>\n",
        "    <tr>\n",
        "      <th>4</th>\n",
        "      <td> 4</td>\n",
        "      <td>   Leonard Klady</td>\n",
        "      <td> fresh</td>\n",
        "      <td> 114709</td>\n",
        "      <td>              Variety</td>\n",
        "      <td> The film sports a provocative and appealing st...</td>\n",
        "      <td> 2008-06-09</td>\n",
        "      <td> 9559</td>\n",
        "      <td> Toy story</td>\n",
        "    </tr>\n",
        "  </tbody>\n",
        "</table>\n",
        "</div>"
       ],
       "metadata": {},
       "output_type": "pyout",
       "prompt_number": 20,
       "text": [
        "   Unnamed: 0           critic  fresh    imdb           publication                                              quote review_date  rtid      title\n",
        "0           0  Owen Gleiberman  fresh  114709  Entertainment Weekly                                                NaN  2011-09-07  9559  Toy story\n",
        "1           1      Derek Adams  fresh  114709              Time Out  So ingenious in concept, design and execution ...  2009-10-04  9559  Toy story\n",
        "2           2  Richard Corliss  fresh  114709         TIME Magazine                  The year's most inventive comedy.  2008-08-31  9559  Toy story\n",
        "3           3      David Ansen  fresh  114709              Newsweek  A winning animated feature that has something ...  2008-08-18  9559  Toy story\n",
        "4           4    Leonard Klady  fresh  114709               Variety  The film sports a provocative and appealing st...  2008-06-09  9559  Toy story"
       ]
      }
     ],
     "prompt_number": 20
    },
    {
     "cell_type": "code",
     "collapsed": false,
     "input": [
      "#you can toggle which lines are commented, if you\n",
      "#want to re-load your results to avoid repeatedly calling this function\n",
      "\n",
      "#critics = build_table(movies, 3000)\n",
      "#critics.to_csv('critics.csv', index=False)\n",
      "#critics = pd.read_csv('critics.csv')\n",
      "\n",
      "\n",
      "#for this assignment, let's drop rows with missing data\n",
      "critics = critics[~critics.quote.isnull()]\n",
      "critics = critics[critics.fresh != 'none']\n",
      "critics = critics[critics.quote.str.len() > 0]\n",
      "critics = critics[['critic', 'fresh', 'imdb', 'publication', 'quote', 'review_date', 'rtid', 'title']]\n",
      "critics.head()"
     ],
     "language": "python",
     "metadata": {},
     "outputs": [
      {
       "html": [
        "<div style=\"max-height:1000px;max-width:1500px;overflow:auto;\">\n",
        "<table border=\"1\" class=\"dataframe\">\n",
        "  <thead>\n",
        "    <tr style=\"text-align: right;\">\n",
        "      <th></th>\n",
        "      <th>critic</th>\n",
        "      <th>fresh</th>\n",
        "      <th>imdb</th>\n",
        "      <th>publication</th>\n",
        "      <th>quote</th>\n",
        "      <th>review_date</th>\n",
        "      <th>rtid</th>\n",
        "      <th>title</th>\n",
        "    </tr>\n",
        "  </thead>\n",
        "  <tbody>\n",
        "    <tr>\n",
        "      <th>1</th>\n",
        "      <td>        Derek Adams</td>\n",
        "      <td> fresh</td>\n",
        "      <td> 114709</td>\n",
        "      <td>       Time Out</td>\n",
        "      <td> So ingenious in concept, design and execution ...</td>\n",
        "      <td> 2009-10-04</td>\n",
        "      <td> 9559</td>\n",
        "      <td> Toy story</td>\n",
        "    </tr>\n",
        "    <tr>\n",
        "      <th>2</th>\n",
        "      <td>    Richard Corliss</td>\n",
        "      <td> fresh</td>\n",
        "      <td> 114709</td>\n",
        "      <td>  TIME Magazine</td>\n",
        "      <td>                 The year's most inventive comedy.</td>\n",
        "      <td> 2008-08-31</td>\n",
        "      <td> 9559</td>\n",
        "      <td> Toy story</td>\n",
        "    </tr>\n",
        "    <tr>\n",
        "      <th>3</th>\n",
        "      <td>        David Ansen</td>\n",
        "      <td> fresh</td>\n",
        "      <td> 114709</td>\n",
        "      <td>       Newsweek</td>\n",
        "      <td> A winning animated feature that has something ...</td>\n",
        "      <td> 2008-08-18</td>\n",
        "      <td> 9559</td>\n",
        "      <td> Toy story</td>\n",
        "    </tr>\n",
        "    <tr>\n",
        "      <th>4</th>\n",
        "      <td>      Leonard Klady</td>\n",
        "      <td> fresh</td>\n",
        "      <td> 114709</td>\n",
        "      <td>        Variety</td>\n",
        "      <td> The film sports a provocative and appealing st...</td>\n",
        "      <td> 2008-06-09</td>\n",
        "      <td> 9559</td>\n",
        "      <td> Toy story</td>\n",
        "    </tr>\n",
        "    <tr>\n",
        "      <th>5</th>\n",
        "      <td> Jonathan Rosenbaum</td>\n",
        "      <td> fresh</td>\n",
        "      <td> 114709</td>\n",
        "      <td> Chicago Reader</td>\n",
        "      <td> An entertaining computer-generated, hyperreali...</td>\n",
        "      <td> 2008-03-10</td>\n",
        "      <td> 9559</td>\n",
        "      <td> Toy story</td>\n",
        "    </tr>\n",
        "  </tbody>\n",
        "</table>\n",
        "</div>"
       ],
       "metadata": {},
       "output_type": "pyout",
       "prompt_number": 28,
       "text": [
        "               critic  fresh    imdb     publication                                              quote review_date  rtid      title\n",
        "1         Derek Adams  fresh  114709        Time Out  So ingenious in concept, design and execution ...  2009-10-04  9559  Toy story\n",
        "2     Richard Corliss  fresh  114709   TIME Magazine                  The year's most inventive comedy.  2008-08-31  9559  Toy story\n",
        "3         David Ansen  fresh  114709        Newsweek  A winning animated feature that has something ...  2008-08-18  9559  Toy story\n",
        "4       Leonard Klady  fresh  114709         Variety  The film sports a provocative and appealing st...  2008-06-09  9559  Toy story\n",
        "5  Jonathan Rosenbaum  fresh  114709  Chicago Reader  An entertaining computer-generated, hyperreali...  2008-03-10  9559  Toy story"
       ]
      }
     ],
     "prompt_number": 28
    },
    {
     "cell_type": "code",
     "collapsed": false,
     "input": [
      "critics.columns"
     ],
     "language": "python",
     "metadata": {},
     "outputs": [
      {
       "metadata": {},
       "output_type": "pyout",
       "prompt_number": 26,
       "text": [
        "Index([u'critic', u'fresh', u'imdb', u'publication', u'quote', u'review_date', u'rtid', u'title'], dtype='object')"
       ]
      }
     ],
     "prompt_number": 26
    },
    {
     "cell_type": "markdown",
     "metadata": {},
     "source": [
      "A quick sanity check that everything looks ok at this point"
     ]
    },
    {
     "cell_type": "code",
     "collapsed": false,
     "input": [
      "assert set(critics.columns) == set('critic fresh imdb publication '\n",
      "                                   'quote review_date rtid title'.split())\n",
      "assert len(critics) > 10000"
     ],
     "language": "python",
     "metadata": {},
     "outputs": [],
     "prompt_number": 27
    },
    {
     "cell_type": "markdown",
     "metadata": {},
     "source": [
      "## Part 2: Explore\n",
      "\n",
      "Before delving into analysis, get a sense of what these data look like. Answer the following questions. Include your code!"
     ]
    },
    {
     "cell_type": "markdown",
     "metadata": {},
     "source": [
      "**2.1** How many reviews, critics, and movies are in this dataset?\n"
     ]
    },
    {
     "cell_type": "code",
     "collapsed": false,
     "input": [
      "#your code here\n",
      "critics.shape"
     ],
     "language": "python",
     "metadata": {},
     "outputs": [
      {
       "metadata": {},
       "output_type": "pyout",
       "prompt_number": 31,
       "text": [
        "(10297, 8)"
       ]
      }
     ],
     "prompt_number": 31
    },
    {
     "cell_type": "code",
     "collapsed": false,
     "input": [
      "len(critics.critic.unique())"
     ],
     "language": "python",
     "metadata": {},
     "outputs": [
      {
       "metadata": {},
       "output_type": "pyout",
       "prompt_number": 33,
       "text": [
        "603"
       ]
      }
     ],
     "prompt_number": 33
    },
    {
     "cell_type": "code",
     "collapsed": false,
     "input": [
      "len(critics.title.unique())"
     ],
     "language": "python",
     "metadata": {},
     "outputs": [
      {
       "metadata": {},
       "output_type": "pyout",
       "prompt_number": 34,
       "text": [
        "1206"
       ]
      }
     ],
     "prompt_number": 34
    },
    {
     "cell_type": "markdown",
     "metadata": {},
     "source": [
      "**2.2** What does the distribution of number of reviews per reviewer look like? Make a histogram"
     ]
    },
    {
     "cell_type": "code",
     "collapsed": false,
     "input": [
      "critics.groupby('critic').rtid.count()"
     ],
     "language": "python",
     "metadata": {},
     "outputs": [
      {
       "metadata": {},
       "output_type": "pyout",
       "prompt_number": 46,
       "text": [
        "critic\n",
        "A.D. Murphy                12\n",
        "A.H. Weiler                 9\n",
        "A.O. Scott                 12\n",
        "Aaron Hillis                1\n",
        "Abel Green                  3\n",
        "Adam Graham                 4\n",
        "Adrian Turner               1\n",
        "Akiva Gottlieb              2\n",
        "Al Brumley                  4\n",
        "Alan Scherstuhl             2\n",
        "Alfred Rushford Greason     1\n",
        "Alissa Simon                1\n",
        "Allan Johnson               1\n",
        "Allen Barra                 1\n",
        "Amy Biancolli              17\n",
        "...\n",
        "Variety Staff         277\n",
        "Verina Glaessner        1\n",
        "Vic Vogler              1\n",
        "Vincent Canby         161\n",
        "Wally Hammond          26\n",
        "Walter Goodman          5\n",
        "Walter V. Addiego       2\n",
        "Wanda Hale              4\n",
        "Wendy Ide               1\n",
        "Wesley Morris           7\n",
        "Whitney Willaims        3\n",
        "Whittaker Chambers      2\n",
        "William Brogdon         5\n",
        "William Goss            1\n",
        "Zachary Wigon           1\n",
        "Name: rtid, Length: 602, dtype: int64"
       ]
      }
     ],
     "prompt_number": 46
    },
    {
     "cell_type": "code",
     "collapsed": false,
     "input": [
      "#Your code here\n",
      "critics.groupby('critic').rtid.count().hist(log = True, bins = range(20), edgecolor ='white')\n",
      "plt.xlabel(\"Number of Reviewers\")\n",
      "plt.ylabel(\"Number of Reviews (log)\")"
     ],
     "language": "python",
     "metadata": {},
     "outputs": [
      {
       "metadata": {},
       "output_type": "pyout",
       "prompt_number": 48,
       "text": [
        "<matplotlib.text.Text at 0x10e95c210>"
       ]
      },
      {
       "metadata": {},
       "output_type": "display_data",
       "png": "[encoded data removed]",
       "text": [
        "<matplotlib.figure.Figure at 0x10e97b350>"
       ]
      }
     ],
     "prompt_number": 48
    },
    {
     "cell_type": "markdown",
     "metadata": {},
     "source": [
      "**2.3** List the 5 critics with the most reviews, along with the publication they write for"
     ]
    },
    {
     "cell_type": "code",
     "collapsed": false,
     "input": [
      "#Your code here\n",
      "counts = critics.groupby(['critic', 'publication']).rtid.count()\n",
      "counts.sort()\n",
      "counts[-5:]"
     ],
     "language": "python",
     "metadata": {},
     "outputs": [
      {
       "metadata": {},
       "output_type": "pyout",
       "prompt_number": 74,
       "text": [
        "critic              publication      \n",
        "Variety Staff       Variety              277\n",
        "Jonathan Rosenbaum  Chicago Reader       277\n",
        "Janet Maslin        New York Times       331\n",
        "James Berardinelli  ReelViews            511\n",
        "Roger Ebert         Chicago Sun-Times    703\n",
        "Name: rtid, dtype: int64"
       ]
      }
     ],
     "prompt_number": 74
    },
    {
     "cell_type": "markdown",
     "metadata": {},
     "source": [
      "**2.4** Of the critics with > 100 reviews, plot the distribution of average \"freshness\" rating per critic"
     ]
    },
    {
     "cell_type": "code",
     "collapsed": false,
     "input": [
      "#Your code here\n",
      "critics_cp = critics.copy()\n",
      "critics_cp['fresh'] = critics_cp['fresh'] == 'fresh'\n",
      "groupby = critics_cp.groupby('critic')\n",
      "counts = groupby.critic.count()\n",
      "means = groupby.fresh.mean()\n",
      "means[counts > 100].hist(bins = 10, edgecolor = 'white', lw = 1)\n",
      "#means.head()"
     ],
     "language": "python",
     "metadata": {},
     "outputs": [
      {
       "metadata": {},
       "output_type": "pyout",
       "prompt_number": 83,
       "text": [
        "<matplotlib.axes._subplots.AxesSubplot at 0x10e189150>"
       ]
      },
      {
       "metadata": {},
       "output_type": "display_data",
       "png": "[encoded data removed]",
       "text": [
        "<matplotlib.figure.Figure at 0x10e62fa10>"
       ]
      }
     ],
     "prompt_number": 83
    },
    {
     "cell_type": "markdown",
     "metadata": {},
     "source": [
      "**2.5**\n",
      "Using the original `movies` dataframe, plot the rotten tomatoes Top Critics Rating as a function of year. Overplot the average for each year, ignoring the score=0 examples (some of these are missing data). Comment on the result -- is there a trend? What do you think it means?"
     ]
    },
    {
     "cell_type": "code",
     "collapsed": false,
     "input": [
      "#Your code here\n",
      "year_topCritics = movies[['year', 'rtTopCriticsRating']]\n",
      "#year_topCritics.head()\n",
      "data = year_topCritics.convert_objects(convert_numeric = True)\n",
      "data = data[data['rtTopCriticsRating'] > 0]\n",
      "means = data.groupby('year').mean().dropna()\n",
      "means.head()"
     ],
     "language": "python",
     "metadata": {},
     "outputs": [
      {
       "html": [
        "<div style=\"max-height:1000px;max-width:1500px;overflow:auto;\">\n",
        "<table border=\"1\" class=\"dataframe\">\n",
        "  <thead>\n",
        "    <tr style=\"text-align: right;\">\n",
        "      <th></th>\n",
        "      <th>rtTopCriticsRating</th>\n",
        "    </tr>\n",
        "    <tr>\n",
        "      <th>year</th>\n",
        "      <th></th>\n",
        "    </tr>\n",
        "  </thead>\n",
        "  <tbody>\n",
        "    <tr>\n",
        "      <th>1922</th>\n",
        "      <td> 8.20</td>\n",
        "    </tr>\n",
        "    <tr>\n",
        "      <th>1925</th>\n",
        "      <td> 5.80</td>\n",
        "    </tr>\n",
        "    <tr>\n",
        "      <th>1927</th>\n",
        "      <td> 8.25</td>\n",
        "    </tr>\n",
        "    <tr>\n",
        "      <th>1928</th>\n",
        "      <td> 8.10</td>\n",
        "    </tr>\n",
        "    <tr>\n",
        "      <th>1929</th>\n",
        "      <td> 8.10</td>\n",
        "    </tr>\n",
        "  </tbody>\n",
        "</table>\n",
        "</div>"
       ],
       "metadata": {},
       "output_type": "pyout",
       "prompt_number": 93,
       "text": [
        "      rtTopCriticsRating\n",
        "year                    \n",
        "1922                8.20\n",
        "1925                5.80\n",
        "1927                8.25\n",
        "1928                8.10\n",
        "1929                8.10"
       ]
      }
     ],
     "prompt_number": 93
    },
    {
     "cell_type": "code",
     "collapsed": false,
     "input": [
      "plt.plot(data['year'], data['rtTopCriticsRating'], 'o', label = 'Ratings', alpha = 0.2)\n",
      "plt.plot(means.index, means['rtTopCriticsRating'], '-', label = 'Yearly Means')\n",
      "plt.legend(loc='lower left', frameon = False)\n",
      "remove_border()"
     ],
     "language": "python",
     "metadata": {},
     "outputs": [
      {
       "metadata": {},
       "output_type": "display_data",
       "png": "[encoded data removed]",
       "text": [
        "<matplotlib.figure.Figure at 0x111e56510>"
       ]
      }
     ],
     "prompt_number": 101
    },
    {
     "cell_type": "markdown",
     "metadata": {},
     "source": [
      "*Your Comment Here*"
     ]
    },
    {
     "cell_type": "markdown",
     "metadata": {},
     "source": [
      "## Part 3: Sentiment Analysis\n",
      "\n",
      "You will now use a [Naive Bayes classifier](https://en.wikipedia.org/wiki/Naive_Bayes_classifier) to build a prediction model for whether a review is fresh or rotten, depending on the text of the review. See Lecture 9 for a discussion of Naive Bayes.\n",
      "\n",
      "Most models work with numerical data, so we need to convert the textual collection of reviews to something numerical. A common strategy for text classification is to represent each review as a \"bag of words\" vector -- a long vector\n",
      "of numbers encoding how many times a particular word appears in a blurb.\n",
      "\n",
      "Scikit-learn has an object called a `CountVectorizer` that turns text into a bag of words. Here's a quick tutorial:"
     ]
    },
    {
     "cell_type": "code",
     "collapsed": false,
     "input": [
      "from sklearn.feature_extraction.text import CountVectorizer\n",
      "\n",
      "text = ['Hop on pop', 'Hop off pop', 'Hop Hop hop']\n",
      "print \"Original text is\\n\", '\\n'.join(text)\n",
      "\n",
      "vectorizer = CountVectorizer(min_df=0)\n",
      "\n",
      "# call `fit` to build the vocabulary\n",
      "vectorizer.fit(text)\n",
      "\n",
      "# call `transform` to convert text to a bag of words\n",
      "x = vectorizer.transform(text)\n",
      "\n",
      "# CountVectorizer uses a sparse array to save memory, but it's easier in this assignment to \n",
      "# convert back to a \"normal\" numpy array\n",
      "x = x.toarray()\n",
      "\n",
      "print\n",
      "print \"Transformed text vector is \\n\", x\n",
      "\n",
      "# `get_feature_names` tracks which word is associated with each column of the transformed x\n",
      "print\n",
      "print \"Words for each feature:\"\n",
      "print vectorizer.get_feature_names()\n",
      "\n",
      "# Notice that the bag of words treatment doesn't preserve information about the *order* of words, \n",
      "# just their frequency"
     ],
     "language": "python",
     "metadata": {},
     "outputs": [
      {
       "output_type": "stream",
       "stream": "stdout",
       "text": [
        "Original text is\n",
        "Hop on pop\n",
        "Hop off pop\n",
        "Hop Hop hop\n",
        "\n"
       ]
      },
      {
       "output_type": "stream",
       "stream": "stdout",
       "text": [
        "Transformed text vector is \n",
        "[[1 0 1 1]\n",
        " [1 1 0 1]\n",
        " [3 0 0 0]]\n",
        "\n",
        "Words for each feature:\n",
        "[u'hop', u'off', u'on', u'pop']\n"
       ]
      }
     ],
     "prompt_number": 100
    },
    {
     "cell_type": "markdown",
     "metadata": {},
     "source": [
      "**3.1**\n",
      "\n",
      "Using the `critics` dataframe, compute a pair of numerical X, Y arrays where:\n",
      "    \n",
      " * X is a `(nreview, nwords)` array. Each row corresponds to a bag-of-words representation for a single review. This will be the *input* to your model.\n",
      " * Y is a `nreview`-element 1/0 array, encoding whether a review is Fresh (1) or Rotten (0). This is the desired *output* from your model.\n"
     ]
    },
    {
     "cell_type": "code",
     "collapsed": false,
     "input": [
      "#hint: Consult the scikit-learn documentation to\n",
      "#      learn about what these classes do do\n",
      "from sklearn.cross_validation import train_test_split\n",
      "from sklearn.naive_bayes import MultinomialNB\n",
      "\n",
      "\"\"\"\n",
      "Function\n",
      "--------\n",
      "make_xy\n",
      "\n",
      "Build a bag-of-words training set for the review data\n",
      "\n",
      "Parameters\n",
      "-----------\n",
      "critics : Pandas DataFrame\n",
      "    The review data from above\n",
      "    \n",
      "vectorizer : CountVectorizer object (optional)\n",
      "    A CountVectorizer object to use. If None,\n",
      "    then create and fit a new CountVectorizer.\n",
      "    Otherwise, re-fit the provided CountVectorizer\n",
      "    using the critics data\n",
      "    \n",
      "Returns\n",
      "-------\n",
      "X : numpy array (dims: nreview, nwords)\n",
      "    Bag-of-words representation for each review.\n",
      "Y : numpy array (dims: nreview)\n",
      "    1/0 array. 1 = fresh review, 0 = rotten review\n",
      "\n",
      "Examples\n",
      "--------\n",
      "X, Y = make_xy(critics)\n",
      "\"\"\"\n",
      "def make_xy(critics, vectorizer=None):\n",
      "    #Your code here    \n",
      "\n",
      "    if(vectorizer == None):\n",
      "        vectorizer =  CountVectorizer(min_df = 0)\n",
      "    x = vectorizer.fit_transform(critics['quote'])\n",
      "    x.tocsc()\n",
      "    y = (critics['fresh'] == 'fresh').values.astype(np.int)\n",
      "    \n",
      "    return x, y\n",
      "    "
     ],
     "language": "python",
     "metadata": {},
     "outputs": [],
     "prompt_number": 276
    },
    {
     "cell_type": "code",
     "collapsed": false,
     "input": [
      "critics['quote'].tolist()[0:5]"
     ],
     "language": "python",
     "metadata": {},
     "outputs": [
      {
       "metadata": {},
       "output_type": "pyout",
       "prompt_number": 277,
       "text": [
        "['So ingenious in concept, design and execution that you could watch it on a postage stamp-sized screen and still be engulfed by its charm.',\n",
        " \"The year's most inventive comedy.\",\n",
        " 'A winning animated feature that has something for everyone on the age spectrum.',\n",
        " \"The film sports a provocative and appealing story that's every bit the equal of this technical achievement.\",\n",
        " \"An entertaining computer-generated, hyperrealist animation feature (1995) that's also in effect a toy catalog.\"]"
       ]
      }
     ],
     "prompt_number": 277
    },
    {
     "cell_type": "code",
     "collapsed": false,
     "input": [
      "y = (critics['fresh'] == 'fresh').values\n",
      "y"
     ],
     "language": "python",
     "metadata": {},
     "outputs": [
      {
       "metadata": {},
       "output_type": "pyout",
       "prompt_number": 278,
       "text": [
        "array([ True,  True,  True, ...,  True, False,  True], dtype=bool)"
       ]
      }
     ],
     "prompt_number": 278
    },
    {
     "cell_type": "code",
     "collapsed": false,
     "input": [
      "vectorizer = CountVectorizer(min_df = 0.01)\n",
      "X, Y = make_xy(critics, vectorizer)\n",
      "X[1:5]"
     ],
     "language": "python",
     "metadata": {},
     "outputs": [
      {
       "metadata": {},
       "output_type": "pyout",
       "prompt_number": 285,
       "text": [
        "<4x211 sparse matrix of type '<type 'numpy.int64'>'\n",
        "\twith 23 stored elements in Compressed Sparse Row format>"
       ]
      }
     ],
     "prompt_number": 285
    },
    {
     "cell_type": "code",
     "collapsed": false,
     "input": [
      "vectorizer.get_feature_names()"
     ],
     "language": "python",
     "metadata": {},
     "outputs": [
      {
       "metadata": {},
       "output_type": "pyout",
       "prompt_number": 286,
       "text": [
        "[u'about',\n",
        " u'acting',\n",
        " u'action',\n",
        " u'actors',\n",
        " u'after',\n",
        " u'all',\n",
        " u'almost',\n",
        " u'also',\n",
        " u'american',\n",
        " u'an',\n",
        " u'and',\n",
        " u'another',\n",
        " u'any',\n",
        " u'are',\n",
        " u'as',\n",
        " u'at',\n",
        " u'audience',\n",
        " u'bad',\n",
        " u'be',\n",
        " u'because',\n",
        " u'been',\n",
        " u'before',\n",
        " u'being',\n",
        " u'best',\n",
        " u'better',\n",
        " u'between',\n",
        " u'big',\n",
        " u'both',\n",
        " u'but',\n",
        " u'by',\n",
        " u'can',\n",
        " u'cast',\n",
        " u'character',\n",
        " u'characters',\n",
        " u'comedy',\n",
        " u'comes',\n",
        " u'comic',\n",
        " u'could',\n",
        " u'direction',\n",
        " u'director',\n",
        " u'do',\n",
        " u'does',\n",
        " u'doesn',\n",
        " u'don',\n",
        " u'down',\n",
        " u'drama',\n",
        " u'effects',\n",
        " u'end',\n",
        " u'enough',\n",
        " u'entertaining',\n",
        " u'entertainment',\n",
        " u'even',\n",
        " u'ever',\n",
        " u'every',\n",
        " u'far',\n",
        " u'feel',\n",
        " u'few',\n",
        " u'film',\n",
        " u'films',\n",
        " u'first',\n",
        " u'for',\n",
        " u'from',\n",
        " u'fun',\n",
        " u'funny',\n",
        " u'get',\n",
        " u'go',\n",
        " u'good',\n",
        " u'great',\n",
        " u'had',\n",
        " u'hard',\n",
        " u'has',\n",
        " u'have',\n",
        " u'he',\n",
        " u'heart',\n",
        " u'her',\n",
        " u'here',\n",
        " u'high',\n",
        " u'his',\n",
        " u'hollywood',\n",
        " u'horror',\n",
        " u'how',\n",
        " u'human',\n",
        " u'humor',\n",
        " u'if',\n",
        " u'in',\n",
        " u'into',\n",
        " u'is',\n",
        " u'isn',\n",
        " u'it',\n",
        " u'its',\n",
        " u'just',\n",
        " u'kind',\n",
        " u'know',\n",
        " u'last',\n",
        " u'less',\n",
        " u'life',\n",
        " u'like',\n",
        " u'little',\n",
        " u'long',\n",
        " u'look',\n",
        " u'lot',\n",
        " u'love',\n",
        " u'made',\n",
        " u'make',\n",
        " u'makes',\n",
        " u'man',\n",
        " u'many',\n",
        " u'material',\n",
        " u'may',\n",
        " u'might',\n",
        " u'more',\n",
        " u'most',\n",
        " u'movie',\n",
        " u'movies',\n",
        " u'mr',\n",
        " u'much',\n",
        " u'never',\n",
        " u'new',\n",
        " u'no',\n",
        " u'not',\n",
        " u'nothing',\n",
        " u'of',\n",
        " u'off',\n",
        " u'often',\n",
        " u'old',\n",
        " u'on',\n",
        " u'one',\n",
        " u'only',\n",
        " u'or',\n",
        " u'original',\n",
        " u'other',\n",
        " u'our',\n",
        " u'out',\n",
        " u'over',\n",
        " u'own',\n",
        " u'people',\n",
        " u'performance',\n",
        " u'performances',\n",
        " u'picture',\n",
        " u'piece',\n",
        " u'plot',\n",
        " u'quite',\n",
        " u're',\n",
        " u'real',\n",
        " u'really',\n",
        " u'right',\n",
        " u'romantic',\n",
        " u'screen',\n",
        " u'script',\n",
        " u'see',\n",
        " u'seems',\n",
        " u'seen',\n",
        " u'self',\n",
        " u'sense',\n",
        " u'should',\n",
        " u'since',\n",
        " u'so',\n",
        " u'some',\n",
        " u'something',\n",
        " u'special',\n",
        " u'still',\n",
        " u'story',\n",
        " u'style',\n",
        " u'such',\n",
        " u'takes',\n",
        " u'tale',\n",
        " u'than',\n",
        " u'that',\n",
        " u'the',\n",
        " u'their',\n",
        " u'them',\n",
        " u'there',\n",
        " u'these',\n",
        " u'they',\n",
        " u'thing',\n",
        " u'this',\n",
        " u'those',\n",
        " u'though',\n",
        " u'three',\n",
        " u'thriller',\n",
        " u'through',\n",
        " u'time',\n",
        " u'to',\n",
        " u'too',\n",
        " u'two',\n",
        " u'up',\n",
        " u'us',\n",
        " u've',\n",
        " u'very',\n",
        " u'was',\n",
        " u'way',\n",
        " u'we',\n",
        " u'well',\n",
        " u'were',\n",
        " u'what',\n",
        " u'when',\n",
        " u'where',\n",
        " u'which',\n",
        " u'while',\n",
        " u'who',\n",
        " u'will',\n",
        " u'with',\n",
        " u'without',\n",
        " u'work',\n",
        " u'world',\n",
        " u'would',\n",
        " u'year',\n",
        " u'years',\n",
        " u'yet',\n",
        " u'you',\n",
        " u'your']"
       ]
      }
     ],
     "prompt_number": 286
    },
    {
     "cell_type": "markdown",
     "metadata": {},
     "source": [
      "\n",
      "**3.2** Next, randomly split the data into two groups: a\n",
      "training set and a validation set. \n",
      "\n",
      "Use the training set to train a `MultinomialNB` classifier,\n",
      "and print the accuracy of this model on the validation set\n",
      "\n",
      "**Hint**\n",
      "You can use [`train_test_split`](http://scikit-learn.org/stable/modules/generated/sklearn.cross_validation.train_test_split.html) to split up the training data"
     ]
    },
    {
     "cell_type": "code",
     "collapsed": false,
     "input": [
      "#Your code here\n",
      "Xtrain, Xtest, Ytrain, Ytest = train_test_split(X, Y)\n",
      "clf = MultinomialNB().fit(Xtrain, Ytrain)\n",
      "print \"Accuracy: %0.2f%%\" % (100 * clf.score(Xtest, Ytest))"
     ],
     "language": "python",
     "metadata": {},
     "outputs": [
      {
       "output_type": "stream",
       "stream": "stdout",
       "text": [
        "Accuracy: 76.85%\n"
       ]
      }
     ],
     "prompt_number": 227
    },
    {
     "cell_type": "markdown",
     "metadata": {},
     "source": [
      "**3.3:**\n",
      "\n",
      "We say a model is **overfit** if it performs better on the training data than on the test data. Is this model overfit? If so, how much more accurate is the model on the training data compared to the test data?"
     ]
    },
    {
     "cell_type": "code",
     "collapsed": false,
     "input": [
      "# Your code here. Print the accuracy on the test and training dataset\n",
      "print \"Accuracy on training: %0.2f%%\" % (100 * clf.score(Xtrain, Ytrain))\n",
      "print \"Accuracy on test: %0.2f%%\" % (100 * clf.score(Xtest, Ytest))"
     ],
     "language": "python",
     "metadata": {},
     "outputs": [
      {
       "output_type": "stream",
       "stream": "stdout",
       "text": [
        "Accuracy on training: 93.34%\n",
        "Accuracy on test: 77.75%\n"
       ]
      }
     ],
     "prompt_number": 130
    },
    {
     "cell_type": "markdown",
     "metadata": {},
     "source": [
      "*Interpret these numbers in a few sentences here*"
     ]
    },
    {
     "cell_type": "markdown",
     "metadata": {},
     "source": [
      "**3.4: Model Calibration**\n",
      "\n",
      "Bayesian models like the Naive Bayes classifier have the nice property that they compute probabilities of a particular classification -- the `predict_proba` and `predict_log_proba` methods of `MultinomialNB` compute these probabilities. \n",
      "\n",
      "Being the respectable Bayesian that you are, you should always assess whether these probabilities are **calibrated** -- that is, whether a prediction made with a confidence of `x%` is correct approximately `x%` of the time. We care about calibration because it tells us whether we can trust the probabilities computed by a model. If we can trust model probabilities, we can make better decisions using them (for example, we can calculate how much we should bet or invest in a given prediction).\n",
      "\n",
      "Let's make a plot to assess model calibration. Schematically, we want something like this:\n",
      "\n",
      "<img src=\"http://i.imgur.com/ea5B6zr.png\" width=500px>\n",
      "\n",
      "In words, we want to:\n",
      "\n",
      "* Take a collection of examples, and compute the freshness probability for each using `clf.predict_proba`\n",
      "* Gather examples into bins of similar freshness probability (the diagram shows 5 groups -- you should use something closer to 20)\n",
      "* For each bin, count the number of examples in that bin, and compute the fraction of examples in the bin which are fresh\n",
      "* In the upper plot, graph the expected P(Fresh) (x axis) and observed freshness fraction (Y axis). Estimate the uncertainty in observed freshness fraction $F$ via the [equation](http://en.wikipedia.org/wiki/Binomial_proportion_confidence_interval) $\\sigma = \\sqrt{F (1-F) / N}$\n",
      "* Overplot the line y=x. This is the trend we would expect if the model is calibrated\n",
      "* In the lower plot, show the number of examples in each bin\n",
      "\n",
      "**Hints**\n",
      "\n",
      "The output of `clf.predict_proba(X)` is a `(N example, 2)` array. The first column gives the probability $P(Y=0)$ or  $P(Rotten)$, and the second gives $P(Y=1)$ or $P(Fresh)$.\n",
      "\n",
      "The above image is just a guideline -- feel free to explore other options!"
     ]
    },
    {
     "cell_type": "code",
     "collapsed": false,
     "input": [
      "\"\"\"\n",
      "Function\n",
      "--------\n",
      "calibration_plot\n",
      "\n",
      "Builds a plot like the one above, from a classifier and review data\n",
      "\n",
      "Inputs\n",
      "-------\n",
      "clf : Classifier object\n",
      "    A MultinomialNB classifier\n",
      "X : (Nexample, Nfeature) array\n",
      "    The bag-of-words data\n",
      "Y : (Nexample) integer array\n",
      "    1 if a review is Fresh\n",
      "\"\"\"    \n",
      "#your code here\n",
      "def calibration_plot(clf, X, Y):\n",
      "    probs = clf.predict_proba(X)[:, 1]\n",
      "    data = pd.DataFrame({'prob' : probs, 'fresh' : Y})\n",
      "    \n",
      "    bins = np.linspace(0, 1, 20)\n",
      "    binWid = bins[1] - bins[0]\n",
      "    \n",
      "    cuts = pd.cut(probs, bins)\n",
      "    \n",
      "    mid = (bins[:-1] + bins[1:]) / 2\n",
      "     \n",
      "    data_grouped = data.groupby(cuts).fresh.agg(['mean', 'count'])\n",
      "    \n",
      "    sig = sqrt(data_grouped['mean'] * (1 - data_grouped['mean']) / data_grouped['count'])\n",
      "    \n",
      "    #print mid, data_grouped.count\n",
      "    \n",
      "    ax = plt.subplot2grid((2,1), (0,0))\n",
      "    \n",
      "    plt.errorbar(mid, data_grouped['mean'], sig)\n",
      "    plt.plot(mid, mid, linestyle = '--')\n",
      "    plt.ylabel(\"Observed Prob\")\n",
      "    \n",
      "    ax = plt.subplot2grid((2,1), (1,0), sharex = ax)\n",
      "    plt.bar(left = mid - binWid / 2, height = data_grouped['count'], width = binWid * 0.9)\n",
      "    plt.xlabel(\"Expected Prob\")\n",
      "    plt.ylabel(\"Count\")"
     ],
     "language": "python",
     "metadata": {},
     "outputs": [],
     "prompt_number": 213
    },
    {
     "cell_type": "code",
     "collapsed": false,
     "input": [
      "calibration_plot(clf, Xtest, Ytest)"
     ],
     "language": "python",
     "metadata": {},
     "outputs": [
      {
       "metadata": {},
       "output_type": "display_data",
       "png": "[encoded data removed]",
       "text": [
        "<matplotlib.figure.Figure at 0x10241e9d0>"
       ]
      }
     ],
     "prompt_number": 214
    },
    {
     "cell_type": "markdown",
     "metadata": {},
     "source": [
      "**3.5** We might say a model is *over-confident* if the freshness fraction is usually closer to 0.5 than expected (that is, there is more uncertainty than the model predicted). Likewise, a model is *under-confident* if the probabilities are usually further away from 0.5. Is this model generally over- or under-confident? "
     ]
    },
    {
     "cell_type": "markdown",
     "metadata": {},
     "source": [
      "*Your Answer Here*"
     ]
    },
    {
     "cell_type": "markdown",
     "metadata": {},
     "source": [
      "#### Cross Validation\n",
      "\n",
      "Our classifier has a few free parameters. The two most important are:\n",
      "\n",
      " 1. The `min_df` keyword in `CountVectorizer`, which will ignore words which appear in fewer than `min_df` fraction of reviews. Words that appear only once or twice can lead to overfitting, since words which occur only a few times might correlate very well with Fresh/Rotten reviews by chance in the training dataset.\n",
      " \n",
      " 2. The [`alpha` keyword](http://scikit-learn.org/stable/modules/naive_bayes.html#multinomial-naive-bayes) in the Bayesian classifier is a \"smoothing parameter\" -- increasing the value decreases the sensitivity to any single feature, and tends to pull prediction probabilities closer to 50%. \n",
      "\n",
      "As discussed in lecture and HW2, a common technique for choosing appropriate values for these parameters is **cross-validation**. Let's choose good parameters by maximizing the cross-validated log-likelihood.\n",
      "\n",
      "**3.6** Using `clf.predict_log_proba`, write a function that computes the log-likelihood of a dataset"
     ]
    },
    {
     "cell_type": "code",
     "collapsed": false,
     "input": [
      "\"\"\"\n",
      "Function\n",
      "--------\n",
      "log_likelihood\n",
      "\n",
      "Compute the log likelihood of a dataset according to a bayesian classifier. \n",
      "The Log Likelihood is defined by\n",
      "\n",
      "L = Sum_fresh(logP(fresh)) + Sum_rotten(logP(rotten))\n",
      "\n",
      "Where Sum_fresh indicates a sum over all fresh reviews, \n",
      "and Sum_rotten indicates a sum over rotten reviews\n",
      "    \n",
      "Parameters\n",
      "----------\n",
      "clf : Bayesian classifier\n",
      "x : (nexample, nfeature) array\n",
      "    The input data\n",
      "y : (nexample) integer array\n",
      "    Whether each review is Fresh\n",
      "\"\"\"\n",
      "#your code here\n",
      "def log_likelihood(clf, x, y):\n",
      "    log_probs = clf.predict_log_proba(x)\n",
      "    log_fresh = log_probs[y == 1][:, 1]\n",
      "    log_rotten = log_probs[y == 0][:, 0]\n",
      "    return log_fresh.sum() + log_rotten.sum()"
     ],
     "language": "python",
     "metadata": {},
     "outputs": [],
     "prompt_number": 295
    },
    {
     "cell_type": "code",
     "collapsed": false,
     "input": [
      "probs = clf.predict_log_proba(Xtest)\n",
      "probs[Ytest == 1][:, 1]"
     ],
     "language": "python",
     "metadata": {},
     "outputs": [
      {
       "metadata": {},
       "output_type": "pyout",
       "prompt_number": 296,
       "text": [
        "array([-0.48220345, -0.13806723, -1.48936504, ..., -0.96210057,\n",
        "       -0.13092692, -0.00415731])"
       ]
      }
     ],
     "prompt_number": 296
    },
    {
     "cell_type": "markdown",
     "metadata": {},
     "source": [
      "Here's a function to estimate the cross-validated value of a scoring function, given a classifier and data"
     ]
    },
    {
     "cell_type": "code",
     "collapsed": false,
     "input": [
      "from sklearn.cross_validation import KFold\n",
      "\n",
      "def cv_score(clf, x, y, score_func):\n",
      "    \"\"\"\n",
      "    Uses 5-fold cross validation to estimate a score of a classifier\n",
      "    \n",
      "    Inputs\n",
      "    ------\n",
      "    clf : Classifier object\n",
      "    x : Input feature vector\n",
      "    y : Input class labels\n",
      "    score_func : Function like log_likelihood, that takes (clf, x, y) as input,\n",
      "                 and returns a score\n",
      "                 \n",
      "    Returns\n",
      "    -------\n",
      "    The average score obtained by randomly splitting (x, y) into training and \n",
      "    test sets, fitting on the training set, and evaluating score_func on the test set\n",
      "    \n",
      "    Examples\n",
      "    cv_score(clf, x, y, log_likelihood)\n",
      "    \"\"\"\n",
      "    result = 0\n",
      "    nfold = 5\n",
      "    for train, test in KFold(y.size, nfold): # split data into train/test groups, 5 times\n",
      "        clf.fit(x[train], y[train]) # fit\n",
      "        result += score_func(clf, x[test], y[test]) # evaluate score function on held-out data\n",
      "    return result / nfold # average\n",
      "\n",
      "# as a side note, this function is builtin to the newest version of sklearn. We could just write\n",
      "# sklearn.cross_validation.cross_val_score(clf, x, y, scorer=log_likelihood)."
     ],
     "language": "python",
     "metadata": {},
     "outputs": [],
     "prompt_number": 297
    },
    {
     "cell_type": "markdown",
     "metadata": {},
     "source": [
      "**3.7**\n",
      "\n",
      "Fill in the remaining code in this block, to loop over many values of `alpha` and `min_df` to determine\n",
      "which settings are \"best\" in the sense of maximizing the cross-validated log-likelihood"
     ]
    },
    {
     "cell_type": "code",
     "collapsed": false,
     "input": [
      "#the grid of parameters to search over\n",
      "alphas = [0, .1, 1, 5, 10, 50]\n",
      "min_dfs = [1e-5, 1e-4, 1e-3, 1e-2, 1e-1]\n",
      "\n",
      "#Find the best value for alpha and min_df, and the best classifier\n",
      "best_alpha = None\n",
      "best_min_df = None\n",
      "max_loglike = -np.inf\n",
      "\n",
      "for alpha in alphas:\n",
      "    for min_df in min_dfs:         \n",
      "        vectorizer = CountVectorizer(min_df = min_df)       \n",
      "        X, Y = make_xy(critics, vectorizer)\n",
      "        \n",
      "        #your code here\n",
      "        clf1 = MultinomialNB(alpha = alpha)\n",
      "        score = cv_score(clf1, X, Y, log_likelihood)\n",
      "        if(score > max_loglike):\n",
      "            max_loglike = score\n",
      "            best_alpha = alpha\n",
      "            best_min_df = min_df\n",
      "        "
     ],
     "language": "python",
     "metadata": {},
     "outputs": [],
     "prompt_number": 298
    },
    {
     "cell_type": "code",
     "collapsed": false,
     "input": [
      "print \"alpha: %f\" % best_alpha\n",
      "print \"min_df: %f\" % best_min_df"
     ],
     "language": "python",
     "metadata": {},
     "outputs": [
      {
       "output_type": "stream",
       "stream": "stdout",
       "text": [
        "alpha: 5.000000\n",
        "min_df: 0.001000\n"
       ]
      }
     ],
     "prompt_number": 299
    },
    {
     "cell_type": "markdown",
     "metadata": {},
     "source": [
      "**3.8** Now that you've determined values for alpha and min_df that optimize the cross-validated log-likelihood, repeat the steps in 3.1, 3.2, and 3.4 to train a final classifier with these parameters, re-evaluate the accuracy, and draw a new calibration plot."
     ]
    },
    {
     "cell_type": "code",
     "collapsed": false,
     "input": [
      "#Your code here\n",
      "vectorizer = CountVectorizer(min_df = 0.001)\n",
      "X, Y = make_xy(critics, vectorizer)\n",
      "Xtrain, Xtest, Ytrain, Ytest = train_test_split(X, Y)\n",
      "clf = MultinomialNB(alpha = 5).fit(Xtrain, Ytrain)\n",
      "print \"Accuracy on training data: %0.2f\" % (100 * clf.score(Xtrain, Ytrain))\n",
      "print \"Accuracy on test data:     %0.2f\" % (100 * clf.score(Xtest, Ytest))\n",
      "calibration_plot(clf, Xtest, Ytest)"
     ],
     "language": "python",
     "metadata": {},
     "outputs": [
      {
       "output_type": "stream",
       "stream": "stdout",
       "text": [
        "Accuracy on training data: 79.84\n",
        "Accuracy on test data:     73.44\n"
       ]
      },
      {
       "metadata": {},
       "output_type": "display_data",
       "png": "[encoded data removed]",
       "text": [
        "<matplotlib.figure.Figure at 0x119e55ad0>"
       ]
      }
     ],
     "prompt_number": 300
    },
    {
     "cell_type": "markdown",
     "metadata": {},
     "source": [
      "**3.9** Discuss the various ways in which Cross-Validation has affected the model. Is the new model more or less accurate? Is overfitting better or worse? Is the model more or less calibrated?"
     ]
    },
    {
     "cell_type": "markdown",
     "metadata": {},
     "source": [
      "*Your Answer Here*"
     ]
    },
    {
     "cell_type": "markdown",
     "metadata": {},
     "source": [
      "*To think about/play with, but not to hand in: What would happen if you tried this again using a function besides the log-likelihood -- for example, the classification accuracy?*"
     ]
    },
    {
     "cell_type": "markdown",
     "metadata": {},
     "source": [
      "## Part 4: Interpretation. What words best predict a fresh or rotten review?\n",
      "\n",
      "**4.1**\n",
      "Using your classifier and the `vectorizer.get_feature_names` method, determine which words best predict a positive or negative review. Print the 10 words\n",
      "that best predict a \"fresh\" review, and the 10 words that best predict a \"rotten\" review. For each word, what is the model's probability of freshness if the word appears one time?\n",
      "\n",
      "#### Hints\n",
      "\n",
      "* Try computing the classification probability for a feature vector which consists of all 0s, except for a single 1. What does this probability refer to?\n",
      "\n",
      "* `np.eye` generates a matrix where the ith row is all 0s, except for the ith column which is 1."
     ]
    },
    {
     "cell_type": "code",
     "collapsed": false,
     "input": [
      "# Your code here\n",
      "nfeatures = np.array(vectorizer.get_feature_names())\n",
      "single_features = np.eye(len(nfeatures))\n",
      "predicts = clf.predict_log_proba(single_features)[:, 0]\n",
      "ind = np.argsort(predicts)\n",
      "ind[:10]\n",
      "fresh_words = nfeatures[ind[:10]]\n",
      "rotten_words = nfeatures[ind[-10:]]\n",
      "\n",
      "fresh_probs = predicts[ind[:10]]\n",
      "rotten_probs  = predicts[ind[-10:]]\n",
      "\n",
      "print \"Words for Freshness:\"\n",
      "for w, p in zip(fresh_words, fresh_probs):\n",
      "    print \"%20s\" % w, \"%0.2f\" % (1 - np.exp(p))\n",
      "\n",
      "print \"\\n\"\n",
      "\n",
      "print \"Words for Rotten:\"\n",
      "for w, p in zip(rotten_words, rotten_probs):\n",
      "    print \"%20s\" % w, \"%0.2f\" % (1 - np.exp(p))"
     ],
     "language": "python",
     "metadata": {},
     "outputs": [
      {
       "output_type": "stream",
       "stream": "stdout",
       "text": [
        "Words for Freshness:\n",
        "              moving 0.89\n",
        "             delight 0.88\n",
        "         masterpiece 0.88\n",
        "              spirit 0.86\n",
        "         intelligent 0.86\n",
        "              finest 0.86\n",
        "               charm 0.86\n",
        "         beautifully 0.86\n",
        "         performance 0.86\n",
        "            powerful 0.85\n",
        "\n",
        "\n",
        "Words for Rotten:\n",
        "             unfunny 0.23\n",
        "               fails 0.23\n",
        "                dull 0.23\n",
        "             muddled 0.22\n",
        "          schumacher 0.22\n",
        "      disappointment 0.21\n",
        "                lame 0.21\n",
        "           pointless 0.21\n",
        "          uninspired 0.21\n",
        "       unfortunately 0.14\n"
       ]
      }
     ],
     "prompt_number": 330
    },
    {
     "cell_type": "markdown",
     "metadata": {},
     "source": [
      "**4.2**\n",
      "\n",
      "One of the best sources for inspiration when trying to improve a model is to look at examples where the model performs poorly. \n",
      "\n",
      "Find 5 fresh and rotten reviews where your model performs particularly poorly. Print each review."
     ]
    },
    {
     "cell_type": "code",
     "collapsed": false,
     "input": [
      "#Your code here\n",
      "probs = clf.predict_log_proba(X)[:, 0]\n",
      "ind = np.argsort(probs[Y == 1][:])\n",
      "ind[-5:]\n",
      "print \"Poorly predicted fresh review:\"\n",
      "quotes = critics[y==1].iloc[ind[-5:]]['quote']\n",
      "for i in range(len(quotes)):\n",
      "    print \"%5i\" % i, \"%80s\" % quotes.iloc[i]\n",
      "    \n",
      "ind = np.argsort(probs[Y == 0][:])\n",
      "ind[:5]\n",
      "print \"Poorly predicted rotten review:\"\n",
      "quotes = critics[y==0].iloc[ind[:5]]['quote']\n",
      "for i in range(len(quotes)):\n",
      "    print \"%5i\" % i, \"%80s\" % quotes.iloc[i]"
     ],
     "language": "python",
     "metadata": {},
     "outputs": [
      {
       "output_type": "stream",
       "stream": "stdout",
       "text": [
        "Poorly predicted fresh review:\n",
        "    0 The gangland plot is flimsy (bad guy Peter Greene wears too much eyeliner), and the jokes are erratic, but it's a far better showcase for Carrey's comic-from-Uranus talent than Ace Ventura.\n",
        "    1 Some of the gags don't work, but fewer than in any previous Brooks film that I've seen, and when the jokes are meant to be bad, they are riotously poor. What more can one ask of Mel Brooks?\n",
        "    2 Garner and Jack Lemmon have enough charisma, and there are enough solid laughs, to mostly overcome My Fellow Americans' embarrassing moments and improbable ending.\n",
        "    3 There's too much talent and too strong a story to mess it up. There was potential for more here, but this incarnation is nothing to be ashamed of, and some of the actors answer the bell.\n",
        "    4 Though it's a good half hour too long, this overblown 1993 spin-off of the 60s TV show otherwise adds up to a pretty good suspense thriller.\n",
        "Poorly predicted rotten review:\n",
        "    0 The Waterboy is arguably Sandler's most enjoyable motion picture to date, but it's still far from a masterpiece.\n",
        "    1 It is sometimes funny in a puzzling kind of way, it is generally overwrought in an irritating kind of way, and once in a while it is inappropriately touching.\n",
        "    2 Though Russell is most impressive for his writing and his immensely witty direction of actors, Three Kings begins by placing its emphasis firmly elsewhere.\n",
        "    3 The thought that he may yet return for further adventures with his body and Lugosi's sconce fills us with mortal terror. That is the most fearful prospect which the picture manages to convey.\n",
        "    4 A lazily haullucinatory epic that means to encapsulate approximately 50 years of American social history into a single film.\n"
       ]
      }
     ],
     "prompt_number": 361
    },
    {
     "cell_type": "markdown",
     "metadata": {},
     "source": [
      "**4.3** What do you notice about these mis-predictions? Naive Bayes classifiers assume that every word affects the probability independently of other words. In what way is this a bad assumption? In your answer, report your classifier's Freshness probability for the review \"This movie is not remarkable, touching, or superb in any way\"."
     ]
    },
    {
     "cell_type": "code",
     "collapsed": false,
     "input": [
      "clf.predict_proba(vectorizer.transform(['This movie is not remarkable, touching, or superb in any way']))"
     ],
     "language": "python",
     "metadata": {},
     "outputs": [
      {
       "metadata": {},
       "output_type": "pyout",
       "prompt_number": 362,
       "text": [
        "array([[ 0.0303575,  0.9696425]])"
       ]
      }
     ],
     "prompt_number": 362
    },
    {
     "cell_type": "markdown",
     "metadata": {},
     "source": [
      "**4.4**\n",
      "If this was your final project, what are 3 things you would try in order to build a more effective review classifier? What other exploratory or explanatory visualizations do you think might be helpful?"
     ]
    },
    {
     "cell_type": "markdown",
     "metadata": {},
     "source": [
      "*Your answer here*"
     ]
    },
    {
     "cell_type": "markdown",
     "metadata": {},
     "source": [
      "### How to Submit\n",
      "\n",
      "Restart and run your notebook one last time, to make sure the output from each cell is up to date. To submit your homework, create a folder named lastname_firstinitial_hw3 and place your solutions in the folder. Double check that the file is still called HW3.ipynb, and that it contains your code. Please do **not** include the critics.csv data file, if you created one. Compress the folder (please use .zip compression) and submit to the CS109 dropbox in the appropriate folder. If we cannot access your work because these directions are not followed correctly, we will not grade your work!"
     ]
    },
    {
     "cell_type": "markdown",
     "metadata": {},
     "source": [
      "---\n",
      "*css tweaks in this cell*\n",
      "<style>\n",
      "div.text_cell_render {\n",
      "    line-height: 150%;\n",
      "    font-size: 110%;\n",
      "    width: 800px;\n",
      "    margin-left:50px;\n",
      "    margin-right:auto;\n",
      "    }\n",
      "</style>"
     ]
    }
   ],
   "metadata": {}
  }
 ]
}