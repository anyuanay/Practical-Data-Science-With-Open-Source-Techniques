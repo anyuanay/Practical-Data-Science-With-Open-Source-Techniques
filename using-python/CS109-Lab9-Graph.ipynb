{
 "metadata": {
  "name": "",
  "signature": "sha256:51b11a491fe672d82f9d08c3e6d3c768ee5e6f5450c0f47006b5eafd6ab15b6b"
 },
 "nbformat": 3,
 "nbformat_minor": 0,
 "worksheets": [
  {
   "cells": [
    {
     "cell_type": "heading",
     "level": 1,
     "metadata": {},
     "source": [
      "Lab 9 - Graphs & Networks\n"
     ]
    },
    {
     "cell_type": "markdown",
     "metadata": {},
     "source": [
      "In this lab we will do the following:\n",
      "\n",
      "0. Get a LinkedIn API key\n",
      "1. Use oauth2 to get an acceess token\n",
      "2. First we are going to download our own LinkedIn data using the LinkedIn API. \n",
      "3. Then we are exporting this data as a csv file to be able to import it into Gephi. \n",
      "4. Before starting Gephi we will do some network analysis directly in python\n",
      "5. We will analyze our data with the external tool Gephi\n",
      "\n",
      "You can download this notebook from [here](https://raw.github.com/cs109/content/master/labs/lab9/lab_9.ipynb)."
     ]
    },
    {
     "cell_type": "markdown",
     "metadata": {},
     "source": [
      "### 0. Install oauth2 package"
     ]
    },
    {
     "cell_type": "code",
     "collapsed": false,
     "input": [
      "!pip install oauth2\n",
      "!pip install unidecode"
     ],
     "language": "python",
     "metadata": {},
     "outputs": [
      {
       "output_type": "stream",
       "stream": "stdout",
       "text": [
        "Downloading/unpacking oauth2\r\n"
       ]
      },
      {
       "output_type": "stream",
       "stream": "stdout",
       "text": [
        "  Downloading oauth2-1.5.211.tar.gz\r\n"
       ]
      },
      {
       "output_type": "stream",
       "stream": "stdout",
       "text": [
        "  Running setup.py (path:/Users/yan/Library/Enthought/Canopy_64bit/User/build/oauth2/setup.py) egg_info for package oauth2\r\n"
       ]
      },
      {
       "output_type": "stream",
       "stream": "stdout",
       "text": [
        "    \r\n"
       ]
      },
      {
       "output_type": "stream",
       "stream": "stdout",
       "text": [
        "Downloading/unpacking httplib2 (from oauth2)\r\n"
       ]
      },
      {
       "output_type": "stream",
       "stream": "stdout",
       "text": [
        "  Downloading httplib2-0.9.tar.gz (204kB): \r",
        "  Downloading httplib2-0.9.tar.gz (204kB):   2%  4.1kB\r",
        "  Downloading httplib2-0.9.tar.gz (204kB):   4%  8.2kB\r",
        "  Downloading httplib2-0.9.tar.gz (204kB):   6%  12kB \r",
        "  Downloading httplib2-0.9.tar.gz (204kB):   8%  16kB\r",
        "  Downloading httplib2-0.9.tar.gz (204kB):  10%  20kB\r",
        "  Downloading httplib2-0.9.tar.gz (204kB):  12%  24kB\r",
        "  Downloading httplib2-0.9.tar.gz (204kB):  14%  28kB\r",
        "  Downloading httplib2-0.9.tar.gz (204kB):  16%  32kB\r",
        "  Downloading httplib2-0.9.tar.gz (204kB):  18%  36kB\r",
        "  Downloading httplib2-0.9.tar.gz (204kB):  20%  40kB"
       ]
      },
      {
       "output_type": "stream",
       "stream": "stdout",
       "text": [
        "\r",
        "  Downloading httplib2-0.9.tar.gz (204kB):  22%  45kB\r",
        "  Downloading httplib2-0.9.tar.gz (204kB):  24%  49kB\r",
        "  Downloading httplib2-0.9.tar.gz (204kB):  26%  53kB\r",
        "  Downloading httplib2-0.9.tar.gz (204kB):  28%  57kB\r",
        "  Downloading httplib2-0.9.tar.gz (204kB):  30%  61kB\r",
        "  Downloading httplib2-0.9.tar.gz (204kB):  32%  65kB\r",
        "  Downloading httplib2-0.9.tar.gz (204kB):  34%  69kB\r",
        "  Downloading httplib2-0.9.tar.gz (204kB):  36%  73kB\r",
        "  Downloading httplib2-0.9.tar.gz (204kB):  38%  77kB\r",
        "  Downloading httplib2-0.9.tar.gz (204kB):  40%  81kB\r",
        "  Downloading httplib2-0.9.tar.gz (204kB):  42%  86kB\r",
        "  Downloading httplib2-0.9.tar.gz (204kB):  44%  90kB\r",
        "  Downloading httplib2-0.9.tar.gz (204kB):  46%  94kB\r",
        "  Downloading httplib2-0.9.tar.gz (204kB):  48%  98kB"
       ]
      },
      {
       "output_type": "stream",
       "stream": "stdout",
       "text": [
        "\r",
        "  Downloading httplib2-0.9.tar.gz (204kB):  50%  102kB\r",
        "  Downloading httplib2-0.9.tar.gz (204kB):  52%  106kB\r",
        "  Downloading httplib2-0.9.tar.gz (204kB):  54%  110kB\r",
        "  Downloading httplib2-0.9.tar.gz (204kB):  56%  114kB\r",
        "  Downloading httplib2-0.9.tar.gz (204kB):  58%  118kB\r",
        "  Downloading httplib2-0.9.tar.gz (204kB):  60%  122kB\r",
        "  Downloading httplib2-0.9.tar.gz (204kB):  62%  126kB\r",
        "  Downloading httplib2-0.9.tar.gz (204kB):  64%  131kB\r",
        "  Downloading httplib2-0.9.tar.gz (204kB):  66%  135kB\r",
        "  Downloading httplib2-0.9.tar.gz (204kB):  68%  139kB\r",
        "  Downloading httplib2-0.9.tar.gz (204kB):  70%  143kB\r",
        "  Downloading httplib2-0.9.tar.gz (204kB):  72%  147kB\r",
        "  Downloading httplib2-0.9.tar.gz (204kB):  74%  151kB\r",
        "  Downloading httplib2-0.9.tar.gz (204kB):  76%  155kB\r",
        "  Downloading httplib2-0.9.tar.gz (204kB):  78%  159kB\r",
        "  Downloading httplib2-0.9.tar.gz (204kB):  80%  163kB\r",
        "  Downloading httplib2-0.9.tar.gz (204kB):  82%  167kB\r",
        "  Downloading httplib2-0.9.tar.gz (204kB):  84%  172kB\r",
        "  Downloading httplib2-0.9.tar.gz (204kB):  86%  176kB\r",
        "  Downloading httplib2-0.9.tar.gz (204kB):  88%  180kB\r",
        "  Downloading httplib2-0.9.tar.gz (204kB):  90%  184kB\r",
        "  Downloading httplib2-0.9.tar.gz (204kB):  92%  188kB\r",
        "  Downloading httplib2-0.9.tar.gz (204kB):  94%  192kB\r",
        "  Downloading httplib2-0.9.tar.gz (204kB):  96%  196kB"
       ]
      },
      {
       "output_type": "stream",
       "stream": "stdout",
       "text": [
        "\r",
        "  Downloading httplib2-0.9.tar.gz (204kB):  98%  200kB\r",
        "  Downloading httplib2-0.9.tar.gz (204kB): 100%  204kB\r",
        "  Downloading httplib2-0.9.tar.gz (204kB):            \r",
        "  Downloading httplib2-0.9.tar.gz (204kB): 204kB downloaded\r\n",
        "  Running setup.py (path:/Users/yan/Library/Enthought/Canopy_64bit/User/build/httplib2/setup.py) egg_info for package httplib2\r\n"
       ]
      },
      {
       "output_type": "stream",
       "stream": "stdout",
       "text": [
        "    \r\n"
       ]
      },
      {
       "output_type": "stream",
       "stream": "stdout",
       "text": [
        "Installing collected packages: oauth2, httplib2\r\n",
        "  Running setup.py install for oauth2\r\n"
       ]
      },
      {
       "output_type": "stream",
       "stream": "stdout",
       "text": [
        "    \r\n"
       ]
      },
      {
       "output_type": "stream",
       "stream": "stdout",
       "text": [
        "  Running setup.py install for httplib2\r\n"
       ]
      },
      {
       "output_type": "stream",
       "stream": "stdout",
       "text": [
        "    \r\n"
       ]
      },
      {
       "output_type": "stream",
       "stream": "stdout",
       "text": [
        "Successfully installed oauth2 httplib2\r\n",
        "Cleaning up...\r\n"
       ]
      },
      {
       "output_type": "stream",
       "stream": "stdout",
       "text": [
        "Downloading/unpacking unidecode\r\n"
       ]
      },
      {
       "output_type": "stream",
       "stream": "stdout",
       "text": [
        "  Downloading Unidecode-0.04.17.tar.gz (201kB): "
       ]
      },
      {
       "output_type": "stream",
       "stream": "stdout",
       "text": [
        "\r",
        "  Downloading Unidecode-0.04.17.tar.gz (201kB):   2%  4.1kB\r",
        "  Downloading Unidecode-0.04.17.tar.gz (201kB):   4%  8.2kB\r",
        "  Downloading Unidecode-0.04.17.tar.gz (201kB):   6%  12kB \r",
        "  Downloading Unidecode-0.04.17.tar.gz (201kB):   8%  16kB\r",
        "  Downloading Unidecode-0.04.17.tar.gz (201kB):  10%  20kB\r",
        "  Downloading Unidecode-0.04.17.tar.gz (201kB):  12%  24kB\r",
        "  Downloading Unidecode-0.04.17.tar.gz (201kB):  14%  28kB\r",
        "  Downloading Unidecode-0.04.17.tar.gz (201kB):  16%  32kB"
       ]
      },
      {
       "output_type": "stream",
       "stream": "stdout",
       "text": [
        "\r",
        "  Downloading Unidecode-0.04.17.tar.gz (201kB):  18%  36kB\r",
        "  Downloading Unidecode-0.04.17.tar.gz (201kB):  20%  40kB\r",
        "  Downloading Unidecode-0.04.17.tar.gz (201kB):  22%  45kB\r",
        "  Downloading Unidecode-0.04.17.tar.gz (201kB):  24%  49kB\r",
        "  Downloading Unidecode-0.04.17.tar.gz (201kB):  26%  53kB\r",
        "  Downloading Unidecode-0.04.17.tar.gz (201kB):  28%  57kB\r",
        "  Downloading Unidecode-0.04.17.tar.gz (201kB):  30%  61kB\r",
        "  Downloading Unidecode-0.04.17.tar.gz (201kB):  32%  65kB\r",
        "  Downloading Unidecode-0.04.17.tar.gz (201kB):  34%  69kB\r",
        "  Downloading Unidecode-0.04.17.tar.gz (201kB):  36%  73kB\r",
        "  Downloading Unidecode-0.04.17.tar.gz (201kB):  38%  77kB\r",
        "  Downloading Unidecode-0.04.17.tar.gz (201kB):  40%  81kB\r",
        "  Downloading Unidecode-0.04.17.tar.gz (201kB):  42%  86kB\r",
        "  Downloading Unidecode-0.04.17.tar.gz (201kB):  44%  90kB"
       ]
      },
      {
       "output_type": "stream",
       "stream": "stdout",
       "text": [
        "\r",
        "  Downloading Unidecode-0.04.17.tar.gz (201kB):  46%  94kB\r",
        "  Downloading Unidecode-0.04.17.tar.gz (201kB):  48%  98kB\r",
        "  Downloading Unidecode-0.04.17.tar.gz (201kB):  50%  102kB\r",
        "  Downloading Unidecode-0.04.17.tar.gz (201kB):  52%  106kB\r",
        "  Downloading Unidecode-0.04.17.tar.gz (201kB):  54%  110kB\r",
        "  Downloading Unidecode-0.04.17.tar.gz (201kB):  57%  114kB\r",
        "  Downloading Unidecode-0.04.17.tar.gz (201kB):  59%  118kB\r",
        "  Downloading Unidecode-0.04.17.tar.gz (201kB):  61%  122kB\r",
        "  Downloading Unidecode-0.04.17.tar.gz (201kB):  63%  126kB\r",
        "  Downloading Unidecode-0.04.17.tar.gz (201kB):  65%  131kB\r",
        "  Downloading Unidecode-0.04.17.tar.gz (201kB):  67%  135kB\r",
        "  Downloading Unidecode-0.04.17.tar.gz (201kB):  69%  139kB\r",
        "  Downloading Unidecode-0.04.17.tar.gz (201kB):  71%  143kB\r",
        "  Downloading Unidecode-0.04.17.tar.gz (201kB):  73%  147kB\r",
        "  Downloading Unidecode-0.04.17.tar.gz (201kB):  75%  151kB\r",
        "  Downloading Unidecode-0.04.17.tar.gz (201kB):  77%  155kB\r",
        "  Downloading Unidecode-0.04.17.tar.gz (201kB):  79%  159kB\r",
        "  Downloading Unidecode-0.04.17.tar.gz (201kB):  81%  163kB\r",
        "  Downloading Unidecode-0.04.17.tar.gz (201kB):  83%  167kB\r",
        "  Downloading Unidecode-0.04.17.tar.gz (201kB):  85%  172kB"
       ]
      },
      {
       "output_type": "stream",
       "stream": "stdout",
       "text": [
        "\r",
        "  Downloading Unidecode-0.04.17.tar.gz (201kB):  87%  176kB\r",
        "  Downloading Unidecode-0.04.17.tar.gz (201kB):  89%  180kB\r",
        "  Downloading Unidecode-0.04.17.tar.gz (201kB):  91%  184kB\r",
        "  Downloading Unidecode-0.04.17.tar.gz (201kB):  93%  188kB\r",
        "  Downloading Unidecode-0.04.17.tar.gz (201kB):  95%  192kB\r",
        "  Downloading Unidecode-0.04.17.tar.gz (201kB):  97%  196kB\r",
        "  Downloading Unidecode-0.04.17.tar.gz (201kB):  99%  200kB\r",
        "  Downloading Unidecode-0.04.17.tar.gz (201kB): 100%  201kB\r",
        "  Downloading Unidecode-0.04.17.tar.gz (201kB):            \r",
        "  Downloading Unidecode-0.04.17.tar.gz (201kB): 201kB downloaded\r\n"
       ]
      },
      {
       "output_type": "stream",
       "stream": "stdout",
       "text": [
        "  Running setup.py (path:/Users/yan/Library/Enthought/Canopy_64bit/User/build/unidecode/setup.py) egg_info for package unidecode\r\n"
       ]
      },
      {
       "output_type": "stream",
       "stream": "stdout",
       "text": [
        "    \r\n"
       ]
      },
      {
       "output_type": "stream",
       "stream": "stdout",
       "text": [
        "Installing collected packages: unidecode\r\n",
        "  Running setup.py install for unidecode\r\n"
       ]
      },
      {
       "output_type": "stream",
       "stream": "stdout",
       "text": [
        "    \r\n"
       ]
      },
      {
       "output_type": "stream",
       "stream": "stdout",
       "text": [
        "Successfully installed unidecode\r\n",
        "Cleaning up...\r\n"
       ]
      }
     ],
     "prompt_number": 1
    },
    {
     "cell_type": "code",
     "collapsed": false,
     "input": [
      "%matplotlib inline\n",
      "from collections import defaultdict\n",
      "import json\n",
      "\n",
      "import numpy as np\n",
      "import scipy as sp\n",
      "import matplotlib.pyplot as plt\n",
      "import pandas as pd\n",
      "\n",
      "from matplotlib import rcParams\n",
      "import matplotlib.cm as cm\n",
      "import matplotlib as mpl\n",
      "\n",
      "#colorbrewer2 Dark2 qualitative color table\n",
      "dark2_colors = [(0.10588235294117647, 0.6196078431372549, 0.4666666666666667),\n",
      "                (0.8509803921568627, 0.37254901960784315, 0.00784313725490196),\n",
      "                (0.4588235294117647, 0.4392156862745098, 0.7019607843137254),\n",
      "                (0.9058823529411765, 0.1607843137254902, 0.5411764705882353),\n",
      "                (0.4, 0.6509803921568628, 0.11764705882352941),\n",
      "                (0.9019607843137255, 0.6705882352941176, 0.00784313725490196),\n",
      "                (0.6509803921568628, 0.4627450980392157, 0.11372549019607843)]\n",
      "\n",
      "rcParams['figure.figsize'] = (10, 6)\n",
      "rcParams['figure.dpi'] = 150\n",
      "rcParams['axes.color_cycle'] = dark2_colors\n",
      "rcParams['lines.linewidth'] = 2\n",
      "rcParams['axes.facecolor'] = 'white'\n",
      "rcParams['font.size'] = 14\n",
      "rcParams['patch.edgecolor'] = 'white'\n",
      "rcParams['patch.facecolor'] = dark2_colors[0]\n",
      "rcParams['font.family'] = 'StixGeneral'\n",
      "\n",
      "\n",
      "def remove_border(axes=None, top=False, right=False, left=True, bottom=True):\n",
      "    \"\"\"\n",
      "    Minimize chartjunk by stripping out unnecesasry plot borders and axis ticks\n",
      "    \n",
      "    The top/right/left/bottom keywords toggle whether the corresponding plot border is drawn\n",
      "    \"\"\"\n",
      "    ax = axes or plt.gca()\n",
      "    ax.spines['top'].set_visible(top)\n",
      "    ax.spines['right'].set_visible(right)\n",
      "    ax.spines['left'].set_visible(left)\n",
      "    ax.spines['bottom'].set_visible(bottom)\n",
      "    \n",
      "    #turn off all ticks\n",
      "    ax.yaxis.set_ticks_position('none')\n",
      "    ax.xaxis.set_ticks_position('none')\n",
      "    \n",
      "    #now re-enable visibles\n",
      "    if top:\n",
      "        ax.xaxis.tick_top()\n",
      "    if bottom:\n",
      "        ax.xaxis.tick_bottom()\n",
      "    if left:\n",
      "        ax.yaxis.tick_left()\n",
      "    if right:\n",
      "        ax.yaxis.tick_right()\n",
      "        \n",
      "pd.set_option('display.width', 500)\n",
      "pd.set_option('display.max_columns', 100)\n",
      "\n",
      "    "
     ],
     "language": "python",
     "metadata": {},
     "outputs": [],
     "prompt_number": 2
    },
    {
     "cell_type": "markdown",
     "metadata": {},
     "source": [
      "### 1. Get API key\n",
      "\n",
      "Get a LinkedIn API key at http://developer.linkedin.com/documents/authentication (choose r_network)\n",
      "\n",
      "Save your authentication:\n"
     ]
    },
    {
     "cell_type": "code",
     "collapsed": false,
     "input": [
      "#Johanna\n",
      "\n",
      "#user_token = '6a516d33-786e-443c-b6e9-def654f88098'\n",
      "#user_secret = 'c03c49da-9dae-4b05-a2af-82e40426439f'\n",
      "\n",
      "#api_key = 'xpsswsigqw4r'\n",
      "#secret_key = 'aIRpJHhA8JHTRsyb'\n",
      "\n",
      "#Alex\n",
      "\n",
      "#api_key = 'g8lq60ilatfh'\n",
      "#secret_key = 'XEOmeklHWHtmwgoQ'\n",
      "\n",
      "#user_token = 'a8991ba6-9a27-40d7-ac6f-9280cc1dc650'\n",
      "#user_secret = '43a11017-c1f3-4c30-afab-43df3c39b938'\n",
      "\n",
      "#Nicolas\n",
      "\n",
      "#user_token = 'd41f3e0c-6bb9-4db8-b324-25a723ff2f50'\n",
      "#user_secret = 'fc66e892-6f92-4e15-b9a9-b0cccbec5336'\n",
      "\n",
      "#api_key = 'kg7oy496e09a'\n",
      "#secret_key = 'oLCLRNxVjt8ZY6OE'\n",
      "\n",
      "api_key = '770bwc5pkfnc1w'\n",
      "secret_key = 'cRK2SJ3LRETUsjY7'\n",
      "\n",
      "user_token = '1b0c7848-851c-48a9-8d9c-0790f993f944'\n",
      "user_secret = '43f835a5-c349-46ef-93e5-3fce2d81a250'\n"
     ],
     "language": "python",
     "metadata": {},
     "outputs": [],
     "prompt_number": 3
    },
    {
     "cell_type": "markdown",
     "metadata": {},
     "source": [
      "### 2. Get Access Token\n",
      "\n",
      "Next we are scraping our data using the LinkedIn API. (Code for using the LinkedIn API is taken and adjusted from http://dataiku.com/blog/2012/12/07/visualizing-your-linkedin-graph-using-gephi-part-1.html).\n"
     ]
    },
    {
     "cell_type": "code",
     "collapsed": false,
     "input": [
      "import oauth2 as oauth\n",
      "import urlparse\n",
      "        \n",
      "def request_token(consumer):\n",
      "    client = oauth.Client(consumer)\n",
      "    request_token_url = 'https://api.linkedin.com/uas/oauth/requestToken?scope=r_network'\n",
      "    resp, content = client.request(request_token_url, \"POST\")\n",
      "    if resp['status'] != '200':\n",
      "        raise Exception(\"Invalid response %s.\" % resp['status'])\n",
      "    request_token = dict(urlparse.parse_qsl(content))\n",
      "    return request_token\n",
      "\n",
      "consumer = oauth.Consumer(api_key, secret_key)\n",
      "r_token = request_token(consumer)\n",
      "print \"Request Token: oauth_token: %s, oauth_token_secret: %s\" % (r_token['oauth_token'], r_token['oauth_token_secret'])\n",
      " "
     ],
     "language": "python",
     "metadata": {},
     "outputs": [
      {
       "output_type": "stream",
       "stream": "stdout",
       "text": [
        "Request Token: oauth_token: 77--d125aed2-c376-47e7-9e8f-47a2b4f469f0, oauth_token_secret: e58b1d53-4eb0-4664-b3dd-b0d1cb8d70d9\n"
       ]
      }
     ],
     "prompt_number": 5
    },
    {
     "cell_type": "code",
     "collapsed": false,
     "input": [
      "def authorize(request_token):\n",
      "    authorize_url ='https://api.linkedin.com/uas/oauth/authorize'\n",
      "    print \"Go to the following link in your browser:\"\n",
      "    print \"%s?oauth_token=%s\" % (authorize_url, request_token['oauth_token'])\n",
      "    print\n",
      "    accepted = 'n'\n",
      "    while accepted.lower() == 'n':\n",
      "        accepted = raw_input('Have you authorized me? (y/n) ')\n",
      "    oauth_verifier = raw_input('What is the PIN? ')\n",
      "    return oauth_verifier\n",
      "  \n",
      "oauth_verifier = authorize(r_token)"
     ],
     "language": "python",
     "metadata": {},
     "outputs": [
      {
       "output_type": "stream",
       "stream": "stdout",
       "text": [
        "Go to the following link in your browser:\n",
        "https://api.linkedin.com/uas/oauth/authorize?oauth_token=77--d125aed2-c376-47e7-9e8f-47a2b4f469f0\n",
        "\n"
       ]
      },
      {
       "name": "stdout",
       "output_type": "stream",
       "stream": "stdout",
       "text": [
        "Have you authorized me? (y/n) y\n"
       ]
      },
      {
       "name": "stdout",
       "output_type": "stream",
       "stream": "stdout",
       "text": [
        "What is the PIN? 74927\n"
       ]
      }
     ],
     "prompt_number": 6
    },
    {
     "cell_type": "code",
     "collapsed": false,
     "input": [
      "def access(consumer, request_token, oauth_verifier):\n",
      "    access_token_url = 'https://api.linkedin.com/uas/oauth/accessToken'\n",
      "    token = oauth.Token(request_token['oauth_token'], request_token['oauth_token_secret'])\n",
      "    token.set_verifier(oauth_verifier)\n",
      "    client = oauth.Client(consumer, token)\n",
      "    resp, content = client.request(access_token_url, \"POST\")\n",
      "    access_token = dict(urlparse.parse_qsl(content))\n",
      "    return access_token\n",
      "          \n",
      "a_token = access(consumer, r_token, oauth_verifier)\n",
      "print a_token\n",
      "print \"Access Token: oauth_token = %s, oauth_token_secret = %s\" % (a_token['oauth_token'], a_token['oauth_token_secret'])\n",
      "print \"You may now access protected resources using the access tokens above.\""
     ],
     "language": "python",
     "metadata": {},
     "outputs": [
      {
       "output_type": "stream",
       "stream": "stdout",
       "text": [
        "{'oauth_token_secret': 'c25ce31f-00c0-448e-969f-54ab4ad9b5cb', 'oauth_authorization_expires_in': '5183907', 'oauth_token': '191e4a89-7c2e-42ce-8464-f114c11bb482', 'oauth_expires_in': '5183907'}\n",
        "Access Token: oauth_token = 191e4a89-7c2e-42ce-8464-f114c11bb482, oauth_token_secret = c25ce31f-00c0-448e-969f-54ab4ad9b5cb\n",
        "You may now access protected resources using the access tokens above.\n"
       ]
      }
     ],
     "prompt_number": 7
    },
    {
     "cell_type": "code",
     "collapsed": false,
     "input": [
      "consumer = oauth.Consumer(api_key, secret_key)\n",
      "\n",
      "r_token = request_token(consumer)\n",
      "print \"Request Token: oauth_token: %s, oauth_token_secret: %s\" % (r_token['oauth_token'], r_token['oauth_token_secret'])\n",
      "\n",
      "oauth_verifier = authorize(r_token)\n",
      "\n",
      "a_token = access(consumer, r_token, oauth_verifier)\n",
      "print a_token\n",
      "print \"Access Token: oauth_token = %s, oauth_token_secret = %s\" % (a_token['oauth_token'], a_token['oauth_token_secret'])\n",
      "print \"You may now access protected resources using the access tokens above.\""
     ],
     "language": "python",
     "metadata": {},
     "outputs": [
      {
       "output_type": "stream",
       "stream": "stdout",
       "text": [
        "Request Token: oauth_token: 77--e900c910-137a-4d40-b906-cda3b8beb6d6, oauth_token_secret: 7e4f6cc4-146b-4fab-9881-a7c6b31aa9b5\n",
        "Go to the following link in your browser:\n",
        "https://api.linkedin.com/uas/oauth/authorize?oauth_token=77--e900c910-137a-4d40-b906-cda3b8beb6d6\n",
        "\n"
       ]
      },
      {
       "name": "stdout",
       "output_type": "stream",
       "stream": "stdout",
       "text": [
        "Have you authorized me? (y/n) y\n"
       ]
      },
      {
       "name": "stdout",
       "output_type": "stream",
       "stream": "stdout",
       "text": [
        "What is the PIN? 03596\n"
       ]
      },
      {
       "output_type": "stream",
       "stream": "stdout",
       "text": [
        "{'oauth_token_secret': 'c25ce31f-00c0-448e-969f-54ab4ad9b5cb', 'oauth_authorization_expires_in': '5183983', 'oauth_token': '191e4a89-7c2e-42ce-8464-f114c11bb482', 'oauth_expires_in': '5183983'}\n",
        "Access Token: oauth_token = 191e4a89-7c2e-42ce-8464-f114c11bb482, oauth_token_secret = c25ce31f-00c0-448e-969f-54ab4ad9b5cb\n",
        "You may now access protected resources using the access tokens above.\n"
       ]
      }
     ],
     "prompt_number": 9
    },
    {
     "cell_type": "markdown",
     "metadata": {},
     "source": [
      "### 3. Get data, clean it and store to disk"
     ]
    },
    {
     "cell_type": "code",
     "collapsed": false,
     "input": [
      "import simplejson\n",
      "import codecs\n",
      " \n",
      "output_file = 'linkedIn_links.csv'\n",
      "my_name = 'Yuan An'\n",
      " \n",
      "def linkedin_connections():\n",
      "    # Use your credentials to build the oauth client\n",
      "    consumer = oauth.Consumer(key=api_key, secret=secret_key)\n",
      "    token = oauth.Token(key=a_token['oauth_token'], secret=a_token['oauth_token_secret'])\n",
      "    client = oauth.Client(consumer, token)\n",
      "    \n",
      "    # Fetch first degree connections\n",
      "    resp, content = client.request('http://api.linkedin.com/v1/people/~/connections?format=json')\n",
      "    results = simplejson.loads(content)\n",
      "    \n",
      "    # File that will store the results\n",
      "    output = codecs.open(output_file, 'w', 'utf-8')\n",
      "    \n",
      "    # Loop through the 1st degree connection and see how they connect to each other\n",
      "    for result in results[\"values\"]:\n",
      "        con = \"%s %s\" % (result[\"firstName\"].replace(\",\", \" \"), result[\"lastName\"].replace(\",\", \" \"))\n",
      "        print >>output, \"%s,%s\" % (my_name, con)\n",
      "        # This is the trick, use the search API to get related connections\n",
      "        u = \"https://api.linkedin.com/v1/people/%s:(relation-to-viewer:(related-connections))?format=json\" % result[\"id\"]\n",
      "        resp, content = client.request(u)\n",
      "        rels = simplejson.loads(content)\n",
      "        try:\n",
      "            for rel in rels['relationToViewer']['relatedConnections']['values']:\n",
      "                sec = \"%s %s\" % (rel[\"firstName\"].replace(\",\", \" \"), rel[\"lastName\"].replace(\",\", \" \"))\n",
      "                print >>output, \"%s,%s\" % (con, sec)\n",
      "        except:\n",
      "            pass\n",
      "\n",
      "linkedin_connections()"
     ],
     "language": "python",
     "metadata": {},
     "outputs": [],
     "prompt_number": 11
    },
    {
     "cell_type": "code",
     "collapsed": true,
     "input": [
      "from operator import itemgetter\n",
      "from unidecode import unidecode\n",
      " \n",
      "clean_output_file = 'linkedIn_links_clean.csv'\n",
      " \n",
      "def stringify(chain):\n",
      "    # Simple utility to build the nodes labels\n",
      "    allowed = '0123456789abcdefghijklmnopqrstuvwxyz_'\n",
      "    c = unidecode(chain.strip().lower().replace(' ', '_'))\n",
      "    return ''.join([letter for letter in c if letter in allowed])\n",
      " \n",
      " \n",
      "def clean(f_input, f_output):\n",
      "    output = open(f_output, 'w')\n",
      "    # Store the edges inside a set for dedup\n",
      "    edges = set()\n",
      "    for line in codecs.open(f_input, 'r', 'utf-8'):\n",
      "        from_person, to_person = line.strip().split(',')\n",
      "        _f = stringify(from_person)\n",
      "        _t = stringify(to_person)\n",
      "        # Reorder the edge tuple\n",
      "        _e = tuple(sorted((_f, _t), key=itemgetter(0, 1)))\n",
      "        edges.add(_e)\n",
      "    for edge in edges:\n",
      "        print >>output, '%s,%s' % (edge[0], edge[1])\n",
      " \n",
      "clean(output_file, clean_output_file)"
     ],
     "language": "python",
     "metadata": {},
     "outputs": [],
     "prompt_number": 12
    },
    {
     "cell_type": "markdown",
     "metadata": {},
     "source": [
      "When you have run these cells you have a 'linkedIn_links_clean.csv' file in the directory of your notebook, that is compatible with gephi. **If you don't have a LinkedIn account or think your network is boring you can use one of ours which you can get [here](https://raw.github.com/cs109/content/master/labs/lab9/linkedin_alexander_lex.csv).**\n",
      "\n",
      "## 4. Network Analysis with Gephi\n",
      "\n",
      "### Installation\n",
      "\n",
      "Gephi requires Java to run, at least a JRE of version 6. To check if you have java installed, open a console and run\n",
      "\n",
      "```\n",
      "$ java -version\n",
      "java version \"1.7.0_25\"\n",
      "OpenJDK Runtime Environment (IcedTea 2.3.12) (7u25-2.3.12-4ubuntu3)\n",
      "OpenJDK 64-Bit Server VM (build 23.7-b01, mixed mode)\n",
      "```\n",
      "\n",
      "If you don't have java or only an outdated version, go [here](http://www.oracle.com/technetwork/java/javase/downloads/jdk7-downloads-1880260.html) to download it.\n",
      "\n",
      "To install gephi, [download](http://gephi.org/users/download/) it and follow these [installation instructions](http://gephi.org/users/install/).\n",
      "\n",
      "### Analysis\n",
      "\n",
      "The analysis with a GUI based tool is hard to convey in an IPython Notebook ;). If you don't want to watch the video, here is the [Gephi Quick Start guide](http://gephi.org/users/quick-start/). \n",
      "\n",
      "Here are the things we are doing:\n",
      "\n",
      "  * Applying a force directed layout with increased repulsion strength\n",
      "  * Remove yourself, explore shortest paths between partners\n",
      "  * Run force-directed again\n",
      "  * Calculating a PageRank \n",
      "  * Color nodes by PageRank\n",
      "  * Trying a couple of other statistics\n",
      "  * Size by PageRank\n",
      "  * Filter by Topology, Degree\n",
      "  * \"Cluster\" by running Modularity. Try different parameters. \n",
      "  * Highlight via \"Partition\"\n",
      " \n",
      " \n",
      "\n",
      "\n",
      "\n"
     ]
    },
    {
     "cell_type": "code",
     "collapsed": false,
     "input": [],
     "language": "python",
     "metadata": {},
     "outputs": []
    },
    {
     "cell_type": "markdown",
     "metadata": {},
     "source": [
      "# Page Rank\n",
      "\n",
      "## Method\n",
      "\n",
      "We'll show during this lab that the PageRank basically amounts to computing the largest eigen vector of a stochastic matrix, which can be done via the power iteration method.\n",
      "\n",
      "Now, code it on your LinkedIn network!"
     ]
    },
    {
     "cell_type": "code",
     "collapsed": false,
     "input": [
      "import csv\n",
      "from collections import defaultdict\n",
      "\n",
      "pairlist=[]\n",
      "connections=defaultdict(list)\n",
      "userset=set()\n",
      "\n",
      "with open('linkedIn_links_clean.csv', 'rb') as csvfile:\n",
      "    allrows = csv.reader(csvfile, delimiter=',')\n",
      "    for row in allrows:\n",
      "#        if ((row[0]=='your_name') | (row[1]=='your_name')): continue   # exclude yourself ?\n",
      "        pairlist.append((row[0], row[1]))\n",
      "        connections[row[0]].append(row[1])\n",
      "        connections[row[1]].append(row[0])\n",
      "        userset.add(row[0])\n",
      "        userset.add(row[1])\n",
      "        \n",
      "## Actual algorithm starts here        \n",
      "        \n",
      "## display the pagerank\n"
     ],
     "language": "python",
     "metadata": {},
     "outputs": [],
     "prompt_number": 13
    },
    {
     "cell_type": "markdown",
     "metadata": {},
     "source": [
      "\n",
      "## and now, with NetworkX !\n",
      "\n"
     ]
    },
    {
     "cell_type": "code",
     "collapsed": false,
     "input": [
      "import networkx as nx\n",
      "import matplotlib.pyplot as plt\n",
      "import matplotlib\n",
      "import math\n",
      "\n",
      "g = nx.Graph()\n",
      "\n",
      "remove_me = False\n",
      "\n",
      "for user in userset:\n",
      "    if remove_me & (user=='your_name'): continue\n",
      "    g.add_node(user)\n",
      " \n",
      "for user in userset:   \n",
      "    if remove_me & (user=='your_name'): continue\n",
      "    nconnec = 0\n",
      "    for connection in connections[user]:\n",
      "        if remove_me & (connection=='your_name'): continue\n",
      "        g.add_edge(user, connection, weight = 1)\n",
      "        nconnec+=1\n",
      "    if remove_me & (nconnec==0):\n",
      "        g.remove_node(user)\n",
      "    \n",
      "        \n",
      "pagerank_nx = nx.pagerank_scipy(g)        \n",
      "        \n",
      "color = [(min(pagerank_nx[n]*30.,1),min(pagerank_nx[n]*30.,1), min(pagerank_nx[n]*30.,1)) for n in pagerank_nx]\n",
      "pos = nx.spring_layout(g,  iterations=100)\n",
      "nx.draw_networkx_edges(g, pos, width=1, alpha=0.4)\n",
      "nx.draw_networkx_nodes(g, pos, node_color=color, node_size=100, alpha=1, linewidths =0.5)\n",
      "#lbls = nx.draw_networkx_labels(g, pos) \n",
      "\n",
      "plt.show()\n"
     ],
     "language": "python",
     "metadata": {},
     "outputs": [
      {
       "metadata": {},
       "output_type": "display_data",
       "png": "[encoded data removed]",
       "text": [
        "<matplotlib.figure.Figure at 0x1100c8990>"
       ]
      }
     ],
     "prompt_number": 14
    },
    {
     "cell_type": "code",
     "collapsed": false,
     "input": [
      "# checks whether we have the same, or similar, pageranks\n",
      "sorted_pr = sorted(pagerank_nx.iteritems(), reverse=True, key=lambda (k,v): v)\n",
      "print sorted_pr[:10]"
     ],
     "language": "python",
     "metadata": {},
     "outputs": [
      {
       "output_type": "stream",
       "stream": "stdout",
       "text": [
        "[('yuan_an', 0.11319598493515311), ('chris_yang', 0.014391945541025929), ('private_private', 0.012987424830246012), ('marie_fazio', 0.009657028856718073), ('ilyeol_song', 0.008701548864276541), ('david_fenske', 0.008279609894185594), ('brenda_sheridan__ed_d', 0.00808426458670793), ('eric_yu', 0.006905175641296159), ('michael_khoo', 0.006267293577161684), ('toni_carbo', 0.006218015593147526)]\n"
       ]
      }
     ],
     "prompt_number": 15
    },
    {
     "cell_type": "markdown",
     "metadata": {},
     "source": [
      "A few stats about your network:"
     ]
    },
    {
     "cell_type": "code",
     "collapsed": false,
     "input": [
      "# your number of connection\n",
      "print 'my degree is: ', g.degree('yuan_an'), '\\n'\n",
      "\n",
      "# diameter = maximum nb of edges between 2 nodes = always 2 in this case\n",
      "print 'the graph diameter is: ',nx.diameter(g), '\\n'\n",
      "\n",
      "#center : surprising ?\n",
      "print 'the center is: ',nx.center(g), '\\n'\n",
      "\n",
      "# number  of clique communities  of 5 nodes\n",
      "print 'there are ', len(list(nx.k_clique_communities(g, 5))),'clique communities\\n'\n",
      "\n",
      "\n",
      "# most influential ?\n",
      "print 'degree: ', g.degree(sorted_pr[2]),'\\n'\n",
      "\n",
      "print 'shortest path between Hanspeter and a friend', nx.shortest_path(g,source='david_fenske',target='eric_yu'),'\\n'\n",
      "\n"
     ],
     "language": "python",
     "metadata": {},
     "outputs": [
      {
       "output_type": "stream",
       "stream": "stdout",
       "text": [
        " my degree is:  354 \n",
        "\n",
        "the graph diameter is:  "
       ]
      },
      {
       "output_type": "stream",
       "stream": "stdout",
       "text": [
        "4 \n",
        "\n",
        "the center is:  "
       ]
      },
      {
       "output_type": "stream",
       "stream": "stdout",
       "text": [
        "['yuan_an'] \n",
        "\n",
        "there are  12 clique communities\n",
        "\n",
        "degree:  {'private_private': 54} \n",
        "\n",
        "shortest path between Hanspeter and a friend ['david_fenske', 'yuan_an', 'eric_yu'] \n",
        "\n"
       ]
      }
     ],
     "prompt_number": 17
    },
    {
     "cell_type": "code",
     "collapsed": false,
     "input": [],
     "language": "python",
     "metadata": {},
     "outputs": []
    }
   ],
   "metadata": {}
  }
 ]
}